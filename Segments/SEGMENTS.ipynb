{
 "cells": [
  {
   "cell_type": "markdown",
   "id": "06849a24",
   "metadata": {},
   "source": [
    "# Customer segmentation (EDA + clustering)\n",
    "\n",
    "## About the project\n",
    "\n",
    "This project came to life when I saw a job offer from Wolt company online. I didn't have time to apply then since it was the last day and instead decided to make this assigment into my portfolio project. The following section is the real assignment for the Data Analyst Intern job application.\n",
    "\n",
    "### Assignment for Data Analyst Intern, Wolt Market team"
   ]
  },
  {
   "cell_type": "markdown",
   "id": "a30bb249",
   "metadata": {},
   "source": [
    "Attached to this message you’ll find a CSV file with some machine-generated user data of a\n",
    "service like Wolt. Every row of the dataset represents one customer who has registered to use\n",
    "the service during September 2019 and either has or hasn’t made orders during the time from\n",
    "then and October 2020.\n",
    "\n",
    "Your assignment is to\n",
    "* create a user segmentation that helps Wolt understand what type of users we have\n",
    "* familiarize yourself with the dataset and show us your excellent exploratory data analysis skills\n",
    "* Remember to justify your segmentation approach so that we understand why the way you did it is better than an arbitrary solution by a non-data analyst who can do some slicing-and-dicing with the data.\n",
    "\n",
    "### Our expectations\n",
    "\n",
    "At Wolt we use Python or R for notebooks and we expect you to return the rendered notebook\n",
    "alongside the code used for the analysis. Make sure we can run and view your solution on\n",
    "MacOS and Linux.\n",
    "In addition to the notebook used to solve the assignment, please include a separate supporting\n",
    "presentation that highlights the main steps of the analysis and communicates your findings. As\n",
    "a further guideline, the presentation should be self-sufficient for us to follow your thought\n",
    "process when solving the assignment: Please explain why you decided to go with this\n",
    "particular approach and what could be the pros and cons of applying it."
   ]
  },
  {
   "cell_type": "markdown",
   "id": "fdbab7f5",
   "metadata": {},
   "source": [
    "---"
   ]
  },
  {
   "cell_type": "markdown",
   "id": "c153af49",
   "metadata": {},
   "source": [
    "\n",
    "## Process description\n",
    "    \n",
    "1. Load the data\n",
    "2. Prepare the data\n",
    "3. Segmentation \n",
    "- By country (this is currently done with one country only but is easily applied to any other country)\n",
    "- RFM model\n",
    "4. K-means clustering"
   ]
  },
  {
   "cell_type": "markdown",
   "id": "cba69a21",
   "metadata": {},
   "source": [
    "## Getting to know the data"
   ]
  },
  {
   "cell_type": "code",
   "execution_count": 1,
   "id": "f9aa25e7",
   "metadata": {},
   "outputs": [],
   "source": [
    "# imports\n",
    "import pandas as pd\n",
    "import missingno as msno \n",
    "import seaborn as sns\n",
    "import numpy as np\n",
    "import re\n",
    "from matplotlib import pyplot as plt\n",
    "from ast import literal_eval\n",
    "import warnings\n",
    "warnings.filterwarnings('ignore')"
   ]
  },
  {
   "cell_type": "code",
   "execution_count": 2,
   "id": "1e498259",
   "metadata": {
    "scrolled": true
   },
   "outputs": [
    {
     "data": {
      "text/html": [
       "<div>\n",
       "<style scoped>\n",
       "    .dataframe tbody tr th:only-of-type {\n",
       "        vertical-align: middle;\n",
       "    }\n",
       "\n",
       "    .dataframe tbody tr th {\n",
       "        vertical-align: top;\n",
       "    }\n",
       "\n",
       "    .dataframe thead th {\n",
       "        text-align: right;\n",
       "    }\n",
       "</style>\n",
       "<table border=\"1\" class=\"dataframe\">\n",
       "  <thead>\n",
       "    <tr style=\"text-align: right;\">\n",
       "      <th></th>\n",
       "      <th>REGISTRATION_DATE</th>\n",
       "      <th>REGISTRATION_COUNTRY</th>\n",
       "      <th>PURCHASE_COUNT</th>\n",
       "      <th>PURCHASE_COUNT_DELIVERY</th>\n",
       "      <th>PURCHASE_COUNT_TAKEAWAY</th>\n",
       "      <th>FIRST_PURCHASE_DAY</th>\n",
       "      <th>LAST_PURCHASE_DAY</th>\n",
       "      <th>USER_ID</th>\n",
       "      <th>BREAKFAST_PURCHASES</th>\n",
       "      <th>LUNCH_PURCHASES</th>\n",
       "      <th>...</th>\n",
       "      <th>WEB_PURCHASES</th>\n",
       "      <th>ANDROID_PURCHASES</th>\n",
       "      <th>PREFERRED_RESTAURANT_TYPES</th>\n",
       "      <th>USER_HAS_VALID_PAYMENT_METHOD</th>\n",
       "      <th>MOST_COMMON_HOUR_OF_THE_DAY_TO_PURCHASE</th>\n",
       "      <th>MOST_COMMON_WEEKDAY_TO_PURCHASE</th>\n",
       "      <th>AVG_DAYS_BETWEEN_PURCHASES</th>\n",
       "      <th>MEDIAN_DAYS_BETWEEN_PURCHASES</th>\n",
       "      <th>AVERAGE_DELIVERY_DISTANCE_KMS</th>\n",
       "      <th>PURCHASE_COUNT_BY_STORE_TYPE</th>\n",
       "    </tr>\n",
       "  </thead>\n",
       "  <tbody>\n",
       "    <tr>\n",
       "      <th>0</th>\n",
       "      <td>2019-09-01 00:00:00.000</td>\n",
       "      <td>DNK</td>\n",
       "      <td>0</td>\n",
       "      <td>NaN</td>\n",
       "      <td>NaN</td>\n",
       "      <td>NaN</td>\n",
       "      <td>NaN</td>\n",
       "      <td>1</td>\n",
       "      <td>NaN</td>\n",
       "      <td>NaN</td>\n",
       "      <td>...</td>\n",
       "      <td>NaN</td>\n",
       "      <td>NaN</td>\n",
       "      <td>NaN</td>\n",
       "      <td>False</td>\n",
       "      <td>NaN</td>\n",
       "      <td>NaN</td>\n",
       "      <td>NaN</td>\n",
       "      <td>NaN</td>\n",
       "      <td>NaN</td>\n",
       "      <td>{\\n  \"General merchandise\": 0,\\n  \"Grocery\": 0...</td>\n",
       "    </tr>\n",
       "    <tr>\n",
       "      <th>1</th>\n",
       "      <td>2019-09-01 00:00:00.000</td>\n",
       "      <td>FIN</td>\n",
       "      <td>1</td>\n",
       "      <td>1.00</td>\n",
       "      <td>0.00</td>\n",
       "      <td>2020-09-02 00:00:00.000</td>\n",
       "      <td>2020-09-02 00:00:00.000</td>\n",
       "      <td>2</td>\n",
       "      <td>0.00</td>\n",
       "      <td>1.00</td>\n",
       "      <td>...</td>\n",
       "      <td>0.00</td>\n",
       "      <td>1.00</td>\n",
       "      <td>NaN</td>\n",
       "      <td>False</td>\n",
       "      <td>23.00</td>\n",
       "      <td>2.00</td>\n",
       "      <td>NaN</td>\n",
       "      <td>NaN</td>\n",
       "      <td>6.85</td>\n",
       "      <td>{\\n  \"General merchandise\": 0,\\n  \"Grocery\": 0...</td>\n",
       "    </tr>\n",
       "    <tr>\n",
       "      <th>2</th>\n",
       "      <td>2019-09-01 00:00:00.000</td>\n",
       "      <td>DNK</td>\n",
       "      <td>19</td>\n",
       "      <td>19.00</td>\n",
       "      <td>0.00</td>\n",
       "      <td>2019-12-10 00:00:00.000</td>\n",
       "      <td>2020-05-25 00:00:00.000</td>\n",
       "      <td>3</td>\n",
       "      <td>0.00</td>\n",
       "      <td>4.00</td>\n",
       "      <td>...</td>\n",
       "      <td>19.00</td>\n",
       "      <td>0.00</td>\n",
       "      <td>NaN</td>\n",
       "      <td>True</td>\n",
       "      <td>21.00</td>\n",
       "      <td>2.00</td>\n",
       "      <td>9.00</td>\n",
       "      <td>3.00</td>\n",
       "      <td>6.56</td>\n",
       "      <td>{\\n  \"General merchandise\": 1,\\n  \"Grocery\": 9...</td>\n",
       "    </tr>\n",
       "    <tr>\n",
       "      <th>3</th>\n",
       "      <td>2019-09-01 00:00:00.000</td>\n",
       "      <td>FIN</td>\n",
       "      <td>0</td>\n",
       "      <td>NaN</td>\n",
       "      <td>NaN</td>\n",
       "      <td>NaN</td>\n",
       "      <td>NaN</td>\n",
       "      <td>4</td>\n",
       "      <td>NaN</td>\n",
       "      <td>NaN</td>\n",
       "      <td>...</td>\n",
       "      <td>NaN</td>\n",
       "      <td>NaN</td>\n",
       "      <td>NaN</td>\n",
       "      <td>False</td>\n",
       "      <td>NaN</td>\n",
       "      <td>NaN</td>\n",
       "      <td>NaN</td>\n",
       "      <td>NaN</td>\n",
       "      <td>NaN</td>\n",
       "      <td>{\\n  \"General merchandise\": 0,\\n  \"Grocery\": 0...</td>\n",
       "    </tr>\n",
       "    <tr>\n",
       "      <th>4</th>\n",
       "      <td>2019-09-01 00:00:00.000</td>\n",
       "      <td>GRC</td>\n",
       "      <td>0</td>\n",
       "      <td>NaN</td>\n",
       "      <td>NaN</td>\n",
       "      <td>NaN</td>\n",
       "      <td>NaN</td>\n",
       "      <td>5</td>\n",
       "      <td>NaN</td>\n",
       "      <td>NaN</td>\n",
       "      <td>...</td>\n",
       "      <td>NaN</td>\n",
       "      <td>NaN</td>\n",
       "      <td>NaN</td>\n",
       "      <td>False</td>\n",
       "      <td>NaN</td>\n",
       "      <td>NaN</td>\n",
       "      <td>NaN</td>\n",
       "      <td>NaN</td>\n",
       "      <td>NaN</td>\n",
       "      <td>{\\n  \"General merchandise\": 0,\\n  \"Grocery\": 0...</td>\n",
       "    </tr>\n",
       "  </tbody>\n",
       "</table>\n",
       "<p>5 rows × 30 columns</p>\n",
       "</div>"
      ],
      "text/plain": [
       "         REGISTRATION_DATE REGISTRATION_COUNTRY  PURCHASE_COUNT  \\\n",
       "0  2019-09-01 00:00:00.000                  DNK               0   \n",
       "1  2019-09-01 00:00:00.000                  FIN               1   \n",
       "2  2019-09-01 00:00:00.000                  DNK              19   \n",
       "3  2019-09-01 00:00:00.000                  FIN               0   \n",
       "4  2019-09-01 00:00:00.000                  GRC               0   \n",
       "\n",
       "   PURCHASE_COUNT_DELIVERY  PURCHASE_COUNT_TAKEAWAY       FIRST_PURCHASE_DAY  \\\n",
       "0                      NaN                      NaN                      NaN   \n",
       "1                     1.00                     0.00  2020-09-02 00:00:00.000   \n",
       "2                    19.00                     0.00  2019-12-10 00:00:00.000   \n",
       "3                      NaN                      NaN                      NaN   \n",
       "4                      NaN                      NaN                      NaN   \n",
       "\n",
       "         LAST_PURCHASE_DAY  USER_ID  BREAKFAST_PURCHASES  LUNCH_PURCHASES  \\\n",
       "0                      NaN        1                  NaN              NaN   \n",
       "1  2020-09-02 00:00:00.000        2                 0.00             1.00   \n",
       "2  2020-05-25 00:00:00.000        3                 0.00             4.00   \n",
       "3                      NaN        4                  NaN              NaN   \n",
       "4                      NaN        5                  NaN              NaN   \n",
       "\n",
       "   ...  WEB_PURCHASES  ANDROID_PURCHASES  PREFERRED_RESTAURANT_TYPES  \\\n",
       "0  ...            NaN                NaN                         NaN   \n",
       "1  ...           0.00               1.00                         NaN   \n",
       "2  ...          19.00               0.00                         NaN   \n",
       "3  ...            NaN                NaN                         NaN   \n",
       "4  ...            NaN                NaN                         NaN   \n",
       "\n",
       "   USER_HAS_VALID_PAYMENT_METHOD  MOST_COMMON_HOUR_OF_THE_DAY_TO_PURCHASE  \\\n",
       "0                          False                                      NaN   \n",
       "1                          False                                    23.00   \n",
       "2                           True                                    21.00   \n",
       "3                          False                                      NaN   \n",
       "4                          False                                      NaN   \n",
       "\n",
       "   MOST_COMMON_WEEKDAY_TO_PURCHASE  AVG_DAYS_BETWEEN_PURCHASES  \\\n",
       "0                              NaN                         NaN   \n",
       "1                             2.00                         NaN   \n",
       "2                             2.00                        9.00   \n",
       "3                              NaN                         NaN   \n",
       "4                              NaN                         NaN   \n",
       "\n",
       "   MEDIAN_DAYS_BETWEEN_PURCHASES AVERAGE_DELIVERY_DISTANCE_KMS  \\\n",
       "0                            NaN                           NaN   \n",
       "1                            NaN                          6.85   \n",
       "2                           3.00                          6.56   \n",
       "3                            NaN                           NaN   \n",
       "4                            NaN                           NaN   \n",
       "\n",
       "                        PURCHASE_COUNT_BY_STORE_TYPE  \n",
       "0  {\\n  \"General merchandise\": 0,\\n  \"Grocery\": 0...  \n",
       "1  {\\n  \"General merchandise\": 0,\\n  \"Grocery\": 0...  \n",
       "2  {\\n  \"General merchandise\": 1,\\n  \"Grocery\": 9...  \n",
       "3  {\\n  \"General merchandise\": 0,\\n  \"Grocery\": 0...  \n",
       "4  {\\n  \"General merchandise\": 0,\\n  \"Grocery\": 0...  \n",
       "\n",
       "[5 rows x 30 columns]"
      ]
     },
     "metadata": {},
     "output_type": "display_data"
    },
    {
     "name": "stdout",
     "output_type": "stream",
     "text": [
      "----------------------------------------------------------------------------------------------------\n",
      "<class 'pandas.core.frame.DataFrame'>\n",
      "RangeIndex: 21983 entries, 0 to 21982\n",
      "Data columns (total 30 columns):\n",
      " #   Column                                   Non-Null Count  Dtype  \n",
      "---  ------                                   --------------  -----  \n",
      " 0   REGISTRATION_DATE                        21983 non-null  object \n",
      " 1   REGISTRATION_COUNTRY                     21983 non-null  object \n",
      " 2   PURCHASE_COUNT                           21983 non-null  int64  \n",
      " 3   PURCHASE_COUNT_DELIVERY                  12028 non-null  float64\n",
      " 4   PURCHASE_COUNT_TAKEAWAY                  12028 non-null  float64\n",
      " 5   FIRST_PURCHASE_DAY                       11964 non-null  object \n",
      " 6   LAST_PURCHASE_DAY                        12027 non-null  object \n",
      " 7   USER_ID                                  21983 non-null  int64  \n",
      " 8   BREAKFAST_PURCHASES                      12028 non-null  float64\n",
      " 9   LUNCH_PURCHASES                          12028 non-null  float64\n",
      " 10  EVENING_PURCHASES                        12028 non-null  float64\n",
      " 11  DINNER_PURCHASES                         12028 non-null  float64\n",
      " 12  LATE_NIGHT_PURCHASES                     12028 non-null  float64\n",
      " 13  TOTAL_PURCHASES_EUR                      12028 non-null  float64\n",
      " 14  DISTINCT_PURCHASE_VENUE_COUNT            12028 non-null  float64\n",
      " 15  MIN_PURCHASE_VALUE_EUR                   12028 non-null  float64\n",
      " 16  MAX_PURCHASE_VALUE_EUR                   12028 non-null  float64\n",
      " 17  AVG_PURCHASE_VALUE_EUR                   12028 non-null  float64\n",
      " 18  PREFERRED_DEVICE                         21910 non-null  object \n",
      " 19  IOS_PURCHASES                            12028 non-null  float64\n",
      " 20  WEB_PURCHASES                            12028 non-null  float64\n",
      " 21  ANDROID_PURCHASES                        12028 non-null  float64\n",
      " 22  PREFERRED_RESTAURANT_TYPES               2694 non-null   object \n",
      " 23  USER_HAS_VALID_PAYMENT_METHOD            21983 non-null  bool   \n",
      " 24  MOST_COMMON_HOUR_OF_THE_DAY_TO_PURCHASE  12028 non-null  float64\n",
      " 25  MOST_COMMON_WEEKDAY_TO_PURCHASE          12028 non-null  float64\n",
      " 26  AVG_DAYS_BETWEEN_PURCHASES               7832 non-null   float64\n",
      " 27  MEDIAN_DAYS_BETWEEN_PURCHASES            7832 non-null   float64\n",
      " 28  AVERAGE_DELIVERY_DISTANCE_KMS            12028 non-null  float64\n",
      " 29  PURCHASE_COUNT_BY_STORE_TYPE             21983 non-null  object \n",
      "dtypes: bool(1), float64(20), int64(2), object(7)\n",
      "memory usage: 4.9+ MB\n"
     ]
    },
    {
     "data": {
      "text/plain": [
       "None"
      ]
     },
     "metadata": {},
     "output_type": "display_data"
    },
    {
     "name": "stdout",
     "output_type": "stream",
     "text": [
      "----------------------------------------------------------------------------------------------------\n"
     ]
    },
    {
     "data": {
      "text/html": [
       "<div>\n",
       "<style scoped>\n",
       "    .dataframe tbody tr th:only-of-type {\n",
       "        vertical-align: middle;\n",
       "    }\n",
       "\n",
       "    .dataframe tbody tr th {\n",
       "        vertical-align: top;\n",
       "    }\n",
       "\n",
       "    .dataframe thead th {\n",
       "        text-align: right;\n",
       "    }\n",
       "</style>\n",
       "<table border=\"1\" class=\"dataframe\">\n",
       "  <thead>\n",
       "    <tr style=\"text-align: right;\">\n",
       "      <th></th>\n",
       "      <th>PURCHASE_COUNT</th>\n",
       "      <th>PURCHASE_COUNT_DELIVERY</th>\n",
       "      <th>PURCHASE_COUNT_TAKEAWAY</th>\n",
       "      <th>USER_ID</th>\n",
       "      <th>BREAKFAST_PURCHASES</th>\n",
       "      <th>LUNCH_PURCHASES</th>\n",
       "      <th>EVENING_PURCHASES</th>\n",
       "      <th>DINNER_PURCHASES</th>\n",
       "      <th>LATE_NIGHT_PURCHASES</th>\n",
       "      <th>TOTAL_PURCHASES_EUR</th>\n",
       "      <th>...</th>\n",
       "      <th>MAX_PURCHASE_VALUE_EUR</th>\n",
       "      <th>AVG_PURCHASE_VALUE_EUR</th>\n",
       "      <th>IOS_PURCHASES</th>\n",
       "      <th>WEB_PURCHASES</th>\n",
       "      <th>ANDROID_PURCHASES</th>\n",
       "      <th>MOST_COMMON_HOUR_OF_THE_DAY_TO_PURCHASE</th>\n",
       "      <th>MOST_COMMON_WEEKDAY_TO_PURCHASE</th>\n",
       "      <th>AVG_DAYS_BETWEEN_PURCHASES</th>\n",
       "      <th>MEDIAN_DAYS_BETWEEN_PURCHASES</th>\n",
       "      <th>AVERAGE_DELIVERY_DISTANCE_KMS</th>\n",
       "    </tr>\n",
       "  </thead>\n",
       "  <tbody>\n",
       "    <tr>\n",
       "      <th>count</th>\n",
       "      <td>21983.00</td>\n",
       "      <td>12028.00</td>\n",
       "      <td>12028.00</td>\n",
       "      <td>21983.00</td>\n",
       "      <td>12028.00</td>\n",
       "      <td>12028.00</td>\n",
       "      <td>12028.00</td>\n",
       "      <td>12028.00</td>\n",
       "      <td>12028.00</td>\n",
       "      <td>12028.00</td>\n",
       "      <td>...</td>\n",
       "      <td>12028.00</td>\n",
       "      <td>12028.00</td>\n",
       "      <td>12028.00</td>\n",
       "      <td>12028.00</td>\n",
       "      <td>12028.00</td>\n",
       "      <td>12028.00</td>\n",
       "      <td>12028.00</td>\n",
       "      <td>7832.00</td>\n",
       "      <td>7832.00</td>\n",
       "      <td>12028.00</td>\n",
       "    </tr>\n",
       "    <tr>\n",
       "      <th>mean</th>\n",
       "      <td>3.35</td>\n",
       "      <td>5.74</td>\n",
       "      <td>0.37</td>\n",
       "      <td>10992.00</td>\n",
       "      <td>0.19</td>\n",
       "      <td>2.38</td>\n",
       "      <td>0.49</td>\n",
       "      <td>3.03</td>\n",
       "      <td>0.00</td>\n",
       "      <td>176.21</td>\n",
       "      <td>...</td>\n",
       "      <td>42.07</td>\n",
       "      <td>31.20</td>\n",
       "      <td>2.90</td>\n",
       "      <td>1.06</td>\n",
       "      <td>2.16</td>\n",
       "      <td>11.50</td>\n",
       "      <td>4.01</td>\n",
       "      <td>64.29</td>\n",
       "      <td>55.79</td>\n",
       "      <td>5.96</td>\n",
       "    </tr>\n",
       "    <tr>\n",
       "      <th>std</th>\n",
       "      <td>8.52</td>\n",
       "      <td>10.54</td>\n",
       "      <td>1.42</td>\n",
       "      <td>6346.09</td>\n",
       "      <td>1.10</td>\n",
       "      <td>5.63</td>\n",
       "      <td>1.83</td>\n",
       "      <td>5.24</td>\n",
       "      <td>0.00</td>\n",
       "      <td>299.09</td>\n",
       "      <td>...</td>\n",
       "      <td>41.18</td>\n",
       "      <td>20.72</td>\n",
       "      <td>7.46</td>\n",
       "      <td>4.78</td>\n",
       "      <td>6.88</td>\n",
       "      <td>6.93</td>\n",
       "      <td>2.01</td>\n",
       "      <td>72.57</td>\n",
       "      <td>74.96</td>\n",
       "      <td>3.47</td>\n",
       "    </tr>\n",
       "    <tr>\n",
       "      <th>min</th>\n",
       "      <td>0.00</td>\n",
       "      <td>0.00</td>\n",
       "      <td>0.00</td>\n",
       "      <td>1.00</td>\n",
       "      <td>0.00</td>\n",
       "      <td>0.00</td>\n",
       "      <td>0.00</td>\n",
       "      <td>0.00</td>\n",
       "      <td>0.00</td>\n",
       "      <td>1.01</td>\n",
       "      <td>...</td>\n",
       "      <td>1.02</td>\n",
       "      <td>1.01</td>\n",
       "      <td>0.00</td>\n",
       "      <td>0.00</td>\n",
       "      <td>0.00</td>\n",
       "      <td>0.00</td>\n",
       "      <td>1.00</td>\n",
       "      <td>0.00</td>\n",
       "      <td>0.00</td>\n",
       "      <td>0.00</td>\n",
       "    </tr>\n",
       "    <tr>\n",
       "      <th>1%</th>\n",
       "      <td>0.00</td>\n",
       "      <td>0.00</td>\n",
       "      <td>0.00</td>\n",
       "      <td>220.82</td>\n",
       "      <td>0.00</td>\n",
       "      <td>0.00</td>\n",
       "      <td>0.00</td>\n",
       "      <td>0.00</td>\n",
       "      <td>0.00</td>\n",
       "      <td>6.07</td>\n",
       "      <td>...</td>\n",
       "      <td>6.10</td>\n",
       "      <td>6.07</td>\n",
       "      <td>0.00</td>\n",
       "      <td>0.00</td>\n",
       "      <td>0.00</td>\n",
       "      <td>0.00</td>\n",
       "      <td>1.00</td>\n",
       "      <td>1.00</td>\n",
       "      <td>1.00</td>\n",
       "      <td>0.12</td>\n",
       "    </tr>\n",
       "    <tr>\n",
       "      <th>25%</th>\n",
       "      <td>0.00</td>\n",
       "      <td>1.00</td>\n",
       "      <td>0.00</td>\n",
       "      <td>5496.50</td>\n",
       "      <td>0.00</td>\n",
       "      <td>0.00</td>\n",
       "      <td>0.00</td>\n",
       "      <td>0.00</td>\n",
       "      <td>0.00</td>\n",
       "      <td>32.38</td>\n",
       "      <td>...</td>\n",
       "      <td>23.37</td>\n",
       "      <td>19.23</td>\n",
       "      <td>0.00</td>\n",
       "      <td>0.00</td>\n",
       "      <td>0.00</td>\n",
       "      <td>5.00</td>\n",
       "      <td>2.00</td>\n",
       "      <td>18.00</td>\n",
       "      <td>10.00</td>\n",
       "      <td>2.95</td>\n",
       "    </tr>\n",
       "    <tr>\n",
       "      <th>50%</th>\n",
       "      <td>1.00</td>\n",
       "      <td>2.00</td>\n",
       "      <td>0.00</td>\n",
       "      <td>10992.00</td>\n",
       "      <td>0.00</td>\n",
       "      <td>1.00</td>\n",
       "      <td>0.00</td>\n",
       "      <td>1.00</td>\n",
       "      <td>0.00</td>\n",
       "      <td>75.90</td>\n",
       "      <td>...</td>\n",
       "      <td>35.56</td>\n",
       "      <td>27.32</td>\n",
       "      <td>0.00</td>\n",
       "      <td>0.00</td>\n",
       "      <td>0.00</td>\n",
       "      <td>11.50</td>\n",
       "      <td>4.00</td>\n",
       "      <td>39.50</td>\n",
       "      <td>25.00</td>\n",
       "      <td>5.93</td>\n",
       "    </tr>\n",
       "    <tr>\n",
       "      <th>75%</th>\n",
       "      <td>3.00</td>\n",
       "      <td>6.00</td>\n",
       "      <td>0.00</td>\n",
       "      <td>16487.50</td>\n",
       "      <td>0.00</td>\n",
       "      <td>2.00</td>\n",
       "      <td>0.00</td>\n",
       "      <td>3.00</td>\n",
       "      <td>0.00</td>\n",
       "      <td>196.33</td>\n",
       "      <td>...</td>\n",
       "      <td>51.82</td>\n",
       "      <td>38.46</td>\n",
       "      <td>2.00</td>\n",
       "      <td>1.00</td>\n",
       "      <td>1.00</td>\n",
       "      <td>18.00</td>\n",
       "      <td>6.00</td>\n",
       "      <td>81.00</td>\n",
       "      <td>68.25</td>\n",
       "      <td>8.98</td>\n",
       "    </tr>\n",
       "    <tr>\n",
       "      <th>99%</th>\n",
       "      <td>38.00</td>\n",
       "      <td>46.73</td>\n",
       "      <td>6.00</td>\n",
       "      <td>21763.18</td>\n",
       "      <td>3.73</td>\n",
       "      <td>24.00</td>\n",
       "      <td>7.00</td>\n",
       "      <td>25.00</td>\n",
       "      <td>0.00</td>\n",
       "      <td>1380.56</td>\n",
       "      <td>...</td>\n",
       "      <td>144.00</td>\n",
       "      <td>98.90</td>\n",
       "      <td>33.00</td>\n",
       "      <td>19.00</td>\n",
       "      <td>31.00</td>\n",
       "      <td>23.00</td>\n",
       "      <td>7.00</td>\n",
       "      <td>365.00</td>\n",
       "      <td>365.00</td>\n",
       "      <td>11.90</td>\n",
       "    </tr>\n",
       "    <tr>\n",
       "      <th>max</th>\n",
       "      <td>320.00</td>\n",
       "      <td>320.00</td>\n",
       "      <td>44.00</td>\n",
       "      <td>21983.00</td>\n",
       "      <td>52.00</td>\n",
       "      <td>171.00</td>\n",
       "      <td>71.00</td>\n",
       "      <td>104.00</td>\n",
       "      <td>0.00</td>\n",
       "      <td>7979.62</td>\n",
       "      <td>...</td>\n",
       "      <td>3048.00</td>\n",
       "      <td>657.80</td>\n",
       "      <td>200.00</td>\n",
       "      <td>196.00</td>\n",
       "      <td>221.00</td>\n",
       "      <td>23.00</td>\n",
       "      <td>7.00</td>\n",
       "      <td>421.00</td>\n",
       "      <td>421.00</td>\n",
       "      <td>12.00</td>\n",
       "    </tr>\n",
       "  </tbody>\n",
       "</table>\n",
       "<p>10 rows × 22 columns</p>\n",
       "</div>"
      ],
      "text/plain": [
       "       PURCHASE_COUNT  PURCHASE_COUNT_DELIVERY  PURCHASE_COUNT_TAKEAWAY  \\\n",
       "count        21983.00                 12028.00                 12028.00   \n",
       "mean             3.35                     5.74                     0.37   \n",
       "std              8.52                    10.54                     1.42   \n",
       "min              0.00                     0.00                     0.00   \n",
       "1%               0.00                     0.00                     0.00   \n",
       "25%              0.00                     1.00                     0.00   \n",
       "50%              1.00                     2.00                     0.00   \n",
       "75%              3.00                     6.00                     0.00   \n",
       "99%             38.00                    46.73                     6.00   \n",
       "max            320.00                   320.00                    44.00   \n",
       "\n",
       "       USER_ID  BREAKFAST_PURCHASES  LUNCH_PURCHASES  EVENING_PURCHASES  \\\n",
       "count 21983.00             12028.00         12028.00           12028.00   \n",
       "mean  10992.00                 0.19             2.38               0.49   \n",
       "std    6346.09                 1.10             5.63               1.83   \n",
       "min       1.00                 0.00             0.00               0.00   \n",
       "1%      220.82                 0.00             0.00               0.00   \n",
       "25%    5496.50                 0.00             0.00               0.00   \n",
       "50%   10992.00                 0.00             1.00               0.00   \n",
       "75%   16487.50                 0.00             2.00               0.00   \n",
       "99%   21763.18                 3.73            24.00               7.00   \n",
       "max   21983.00                52.00           171.00              71.00   \n",
       "\n",
       "       DINNER_PURCHASES  LATE_NIGHT_PURCHASES  TOTAL_PURCHASES_EUR  ...  \\\n",
       "count          12028.00              12028.00             12028.00  ...   \n",
       "mean               3.03                  0.00               176.21  ...   \n",
       "std                5.24                  0.00               299.09  ...   \n",
       "min                0.00                  0.00                 1.01  ...   \n",
       "1%                 0.00                  0.00                 6.07  ...   \n",
       "25%                0.00                  0.00                32.38  ...   \n",
       "50%                1.00                  0.00                75.90  ...   \n",
       "75%                3.00                  0.00               196.33  ...   \n",
       "99%               25.00                  0.00              1380.56  ...   \n",
       "max              104.00                  0.00              7979.62  ...   \n",
       "\n",
       "       MAX_PURCHASE_VALUE_EUR  AVG_PURCHASE_VALUE_EUR  IOS_PURCHASES  \\\n",
       "count                12028.00                12028.00       12028.00   \n",
       "mean                    42.07                   31.20           2.90   \n",
       "std                     41.18                   20.72           7.46   \n",
       "min                      1.02                    1.01           0.00   \n",
       "1%                       6.10                    6.07           0.00   \n",
       "25%                     23.37                   19.23           0.00   \n",
       "50%                     35.56                   27.32           0.00   \n",
       "75%                     51.82                   38.46           2.00   \n",
       "99%                    144.00                   98.90          33.00   \n",
       "max                   3048.00                  657.80         200.00   \n",
       "\n",
       "       WEB_PURCHASES  ANDROID_PURCHASES  \\\n",
       "count       12028.00           12028.00   \n",
       "mean            1.06               2.16   \n",
       "std             4.78               6.88   \n",
       "min             0.00               0.00   \n",
       "1%              0.00               0.00   \n",
       "25%             0.00               0.00   \n",
       "50%             0.00               0.00   \n",
       "75%             1.00               1.00   \n",
       "99%            19.00              31.00   \n",
       "max           196.00             221.00   \n",
       "\n",
       "       MOST_COMMON_HOUR_OF_THE_DAY_TO_PURCHASE  \\\n",
       "count                                 12028.00   \n",
       "mean                                     11.50   \n",
       "std                                       6.93   \n",
       "min                                       0.00   \n",
       "1%                                        0.00   \n",
       "25%                                       5.00   \n",
       "50%                                      11.50   \n",
       "75%                                      18.00   \n",
       "99%                                      23.00   \n",
       "max                                      23.00   \n",
       "\n",
       "       MOST_COMMON_WEEKDAY_TO_PURCHASE  AVG_DAYS_BETWEEN_PURCHASES  \\\n",
       "count                         12028.00                     7832.00   \n",
       "mean                              4.01                       64.29   \n",
       "std                               2.01                       72.57   \n",
       "min                               1.00                        0.00   \n",
       "1%                                1.00                        1.00   \n",
       "25%                               2.00                       18.00   \n",
       "50%                               4.00                       39.50   \n",
       "75%                               6.00                       81.00   \n",
       "99%                               7.00                      365.00   \n",
       "max                               7.00                      421.00   \n",
       "\n",
       "       MEDIAN_DAYS_BETWEEN_PURCHASES  AVERAGE_DELIVERY_DISTANCE_KMS  \n",
       "count                        7832.00                       12028.00  \n",
       "mean                           55.79                           5.96  \n",
       "std                            74.96                           3.47  \n",
       "min                             0.00                           0.00  \n",
       "1%                              1.00                           0.12  \n",
       "25%                            10.00                           2.95  \n",
       "50%                            25.00                           5.93  \n",
       "75%                            68.25                           8.98  \n",
       "99%                           365.00                          11.90  \n",
       "max                           421.00                          12.00  \n",
       "\n",
       "[10 rows x 22 columns]"
      ]
     },
     "metadata": {},
     "output_type": "display_data"
    }
   ],
   "source": [
    "# load the data\n",
    "data = \"dataset_for_analyst_assignment_20201120.csv\"\n",
    "df = pd.read_csv(data)\n",
    "\n",
    "# format\n",
    "pd.options.display.float_format='{:.2f}'.format\n",
    "\n",
    "def summary(df):\n",
    "    display(df.head())\n",
    "    print('-'*100)\n",
    "    display(df.info())\n",
    "    print('-'*100)\n",
    "    display(df.describe([0.01,0.25,0.50,0.75,0.99]))\n",
    "    \n",
    "summary(df)"
   ]
  },
  {
   "cell_type": "code",
   "execution_count": 3,
   "id": "a662dd42",
   "metadata": {
    "scrolled": true
   },
   "outputs": [
    {
     "data": {
      "image/png": "[encoded data removed]",
      "text/plain": [
       "<Figure size 1008x360 with 2 Axes>"
      ]
     },
     "metadata": {
      "needs_background": "light"
     },
     "output_type": "display_data"
    }
   ],
   "source": [
    "# missing data represented by white color\n",
    "msno.matrix(df,figsize=(14,5), fontsize=12);"
   ]
  },
  {
   "cell_type": "markdown",
   "id": "58a69f19",
   "metadata": {},
   "source": [
    "#### Thoughts\n",
    "- Object-dtypes have to be converted into proper data types\n",
    "- There is a considerable amount of 0 values\n",
    "- From the visualization above we can see there's quite a lot of missing data"
   ]
  },
  {
   "cell_type": "markdown",
   "id": "c08946e6",
   "metadata": {},
   "source": [
    "### Cleaning up the data"
   ]
  },
  {
   "cell_type": "code",
   "execution_count": 4,
   "id": "0a6fb723",
   "metadata": {
    "scrolled": true
   },
   "outputs": [
    {
     "data": {
      "text/plain": [
       "'{\\n  \"General merchandise\": 0,\\n  \"Grocery\": 0,\\n  \"Pet supplies\": 0,\\n  \"Restaurant\": 0,\\n  \"Retail store\": 0\\n}'"
      ]
     },
     "execution_count": 4,
     "metadata": {},
     "output_type": "execute_result"
    }
   ],
   "source": [
    "# checking the last column\n",
    "df.iloc[:,-1][0]"
   ]
  },
  {
   "cell_type": "code",
   "execution_count": 5,
   "id": "59123a54",
   "metadata": {},
   "outputs": [],
   "source": [
    "# converting dict inside a string into proper dtype for later use\n",
    "df.iloc[:,-1] = df.iloc[:,-1].map(literal_eval)"
   ]
  },
  {
   "cell_type": "code",
   "execution_count": 6,
   "id": "003201b9",
   "metadata": {},
   "outputs": [
    {
     "data": {
      "text/html": [
       "<div>\n",
       "<style scoped>\n",
       "    .dataframe tbody tr th:only-of-type {\n",
       "        vertical-align: middle;\n",
       "    }\n",
       "\n",
       "    .dataframe tbody tr th {\n",
       "        vertical-align: top;\n",
       "    }\n",
       "\n",
       "    .dataframe thead th {\n",
       "        text-align: right;\n",
       "    }\n",
       "</style>\n",
       "<table border=\"1\" class=\"dataframe\">\n",
       "  <thead>\n",
       "    <tr style=\"text-align: right;\">\n",
       "      <th></th>\n",
       "      <th>General merchandise</th>\n",
       "      <th>Grocery</th>\n",
       "      <th>Pet supplies</th>\n",
       "      <th>Restaurant</th>\n",
       "      <th>Retail store</th>\n",
       "    </tr>\n",
       "  </thead>\n",
       "  <tbody>\n",
       "    <tr>\n",
       "      <th>0</th>\n",
       "      <td>0</td>\n",
       "      <td>0</td>\n",
       "      <td>0</td>\n",
       "      <td>0</td>\n",
       "      <td>0</td>\n",
       "    </tr>\n",
       "    <tr>\n",
       "      <th>1</th>\n",
       "      <td>0</td>\n",
       "      <td>0</td>\n",
       "      <td>0</td>\n",
       "      <td>1</td>\n",
       "      <td>0</td>\n",
       "    </tr>\n",
       "    <tr>\n",
       "      <th>2</th>\n",
       "      <td>1</td>\n",
       "      <td>9</td>\n",
       "      <td>0</td>\n",
       "      <td>9</td>\n",
       "      <td>0</td>\n",
       "    </tr>\n",
       "    <tr>\n",
       "      <th>3</th>\n",
       "      <td>0</td>\n",
       "      <td>0</td>\n",
       "      <td>0</td>\n",
       "      <td>0</td>\n",
       "      <td>0</td>\n",
       "    </tr>\n",
       "    <tr>\n",
       "      <th>4</th>\n",
       "      <td>0</td>\n",
       "      <td>0</td>\n",
       "      <td>0</td>\n",
       "      <td>0</td>\n",
       "      <td>0</td>\n",
       "    </tr>\n",
       "  </tbody>\n",
       "</table>\n",
       "</div>"
      ],
      "text/plain": [
       "   General merchandise  Grocery  Pet supplies  Restaurant  Retail store\n",
       "0                    0        0             0           0             0\n",
       "1                    0        0             0           1             0\n",
       "2                    1        9             0           9             0\n",
       "3                    0        0             0           0             0\n",
       "4                    0        0             0           0             0"
      ]
     },
     "execution_count": 6,
     "metadata": {},
     "output_type": "execute_result"
    }
   ],
   "source": [
    "# split the data into columns\n",
    "df2 = pd.json_normalize(df.iloc[:,-1])\n",
    "df2.head()"
   ]
  },
  {
   "cell_type": "code",
   "execution_count": 7,
   "id": "cb84d14f",
   "metadata": {
    "scrolled": true
   },
   "outputs": [],
   "source": [
    "# join the acquired data with the original dataframe\n",
    "df = df.join(df2)\n",
    "\n",
    "# remove the old data we just unstacked\n",
    "df.drop(columns = 'PURCHASE_COUNT_BY_STORE_TYPE', axis = 1, inplace = True)"
   ]
  },
  {
   "cell_type": "code",
   "execution_count": 8,
   "id": "b0a77b8e",
   "metadata": {
    "scrolled": true
   },
   "outputs": [],
   "source": [
    "# convert date into DateTime\n",
    "df.REGISTRATION_DATE = pd.to_datetime(df.REGISTRATION_DATE)\n",
    "df.FIRST_PURCHASE_DAY = pd.to_datetime(df.FIRST_PURCHASE_DAY)\n",
    "df.LAST_PURCHASE_DAY = pd.to_datetime(df.LAST_PURCHASE_DAY)"
   ]
  },
  {
   "cell_type": "markdown",
   "id": "78fcee95",
   "metadata": {},
   "source": [
    "Checking if the missing values are related to customers who haven't bought anything yet"
   ]
  },
  {
   "cell_type": "code",
   "execution_count": 9,
   "id": "f0ca4105",
   "metadata": {
    "scrolled": true
   },
   "outputs": [
    {
     "data": {
      "text/plain": [
       "REGISTRATION_DATE                             0\n",
       "REGISTRATION_COUNTRY                          0\n",
       "PURCHASE_COUNT                                0\n",
       "PURCHASE_COUNT_DELIVERY                       0\n",
       "PURCHASE_COUNT_TAKEAWAY                       0\n",
       "FIRST_PURCHASE_DAY                           64\n",
       "LAST_PURCHASE_DAY                             1\n",
       "USER_ID                                       0\n",
       "BREAKFAST_PURCHASES                           0\n",
       "LUNCH_PURCHASES                               0\n",
       "EVENING_PURCHASES                             0\n",
       "DINNER_PURCHASES                              0\n",
       "LATE_NIGHT_PURCHASES                          0\n",
       "TOTAL_PURCHASES_EUR                           0\n",
       "DISTINCT_PURCHASE_VENUE_COUNT                 0\n",
       "MIN_PURCHASE_VALUE_EUR                        0\n",
       "MAX_PURCHASE_VALUE_EUR                        0\n",
       "AVG_PURCHASE_VALUE_EUR                        0\n",
       "PREFERRED_DEVICE                              1\n",
       "IOS_PURCHASES                                 0\n",
       "WEB_PURCHASES                                 0\n",
       "ANDROID_PURCHASES                             0\n",
       "PREFERRED_RESTAURANT_TYPES                 9362\n",
       "USER_HAS_VALID_PAYMENT_METHOD                 0\n",
       "MOST_COMMON_HOUR_OF_THE_DAY_TO_PURCHASE       0\n",
       "MOST_COMMON_WEEKDAY_TO_PURCHASE               0\n",
       "AVG_DAYS_BETWEEN_PURCHASES                 4196\n",
       "MEDIAN_DAYS_BETWEEN_PURCHASES              4196\n",
       "AVERAGE_DELIVERY_DISTANCE_KMS                 0\n",
       "General merchandise                           0\n",
       "Grocery                                       0\n",
       "Pet supplies                                  0\n",
       "Restaurant                                    0\n",
       "Retail store                                  0\n",
       "dtype: int64"
      ]
     },
     "execution_count": 9,
     "metadata": {},
     "output_type": "execute_result"
    }
   ],
   "source": [
    "view = df[df.PURCHASE_COUNT != 0]\n",
    "view.isna().sum()"
   ]
  },
  {
   "cell_type": "markdown",
   "id": "a730f11e",
   "metadata": {},
   "source": [
    "The check was a success and we can safely convert missing values to 0"
   ]
  },
  {
   "cell_type": "code",
   "execution_count": 10,
   "id": "5fdf7fee",
   "metadata": {
    "scrolled": false
   },
   "outputs": [],
   "source": [
    "# convert all missing _counts (NaN) to 0 for later calculations\n",
    "temp = ['PURCHASE_COUNT_DELIVERY', 'PURCHASE_COUNT_TAKEAWAY', 'DISTINCT_PURCHASE_VENUE_COUNT', \n",
    "        'BREAKFAST_PURCHASES', 'LUNCH_PURCHASES', 'EVENING_PURCHASES', 'DINNER_PURCHASES', 'LATE_NIGHT_PURCHASES',\n",
    "        'TOTAL_PURCHASES_EUR', 'IOS_PURCHASES', 'WEB_PURCHASES' , 'ANDROID_PURCHASES', 'MIN_PURCHASE_VALUE_EUR', \n",
    "        'MAX_PURCHASE_VALUE_EUR', 'AVG_PURCHASE_VALUE_EUR']\n",
    "\n",
    "df.fillna({x:0 for x in temp}, inplace = True)"
   ]
  },
  {
   "cell_type": "code",
   "execution_count": 11,
   "id": "8b944b7b",
   "metadata": {},
   "outputs": [
    {
     "data": {
      "text/plain": [
       "array([nan, '[\\n  \"american\"\\n]', '[\\n  \"japanese\"\\n]',\n",
       "       '[\\n  \"italian\"\\n]', '[\\n  \"middle eastern\"\\n]'], dtype=object)"
      ]
     },
     "execution_count": 11,
     "metadata": {},
     "output_type": "execute_result"
    }
   ],
   "source": [
    "# checking column\n",
    "df.PREFERRED_RESTAURANT_TYPES.unique()[:5]"
   ]
  },
  {
   "cell_type": "code",
   "execution_count": 12,
   "id": "8c3c4cbb",
   "metadata": {},
   "outputs": [],
   "source": [
    "# filling missing values\n",
    "df.PREFERRED_RESTAURANT_TYPES.fillna(\"\", inplace = True)\n",
    "\n",
    "# parsing the string\n",
    "df.PREFERRED_RESTAURANT_TYPES = df.PREFERRED_RESTAURANT_TYPES.map(lambda x: re.findall('\"([^\"]*)\"', x))"
   ]
  },
  {
   "cell_type": "code",
   "execution_count": 13,
   "id": "5f4966b7",
   "metadata": {
    "scrolled": false
   },
   "outputs": [
    {
     "name": "stdout",
     "output_type": "stream",
     "text": [
      "['ios' 'android' 'web' nan]\n",
      "['ios' 'android' 'web' 'unknown']\n"
     ]
    }
   ],
   "source": [
    "# filling last missing values\n",
    "print(df.PREFERRED_DEVICE.unique())\n",
    "df.PREFERRED_DEVICE.fillna(\"unknown\", inplace = True)\n",
    "print(df.PREFERRED_DEVICE.unique())"
   ]
  },
  {
   "cell_type": "markdown",
   "id": "5ad7098c",
   "metadata": {},
   "source": [
    "# Data exploration"
   ]
  },
  {
   "cell_type": "markdown",
   "id": "6fdce523",
   "metadata": {},
   "source": [
    "## Users by country"
   ]
  },
  {
   "cell_type": "code",
   "execution_count": 14,
   "id": "7401057d",
   "metadata": {
    "scrolled": true
   },
   "outputs": [
    {
     "data": {
      "text/html": [
       "<div>\n",
       "<style scoped>\n",
       "    .dataframe tbody tr th:only-of-type {\n",
       "        vertical-align: middle;\n",
       "    }\n",
       "\n",
       "    .dataframe tbody tr th {\n",
       "        vertical-align: top;\n",
       "    }\n",
       "\n",
       "    .dataframe thead th {\n",
       "        text-align: right;\n",
       "    }\n",
       "</style>\n",
       "<table border=\"1\" class=\"dataframe\">\n",
       "  <thead>\n",
       "    <tr style=\"text-align: right;\">\n",
       "      <th></th>\n",
       "      <th>country</th>\n",
       "      <th>users</th>\n",
       "    </tr>\n",
       "  </thead>\n",
       "  <tbody>\n",
       "    <tr>\n",
       "      <th>1</th>\n",
       "      <td>FIN</td>\n",
       "      <td>10277</td>\n",
       "    </tr>\n",
       "    <tr>\n",
       "      <th>0</th>\n",
       "      <td>DNK</td>\n",
       "      <td>8081</td>\n",
       "    </tr>\n",
       "    <tr>\n",
       "      <th>2</th>\n",
       "      <td>GRC</td>\n",
       "      <td>3042</td>\n",
       "    </tr>\n",
       "    <tr>\n",
       "      <th>18</th>\n",
       "      <td>USA</td>\n",
       "      <td>70</td>\n",
       "    </tr>\n",
       "    <tr>\n",
       "      <th>11</th>\n",
       "      <td>GBR</td>\n",
       "      <td>54</td>\n",
       "    </tr>\n",
       "  </tbody>\n",
       "</table>\n",
       "</div>"
      ],
      "text/plain": [
       "   country  users\n",
       "1      FIN  10277\n",
       "0      DNK   8081\n",
       "2      GRC   3042\n",
       "18     USA     70\n",
       "11     GBR     54"
      ]
     },
     "execution_count": 14,
     "metadata": {},
     "output_type": "execute_result"
    }
   ],
   "source": [
    "# user counts for each country\n",
    "countries = pd.Series([country for country in df.REGISTRATION_COUNTRY.unique()])\n",
    "users_in_countries = pd.Series([len(df[df.REGISTRATION_COUNTRY == country]) for country in countries])\n",
    "df3 = pd.DataFrame([countries, users_in_countries]).T\n",
    "df3.columns = ['country', 'users']\n",
    "\n",
    "#sort\n",
    "df3.sort_values(by = 'users', ascending = False, inplace = True)\n",
    "df3.head()"
   ]
  },
  {
   "cell_type": "code",
   "execution_count": 15,
   "id": "78985b2e",
   "metadata": {},
   "outputs": [
    {
     "name": "stdout",
     "output_type": "stream",
     "text": [
      "Total users in top3 countries: 21400\n",
      "----------------------------------------------------------------------------------------------------\n",
      "Total users in other countries: 583\n",
      "Maximum number of users in those countries: 70\n",
      "----------------------------------------------------------------------------------------------------\n",
      "Countries that aren't part of top3 make 2.65 % of the whole dataset\n"
     ]
    }
   ],
   "source": [
    "def pline():\n",
    "    print(\"-\"*100)\n",
    "    \n",
    "top3 = [\"FIN\", \"DNK\", \"GRC\"]\n",
    "\n",
    "# the amount of users combined in top 3 countries\n",
    "users_in_top3 = df3[df3.iloc[:,0].isin(top3)].iloc[:,1]\n",
    "print(f'Total users in top3 countries: {users_in_top3.sum()}')\n",
    "pline()\n",
    "\n",
    "# in other countries than top 3\n",
    "out_of_top3 = df3[~df3.iloc[:,0].isin(top3)].iloc[:,1]\n",
    "print(f'Total users in other countries: {out_of_top3.sum()}')\n",
    "\n",
    "# max users in those countries (USA)\n",
    "print(f'Maximum number of users in those countries: {max(out_of_top3)}')\n",
    "\n",
    "pline()\n",
    "# calculate ratio out_of_top3 / all users \n",
    "print(f\"Countries that aren't part of top3 make {out_of_top3.sum()/df3.users.sum() * 100:.2f} % of the whole dataset\")"
   ]
  },
  {
   "cell_type": "markdown",
   "id": "28a30872",
   "metadata": {},
   "source": [
    "#### Thoughts\n",
    "\n",
    "- If the data is uniform enough it may be possible to use the data as a whole\n",
    "- If the data differs much by country the segments have to be done by country and not as a whole data\n",
    "- Most of the countries (other than top 3) have low amount of users. The segmentation might not make any sense there since it won't be generalizeable"
   ]
  },
  {
   "cell_type": "markdown",
   "id": "0ab5eeaa",
   "metadata": {},
   "source": [
    "### Checking if the data differs by country"
   ]
  },
  {
   "cell_type": "code",
   "execution_count": 16,
   "id": "ddce640d",
   "metadata": {
    "scrolled": true
   },
   "outputs": [
    {
     "data": {
      "text/html": [
       "<div>\n",
       "<style scoped>\n",
       "    .dataframe tbody tr th:only-of-type {\n",
       "        vertical-align: middle;\n",
       "    }\n",
       "\n",
       "    .dataframe tbody tr th {\n",
       "        vertical-align: top;\n",
       "    }\n",
       "\n",
       "    .dataframe thead th {\n",
       "        text-align: right;\n",
       "    }\n",
       "</style>\n",
       "<table border=\"1\" class=\"dataframe\">\n",
       "  <thead>\n",
       "    <tr style=\"text-align: right;\">\n",
       "      <th></th>\n",
       "      <th>BREAKFAST_PURCHASES</th>\n",
       "      <th>LUNCH_PURCHASES</th>\n",
       "      <th>EVENING_PURCHASES</th>\n",
       "      <th>DINNER_PURCHASES</th>\n",
       "      <th>LATE_NIGHT_PURCHASES</th>\n",
       "      <th>TOTAL_MEAL_PURCHASES</th>\n",
       "    </tr>\n",
       "    <tr>\n",
       "      <th>country</th>\n",
       "      <th></th>\n",
       "      <th></th>\n",
       "      <th></th>\n",
       "      <th></th>\n",
       "      <th></th>\n",
       "      <th></th>\n",
       "    </tr>\n",
       "  </thead>\n",
       "  <tbody>\n",
       "    <tr>\n",
       "      <th>FIN</th>\n",
       "      <td>1264.00</td>\n",
       "      <td>15915.00</td>\n",
       "      <td>2635.00</td>\n",
       "      <td>14609.00</td>\n",
       "      <td>0.00</td>\n",
       "      <td>34423.00</td>\n",
       "    </tr>\n",
       "    <tr>\n",
       "      <th>DNK</th>\n",
       "      <td>327.00</td>\n",
       "      <td>8157.00</td>\n",
       "      <td>812.00</td>\n",
       "      <td>18913.00</td>\n",
       "      <td>0.00</td>\n",
       "      <td>28209.00</td>\n",
       "    </tr>\n",
       "    <tr>\n",
       "      <th>GRC</th>\n",
       "      <td>735.00</td>\n",
       "      <td>4365.00</td>\n",
       "      <td>2449.00</td>\n",
       "      <td>2788.00</td>\n",
       "      <td>0.00</td>\n",
       "      <td>10337.00</td>\n",
       "    </tr>\n",
       "    <tr>\n",
       "      <th>USA</th>\n",
       "      <td>0.00</td>\n",
       "      <td>0.00</td>\n",
       "      <td>0.00</td>\n",
       "      <td>0.00</td>\n",
       "      <td>0.00</td>\n",
       "      <td>0.00</td>\n",
       "    </tr>\n",
       "    <tr>\n",
       "      <th>GBR</th>\n",
       "      <td>0.00</td>\n",
       "      <td>7.00</td>\n",
       "      <td>3.00</td>\n",
       "      <td>7.00</td>\n",
       "      <td>0.00</td>\n",
       "      <td>17.00</td>\n",
       "    </tr>\n",
       "  </tbody>\n",
       "</table>\n",
       "</div>"
      ],
      "text/plain": [
       "        BREAKFAST_PURCHASES LUNCH_PURCHASES EVENING_PURCHASES  \\\n",
       "country                                                         \n",
       "FIN                 1264.00        15915.00           2635.00   \n",
       "DNK                  327.00         8157.00            812.00   \n",
       "GRC                  735.00         4365.00           2449.00   \n",
       "USA                    0.00            0.00              0.00   \n",
       "GBR                    0.00            7.00              3.00   \n",
       "\n",
       "        DINNER_PURCHASES LATE_NIGHT_PURCHASES TOTAL_MEAL_PURCHASES  \n",
       "country                                                             \n",
       "FIN             14609.00                 0.00             34423.00  \n",
       "DNK             18913.00                 0.00             28209.00  \n",
       "GRC              2788.00                 0.00             10337.00  \n",
       "USA                 0.00                 0.00                 0.00  \n",
       "GBR                 7.00                 0.00                17.00  "
      ]
     },
     "execution_count": 16,
     "metadata": {},
     "output_type": "execute_result"
    }
   ],
   "source": [
    "# make a new dataframe (table)\n",
    "df_meals_by_country = pd.DataFrame(df3.country)\n",
    "labels = ['BREAKFAST_PURCHASES', 'LUNCH_PURCHASES', 'EVENING_PURCHASES', 'DINNER_PURCHASES', 'LATE_NIGHT_PURCHASES']\n",
    "\n",
    "for meal in labels:\n",
    "    df_meals_by_country[meal] = \"\"\n",
    "\n",
    "# add a total meal purchases column\n",
    "df_meals_by_country['TOTAL_MEAL_PURCHASES'] = \"\"\n",
    "    \n",
    "# set index\n",
    "df_meals_by_country.set_index('country', inplace = True)\n",
    "\n",
    "# aggregate data\n",
    "for country in df_meals_by_country.index[:-1]:\n",
    "    temp_df = df[df.REGISTRATION_COUNTRY == country] \n",
    "    data_row = [temp_df[meal].sum() for meal in df_meals_by_country.columns[:-1]]\n",
    "    df_meals_by_country.loc[country] = data_row + [sum(data_row)]\n",
    "    \n",
    "\n",
    "df_meals_by_country.head()"
   ]
  },
  {
   "cell_type": "code",
   "execution_count": 17,
   "id": "631a1635",
   "metadata": {
    "scrolled": true
   },
   "outputs": [
    {
     "name": "stdout",
     "output_type": "stream",
     "text": [
      "BREAKFAST / LUNCH\n",
      "FIN: 0.08\n",
      "DNK: 0.04\n",
      "GRC: 0.17\n",
      "\n",
      "EVENING / DINNER\n",
      "FIN: 0.18\n",
      "DNK: 0.04\n",
      "GRC: 0.88\n"
     ]
    }
   ],
   "source": [
    "# calculating ratios\n",
    "def calc_ratio(countries, meal1, meal2):\n",
    "    print(f'{meal1} / {meal2}')\n",
    "    meal1 += \"_PURCHASES\"\n",
    "    meal2 += \"_PURCHASES\"\n",
    "    for country in countries:\n",
    "        print(f'{country}: {df_meals_by_country.loc[country][meal1] / df_meals_by_country.loc[country][meal2]:.2f}')\n",
    "\n",
    "countries = ['FIN','DNK','GRC']\n",
    "\n",
    "# BF / LUNCH\n",
    "calc_ratio(countries, \"BREAKFAST\", \"LUNCH\")\n",
    "\n",
    "print()\n",
    "\n",
    "# EVENING / DINNER\n",
    "calc_ratio(countries, \"EVENING\", \"DINNER\")"
   ]
  },
  {
   "cell_type": "markdown",
   "id": "90d56c5a",
   "metadata": {},
   "source": [
    "## Conclusion\n",
    "- We can see from the table and calculations above that the data differs by country. From these observations it seems reasonable to do the segmentation separately for each country.\n",
    "- In my reasoning the data from other than top 3 (biggest) countries is:  \n",
    "    1. too different to combine with other countries \n",
    "    2. too small in amount to be generalizeable\n",
    "- I'm going to focus only on FIN, DNK, GRC (top 3) since those countries have enough data available for it to be generalizeable"
   ]
  },
  {
   "cell_type": "markdown",
   "id": "cb433ae0",
   "metadata": {},
   "source": [
    "# USER SEGMENTATION FINLAND"
   ]
  },
  {
   "cell_type": "markdown",
   "id": "353986da",
   "metadata": {},
   "source": [
    "## Preparing the data"
   ]
  },
  {
   "cell_type": "code",
   "execution_count": 18,
   "id": "0ded2883",
   "metadata": {
    "scrolled": true
   },
   "outputs": [],
   "source": [
    "def select_country(name):\n",
    "    return df[df.REGISTRATION_COUNTRY == name].copy()"
   ]
  },
  {
   "cell_type": "code",
   "execution_count": 19,
   "id": "75ef7c7c",
   "metadata": {
    "scrolled": true
   },
   "outputs": [],
   "source": [
    "# select country\n",
    "country_name = \"FIN\"\n",
    "\n",
    "df_sc = select_country(country_name)"
   ]
  },
  {
   "cell_type": "code",
   "execution_count": 20,
   "id": "a5f48e3b",
   "metadata": {},
   "outputs": [
    {
     "data": {
      "text/html": [
       "<div>\n",
       "<style scoped>\n",
       "    .dataframe tbody tr th:only-of-type {\n",
       "        vertical-align: middle;\n",
       "    }\n",
       "\n",
       "    .dataframe tbody tr th {\n",
       "        vertical-align: top;\n",
       "    }\n",
       "\n",
       "    .dataframe thead th {\n",
       "        text-align: right;\n",
       "    }\n",
       "</style>\n",
       "<table border=\"1\" class=\"dataframe\">\n",
       "  <thead>\n",
       "    <tr style=\"text-align: right;\">\n",
       "      <th></th>\n",
       "      <th>PURCHASE_COUNT</th>\n",
       "      <th>PURCHASE_COUNT_DELIVERY</th>\n",
       "      <th>PURCHASE_COUNT_TAKEAWAY</th>\n",
       "      <th>USER_ID</th>\n",
       "      <th>BREAKFAST_PURCHASES</th>\n",
       "      <th>LUNCH_PURCHASES</th>\n",
       "      <th>EVENING_PURCHASES</th>\n",
       "      <th>DINNER_PURCHASES</th>\n",
       "      <th>LATE_NIGHT_PURCHASES</th>\n",
       "      <th>TOTAL_PURCHASES_EUR</th>\n",
       "      <th>...</th>\n",
       "      <th>MOST_COMMON_HOUR_OF_THE_DAY_TO_PURCHASE</th>\n",
       "      <th>MOST_COMMON_WEEKDAY_TO_PURCHASE</th>\n",
       "      <th>AVG_DAYS_BETWEEN_PURCHASES</th>\n",
       "      <th>MEDIAN_DAYS_BETWEEN_PURCHASES</th>\n",
       "      <th>AVERAGE_DELIVERY_DISTANCE_KMS</th>\n",
       "      <th>General merchandise</th>\n",
       "      <th>Grocery</th>\n",
       "      <th>Pet supplies</th>\n",
       "      <th>Restaurant</th>\n",
       "      <th>Retail store</th>\n",
       "    </tr>\n",
       "  </thead>\n",
       "  <tbody>\n",
       "    <tr>\n",
       "      <th>count</th>\n",
       "      <td>10277.00</td>\n",
       "      <td>10277.00</td>\n",
       "      <td>10277.00</td>\n",
       "      <td>10277.00</td>\n",
       "      <td>10277.00</td>\n",
       "      <td>10277.00</td>\n",
       "      <td>10277.00</td>\n",
       "      <td>10277.00</td>\n",
       "      <td>10277.00</td>\n",
       "      <td>10277.00</td>\n",
       "      <td>...</td>\n",
       "      <td>5451.00</td>\n",
       "      <td>5451.00</td>\n",
       "      <td>3582.00</td>\n",
       "      <td>3582.00</td>\n",
       "      <td>5451.00</td>\n",
       "      <td>10277.00</td>\n",
       "      <td>10277.00</td>\n",
       "      <td>10277.00</td>\n",
       "      <td>10277.00</td>\n",
       "      <td>10277.00</td>\n",
       "    </tr>\n",
       "    <tr>\n",
       "      <th>mean</th>\n",
       "      <td>3.37</td>\n",
       "      <td>3.17</td>\n",
       "      <td>0.20</td>\n",
       "      <td>10789.13</td>\n",
       "      <td>0.12</td>\n",
       "      <td>1.55</td>\n",
       "      <td>0.26</td>\n",
       "      <td>1.42</td>\n",
       "      <td>0.00</td>\n",
       "      <td>90.84</td>\n",
       "      <td>...</td>\n",
       "      <td>11.48</td>\n",
       "      <td>3.98</td>\n",
       "      <td>63.79</td>\n",
       "      <td>54.74</td>\n",
       "      <td>5.99</td>\n",
       "      <td>0.07</td>\n",
       "      <td>0.60</td>\n",
       "      <td>0.01</td>\n",
       "      <td>2.02</td>\n",
       "      <td>0.67</td>\n",
       "    </tr>\n",
       "    <tr>\n",
       "      <th>std</th>\n",
       "      <td>8.40</td>\n",
       "      <td>8.13</td>\n",
       "      <td>1.21</td>\n",
       "      <td>6282.32</td>\n",
       "      <td>0.65</td>\n",
       "      <td>4.66</td>\n",
       "      <td>1.03</td>\n",
       "      <td>3.67</td>\n",
       "      <td>0.00</td>\n",
       "      <td>231.98</td>\n",
       "      <td>...</td>\n",
       "      <td>6.97</td>\n",
       "      <td>2.01</td>\n",
       "      <td>71.93</td>\n",
       "      <td>74.29</td>\n",
       "      <td>3.46</td>\n",
       "      <td>0.25</td>\n",
       "      <td>3.05</td>\n",
       "      <td>0.09</td>\n",
       "      <td>4.17</td>\n",
       "      <td>3.04</td>\n",
       "    </tr>\n",
       "    <tr>\n",
       "      <th>min</th>\n",
       "      <td>0.00</td>\n",
       "      <td>0.00</td>\n",
       "      <td>0.00</td>\n",
       "      <td>2.00</td>\n",
       "      <td>0.00</td>\n",
       "      <td>0.00</td>\n",
       "      <td>0.00</td>\n",
       "      <td>0.00</td>\n",
       "      <td>0.00</td>\n",
       "      <td>0.00</td>\n",
       "      <td>...</td>\n",
       "      <td>0.00</td>\n",
       "      <td>1.00</td>\n",
       "      <td>0.00</td>\n",
       "      <td>0.00</td>\n",
       "      <td>0.00</td>\n",
       "      <td>0.00</td>\n",
       "      <td>0.00</td>\n",
       "      <td>0.00</td>\n",
       "      <td>0.00</td>\n",
       "      <td>0.00</td>\n",
       "    </tr>\n",
       "    <tr>\n",
       "      <th>1%</th>\n",
       "      <td>0.00</td>\n",
       "      <td>0.00</td>\n",
       "      <td>0.00</td>\n",
       "      <td>198.76</td>\n",
       "      <td>0.00</td>\n",
       "      <td>0.00</td>\n",
       "      <td>0.00</td>\n",
       "      <td>0.00</td>\n",
       "      <td>0.00</td>\n",
       "      <td>0.00</td>\n",
       "      <td>...</td>\n",
       "      <td>0.00</td>\n",
       "      <td>1.00</td>\n",
       "      <td>1.00</td>\n",
       "      <td>1.00</td>\n",
       "      <td>0.12</td>\n",
       "      <td>0.00</td>\n",
       "      <td>0.00</td>\n",
       "      <td>0.00</td>\n",
       "      <td>0.00</td>\n",
       "      <td>0.00</td>\n",
       "    </tr>\n",
       "    <tr>\n",
       "      <th>25%</th>\n",
       "      <td>0.00</td>\n",
       "      <td>0.00</td>\n",
       "      <td>0.00</td>\n",
       "      <td>5002.00</td>\n",
       "      <td>0.00</td>\n",
       "      <td>0.00</td>\n",
       "      <td>0.00</td>\n",
       "      <td>0.00</td>\n",
       "      <td>0.00</td>\n",
       "      <td>0.00</td>\n",
       "      <td>...</td>\n",
       "      <td>5.00</td>\n",
       "      <td>2.00</td>\n",
       "      <td>19.00</td>\n",
       "      <td>10.00</td>\n",
       "      <td>3.00</td>\n",
       "      <td>0.00</td>\n",
       "      <td>0.00</td>\n",
       "      <td>0.00</td>\n",
       "      <td>0.00</td>\n",
       "      <td>0.00</td>\n",
       "    </tr>\n",
       "    <tr>\n",
       "      <th>50%</th>\n",
       "      <td>1.00</td>\n",
       "      <td>1.00</td>\n",
       "      <td>0.00</td>\n",
       "      <td>11126.00</td>\n",
       "      <td>0.00</td>\n",
       "      <td>0.00</td>\n",
       "      <td>0.00</td>\n",
       "      <td>0.00</td>\n",
       "      <td>0.00</td>\n",
       "      <td>14.17</td>\n",
       "      <td>...</td>\n",
       "      <td>11.00</td>\n",
       "      <td>4.00</td>\n",
       "      <td>39.00</td>\n",
       "      <td>24.00</td>\n",
       "      <td>5.95</td>\n",
       "      <td>0.00</td>\n",
       "      <td>0.00</td>\n",
       "      <td>0.00</td>\n",
       "      <td>1.00</td>\n",
       "      <td>0.00</td>\n",
       "    </tr>\n",
       "    <tr>\n",
       "      <th>75%</th>\n",
       "      <td>3.00</td>\n",
       "      <td>3.00</td>\n",
       "      <td>0.00</td>\n",
       "      <td>15978.00</td>\n",
       "      <td>0.00</td>\n",
       "      <td>1.00</td>\n",
       "      <td>0.00</td>\n",
       "      <td>1.00</td>\n",
       "      <td>0.00</td>\n",
       "      <td>81.97</td>\n",
       "      <td>...</td>\n",
       "      <td>18.00</td>\n",
       "      <td>6.00</td>\n",
       "      <td>80.00</td>\n",
       "      <td>65.00</td>\n",
       "      <td>9.00</td>\n",
       "      <td>0.00</td>\n",
       "      <td>0.00</td>\n",
       "      <td>0.00</td>\n",
       "      <td>3.00</td>\n",
       "      <td>0.00</td>\n",
       "    </tr>\n",
       "    <tr>\n",
       "      <th>99%</th>\n",
       "      <td>39.00</td>\n",
       "      <td>38.00</td>\n",
       "      <td>4.00</td>\n",
       "      <td>21643.48</td>\n",
       "      <td>3.00</td>\n",
       "      <td>20.00</td>\n",
       "      <td>4.24</td>\n",
       "      <td>17.00</td>\n",
       "      <td>0.00</td>\n",
       "      <td>978.56</td>\n",
       "      <td>...</td>\n",
       "      <td>23.00</td>\n",
       "      <td>7.00</td>\n",
       "      <td>365.38</td>\n",
       "      <td>365.38</td>\n",
       "      <td>11.91</td>\n",
       "      <td>1.00</td>\n",
       "      <td>13.00</td>\n",
       "      <td>0.00</td>\n",
       "      <td>19.00</td>\n",
       "      <td>15.00</td>\n",
       "    </tr>\n",
       "    <tr>\n",
       "      <th>max</th>\n",
       "      <td>221.00</td>\n",
       "      <td>221.00</td>\n",
       "      <td>44.00</td>\n",
       "      <td>21974.00</td>\n",
       "      <td>17.00</td>\n",
       "      <td>110.00</td>\n",
       "      <td>26.00</td>\n",
       "      <td>104.00</td>\n",
       "      <td>0.00</td>\n",
       "      <td>7979.62</td>\n",
       "      <td>...</td>\n",
       "      <td>23.00</td>\n",
       "      <td>7.00</td>\n",
       "      <td>421.00</td>\n",
       "      <td>421.00</td>\n",
       "      <td>12.00</td>\n",
       "      <td>1.00</td>\n",
       "      <td>110.00</td>\n",
       "      <td>1.00</td>\n",
       "      <td>110.00</td>\n",
       "      <td>72.00</td>\n",
       "    </tr>\n",
       "  </tbody>\n",
       "</table>\n",
       "<p>10 rows × 27 columns</p>\n",
       "</div>"
      ],
      "text/plain": [
       "       PURCHASE_COUNT  PURCHASE_COUNT_DELIVERY  PURCHASE_COUNT_TAKEAWAY  \\\n",
       "count        10277.00                 10277.00                 10277.00   \n",
       "mean             3.37                     3.17                     0.20   \n",
       "std              8.40                     8.13                     1.21   \n",
       "min              0.00                     0.00                     0.00   \n",
       "1%               0.00                     0.00                     0.00   \n",
       "25%              0.00                     0.00                     0.00   \n",
       "50%              1.00                     1.00                     0.00   \n",
       "75%              3.00                     3.00                     0.00   \n",
       "99%             39.00                    38.00                     4.00   \n",
       "max            221.00                   221.00                    44.00   \n",
       "\n",
       "       USER_ID  BREAKFAST_PURCHASES  LUNCH_PURCHASES  EVENING_PURCHASES  \\\n",
       "count 10277.00             10277.00         10277.00           10277.00   \n",
       "mean  10789.13                 0.12             1.55               0.26   \n",
       "std    6282.32                 0.65             4.66               1.03   \n",
       "min       2.00                 0.00             0.00               0.00   \n",
       "1%      198.76                 0.00             0.00               0.00   \n",
       "25%    5002.00                 0.00             0.00               0.00   \n",
       "50%   11126.00                 0.00             0.00               0.00   \n",
       "75%   15978.00                 0.00             1.00               0.00   \n",
       "99%   21643.48                 3.00            20.00               4.24   \n",
       "max   21974.00                17.00           110.00              26.00   \n",
       "\n",
       "       DINNER_PURCHASES  LATE_NIGHT_PURCHASES  TOTAL_PURCHASES_EUR  ...  \\\n",
       "count          10277.00              10277.00             10277.00  ...   \n",
       "mean               1.42                  0.00                90.84  ...   \n",
       "std                3.67                  0.00               231.98  ...   \n",
       "min                0.00                  0.00                 0.00  ...   \n",
       "1%                 0.00                  0.00                 0.00  ...   \n",
       "25%                0.00                  0.00                 0.00  ...   \n",
       "50%                0.00                  0.00                14.17  ...   \n",
       "75%                1.00                  0.00                81.97  ...   \n",
       "99%               17.00                  0.00               978.56  ...   \n",
       "max              104.00                  0.00              7979.62  ...   \n",
       "\n",
       "       MOST_COMMON_HOUR_OF_THE_DAY_TO_PURCHASE  \\\n",
       "count                                  5451.00   \n",
       "mean                                     11.48   \n",
       "std                                       6.97   \n",
       "min                                       0.00   \n",
       "1%                                        0.00   \n",
       "25%                                       5.00   \n",
       "50%                                      11.00   \n",
       "75%                                      18.00   \n",
       "99%                                      23.00   \n",
       "max                                      23.00   \n",
       "\n",
       "       MOST_COMMON_WEEKDAY_TO_PURCHASE  AVG_DAYS_BETWEEN_PURCHASES  \\\n",
       "count                          5451.00                     3582.00   \n",
       "mean                              3.98                       63.79   \n",
       "std                               2.01                       71.93   \n",
       "min                               1.00                        0.00   \n",
       "1%                                1.00                        1.00   \n",
       "25%                               2.00                       19.00   \n",
       "50%                               4.00                       39.00   \n",
       "75%                               6.00                       80.00   \n",
       "99%                               7.00                      365.38   \n",
       "max                               7.00                      421.00   \n",
       "\n",
       "       MEDIAN_DAYS_BETWEEN_PURCHASES  AVERAGE_DELIVERY_DISTANCE_KMS  \\\n",
       "count                        3582.00                        5451.00   \n",
       "mean                           54.74                           5.99   \n",
       "std                            74.29                           3.46   \n",
       "min                             0.00                           0.00   \n",
       "1%                              1.00                           0.12   \n",
       "25%                            10.00                           3.00   \n",
       "50%                            24.00                           5.95   \n",
       "75%                            65.00                           9.00   \n",
       "99%                           365.38                          11.91   \n",
       "max                           421.00                          12.00   \n",
       "\n",
       "       General merchandise  Grocery  Pet supplies  Restaurant  Retail store  \n",
       "count             10277.00 10277.00      10277.00    10277.00      10277.00  \n",
       "mean                  0.07     0.60          0.01        2.02          0.67  \n",
       "std                   0.25     3.05          0.09        4.17          3.04  \n",
       "min                   0.00     0.00          0.00        0.00          0.00  \n",
       "1%                    0.00     0.00          0.00        0.00          0.00  \n",
       "25%                   0.00     0.00          0.00        0.00          0.00  \n",
       "50%                   0.00     0.00          0.00        1.00          0.00  \n",
       "75%                   0.00     0.00          0.00        3.00          0.00  \n",
       "99%                   1.00    13.00          0.00       19.00         15.00  \n",
       "max                   1.00   110.00          1.00      110.00         72.00  \n",
       "\n",
       "[10 rows x 27 columns]"
      ]
     },
     "execution_count": 20,
     "metadata": {},
     "output_type": "execute_result"
    }
   ],
   "source": [
    "# stats\n",
    "df_sc.describe([0.01,0.25,0.50,0.75,0.99])"
   ]
  },
  {
   "cell_type": "markdown",
   "id": "c8085f0d",
   "metadata": {},
   "source": [
    "We can see a lot of the data is made out of users who have bought nothing or very little"
   ]
  },
  {
   "cell_type": "markdown",
   "id": "ddf79f7f",
   "metadata": {},
   "source": [
    "## The segments"
   ]
  },
  {
   "cell_type": "markdown",
   "id": "a97ee3b4",
   "metadata": {},
   "source": [
    "### Not yet customers\n",
    "\n",
    "- These users haven't bought anything yet \n",
    "- They have shown some interest to the company because they have created an account \n",
    "- These users might buy from the company in the future\n",
    "- We don't have any relevant data from these users yet"
   ]
  },
  {
   "cell_type": "code",
   "execution_count": 21,
   "id": "80a6967e",
   "metadata": {},
   "outputs": [],
   "source": [
    "not_yet = list(df_sc.TOTAL_PURCHASES_EUR[df_sc.TOTAL_PURCHASES_EUR == 0].index)"
   ]
  },
  {
   "cell_type": "code",
   "execution_count": 22,
   "id": "f21a9260",
   "metadata": {
    "scrolled": true
   },
   "outputs": [
    {
     "data": {
      "image/png": "[encoded data removed]",
      "text/plain": [
       "<Figure size 432x288 with 1 Axes>"
      ]
     },
     "metadata": {
      "needs_background": "light"
     },
     "output_type": "display_data"
    }
   ],
   "source": [
    "# plot\n",
    "def plot_not_yet():   \n",
    "    x = [len(not_yet), len(df_sc) - len(not_yet)]\n",
    "    y = ['Not yet customers', 'Active customers']\n",
    "    ax = sns.barplot(x=x, y=y, orient='h')\n",
    "  \n",
    "    \n",
    "    # add percentage\n",
    "    p_n_y = round(len(df_sc.loc[not_yet]) / len(df_sc) * 100, 2)\n",
    "    percentage = [p_n_y, 100 - p_n_y]\n",
    "    for i, p in enumerate(ax.patches):\n",
    "        width = p.get_width()\n",
    "        plt.text(p.get_width() * 0.9, p.get_y()+0.55*p.get_height(),\n",
    "                 f'{percentage[i]} %',\n",
    "                 ha='center', va='center', color='white', fontsize=12)\n",
    "    \n",
    "    # style\n",
    "    plt.yticks(fontsize=12)\n",
    "    plt.title(f\"Not yet / Active customers ({country_name})\", fontsize=18, y=1.03)\n",
    "   \n",
    "plot_not_yet()"
   ]
  },
  {
   "cell_type": "markdown",
   "id": "4f211fc1",
   "metadata": {},
   "source": [
    "Almost half of the users are not active yet"
   ]
  },
  {
   "cell_type": "markdown",
   "id": "3396a205",
   "metadata": {},
   "source": [
    "### Active customers\n",
    "- Active users that have started ordering - we will continue segmenting with these users"
   ]
  },
  {
   "cell_type": "code",
   "execution_count": 23,
   "id": "5c91fac8",
   "metadata": {
    "scrolled": true
   },
   "outputs": [],
   "source": [
    "df_sc_active = df_sc.drop(index = not_yet)"
   ]
  },
  {
   "cell_type": "code",
   "execution_count": 24,
   "id": "bc833d59",
   "metadata": {},
   "outputs": [
    {
     "data": {
      "text/html": [
       "<div>\n",
       "<style scoped>\n",
       "    .dataframe tbody tr th:only-of-type {\n",
       "        vertical-align: middle;\n",
       "    }\n",
       "\n",
       "    .dataframe tbody tr th {\n",
       "        vertical-align: top;\n",
       "    }\n",
       "\n",
       "    .dataframe thead th {\n",
       "        text-align: right;\n",
       "    }\n",
       "</style>\n",
       "<table border=\"1\" class=\"dataframe\">\n",
       "  <thead>\n",
       "    <tr style=\"text-align: right;\">\n",
       "      <th></th>\n",
       "      <th>PURCHASE_COUNT</th>\n",
       "      <th>PURCHASE_COUNT_DELIVERY</th>\n",
       "      <th>PURCHASE_COUNT_TAKEAWAY</th>\n",
       "      <th>USER_ID</th>\n",
       "      <th>BREAKFAST_PURCHASES</th>\n",
       "      <th>LUNCH_PURCHASES</th>\n",
       "      <th>EVENING_PURCHASES</th>\n",
       "      <th>DINNER_PURCHASES</th>\n",
       "      <th>LATE_NIGHT_PURCHASES</th>\n",
       "      <th>TOTAL_PURCHASES_EUR</th>\n",
       "      <th>...</th>\n",
       "      <th>MOST_COMMON_HOUR_OF_THE_DAY_TO_PURCHASE</th>\n",
       "      <th>MOST_COMMON_WEEKDAY_TO_PURCHASE</th>\n",
       "      <th>AVG_DAYS_BETWEEN_PURCHASES</th>\n",
       "      <th>MEDIAN_DAYS_BETWEEN_PURCHASES</th>\n",
       "      <th>AVERAGE_DELIVERY_DISTANCE_KMS</th>\n",
       "      <th>General merchandise</th>\n",
       "      <th>Grocery</th>\n",
       "      <th>Pet supplies</th>\n",
       "      <th>Restaurant</th>\n",
       "      <th>Retail store</th>\n",
       "    </tr>\n",
       "  </thead>\n",
       "  <tbody>\n",
       "    <tr>\n",
       "      <th>count</th>\n",
       "      <td>5451.00</td>\n",
       "      <td>5451.00</td>\n",
       "      <td>5451.00</td>\n",
       "      <td>5451.00</td>\n",
       "      <td>5451.00</td>\n",
       "      <td>5451.00</td>\n",
       "      <td>5451.00</td>\n",
       "      <td>5451.00</td>\n",
       "      <td>5451.00</td>\n",
       "      <td>5451.00</td>\n",
       "      <td>...</td>\n",
       "      <td>5451.00</td>\n",
       "      <td>5451.00</td>\n",
       "      <td>3582.00</td>\n",
       "      <td>3582.00</td>\n",
       "      <td>5451.00</td>\n",
       "      <td>5451.00</td>\n",
       "      <td>5451.00</td>\n",
       "      <td>5451.00</td>\n",
       "      <td>5451.00</td>\n",
       "      <td>5451.00</td>\n",
       "    </tr>\n",
       "    <tr>\n",
       "      <th>mean</th>\n",
       "      <td>6.35</td>\n",
       "      <td>5.97</td>\n",
       "      <td>0.38</td>\n",
       "      <td>11052.57</td>\n",
       "      <td>0.23</td>\n",
       "      <td>2.92</td>\n",
       "      <td>0.48</td>\n",
       "      <td>2.68</td>\n",
       "      <td>0.00</td>\n",
       "      <td>171.27</td>\n",
       "      <td>...</td>\n",
       "      <td>11.48</td>\n",
       "      <td>3.98</td>\n",
       "      <td>63.79</td>\n",
       "      <td>54.74</td>\n",
       "      <td>5.99</td>\n",
       "      <td>0.13</td>\n",
       "      <td>1.13</td>\n",
       "      <td>0.02</td>\n",
       "      <td>3.81</td>\n",
       "      <td>1.26</td>\n",
       "    </tr>\n",
       "    <tr>\n",
       "      <th>std</th>\n",
       "      <td>10.68</td>\n",
       "      <td>10.39</td>\n",
       "      <td>1.64</td>\n",
       "      <td>6352.20</td>\n",
       "      <td>0.88</td>\n",
       "      <td>6.08</td>\n",
       "      <td>1.37</td>\n",
       "      <td>4.69</td>\n",
       "      <td>0.00</td>\n",
       "      <td>296.13</td>\n",
       "      <td>...</td>\n",
       "      <td>6.97</td>\n",
       "      <td>2.01</td>\n",
       "      <td>71.93</td>\n",
       "      <td>74.29</td>\n",
       "      <td>3.46</td>\n",
       "      <td>0.33</td>\n",
       "      <td>4.12</td>\n",
       "      <td>0.12</td>\n",
       "      <td>5.09</td>\n",
       "      <td>4.08</td>\n",
       "    </tr>\n",
       "    <tr>\n",
       "      <th>min</th>\n",
       "      <td>1.00</td>\n",
       "      <td>0.00</td>\n",
       "      <td>0.00</td>\n",
       "      <td>2.00</td>\n",
       "      <td>0.00</td>\n",
       "      <td>0.00</td>\n",
       "      <td>0.00</td>\n",
       "      <td>0.00</td>\n",
       "      <td>0.00</td>\n",
       "      <td>1.01</td>\n",
       "      <td>...</td>\n",
       "      <td>0.00</td>\n",
       "      <td>1.00</td>\n",
       "      <td>0.00</td>\n",
       "      <td>0.00</td>\n",
       "      <td>0.00</td>\n",
       "      <td>0.00</td>\n",
       "      <td>0.00</td>\n",
       "      <td>0.00</td>\n",
       "      <td>1.00</td>\n",
       "      <td>0.00</td>\n",
       "    </tr>\n",
       "    <tr>\n",
       "      <th>1%</th>\n",
       "      <td>1.00</td>\n",
       "      <td>0.00</td>\n",
       "      <td>0.00</td>\n",
       "      <td>185.00</td>\n",
       "      <td>0.00</td>\n",
       "      <td>0.00</td>\n",
       "      <td>0.00</td>\n",
       "      <td>0.00</td>\n",
       "      <td>0.00</td>\n",
       "      <td>6.07</td>\n",
       "      <td>...</td>\n",
       "      <td>0.00</td>\n",
       "      <td>1.00</td>\n",
       "      <td>1.00</td>\n",
       "      <td>1.00</td>\n",
       "      <td>0.12</td>\n",
       "      <td>0.00</td>\n",
       "      <td>0.00</td>\n",
       "      <td>0.00</td>\n",
       "      <td>1.00</td>\n",
       "      <td>0.00</td>\n",
       "    </tr>\n",
       "    <tr>\n",
       "      <th>25%</th>\n",
       "      <td>1.00</td>\n",
       "      <td>1.00</td>\n",
       "      <td>0.00</td>\n",
       "      <td>5239.50</td>\n",
       "      <td>0.00</td>\n",
       "      <td>0.00</td>\n",
       "      <td>0.00</td>\n",
       "      <td>0.00</td>\n",
       "      <td>0.00</td>\n",
       "      <td>31.37</td>\n",
       "      <td>...</td>\n",
       "      <td>5.00</td>\n",
       "      <td>2.00</td>\n",
       "      <td>19.00</td>\n",
       "      <td>10.00</td>\n",
       "      <td>3.00</td>\n",
       "      <td>0.00</td>\n",
       "      <td>0.00</td>\n",
       "      <td>0.00</td>\n",
       "      <td>1.00</td>\n",
       "      <td>0.00</td>\n",
       "    </tr>\n",
       "    <tr>\n",
       "      <th>50%</th>\n",
       "      <td>3.00</td>\n",
       "      <td>2.00</td>\n",
       "      <td>0.00</td>\n",
       "      <td>11792.00</td>\n",
       "      <td>0.00</td>\n",
       "      <td>1.00</td>\n",
       "      <td>0.00</td>\n",
       "      <td>1.00</td>\n",
       "      <td>0.00</td>\n",
       "      <td>74.89</td>\n",
       "      <td>...</td>\n",
       "      <td>11.00</td>\n",
       "      <td>4.00</td>\n",
       "      <td>39.00</td>\n",
       "      <td>24.00</td>\n",
       "      <td>5.95</td>\n",
       "      <td>0.00</td>\n",
       "      <td>0.00</td>\n",
       "      <td>0.00</td>\n",
       "      <td>3.00</td>\n",
       "      <td>0.00</td>\n",
       "    </tr>\n",
       "    <tr>\n",
       "      <th>75%</th>\n",
       "      <td>7.00</td>\n",
       "      <td>6.00</td>\n",
       "      <td>0.00</td>\n",
       "      <td>16211.50</td>\n",
       "      <td>0.00</td>\n",
       "      <td>3.00</td>\n",
       "      <td>0.00</td>\n",
       "      <td>3.00</td>\n",
       "      <td>0.00</td>\n",
       "      <td>193.80</td>\n",
       "      <td>...</td>\n",
       "      <td>18.00</td>\n",
       "      <td>6.00</td>\n",
       "      <td>80.00</td>\n",
       "      <td>65.00</td>\n",
       "      <td>9.00</td>\n",
       "      <td>0.00</td>\n",
       "      <td>0.00</td>\n",
       "      <td>0.00</td>\n",
       "      <td>4.00</td>\n",
       "      <td>0.00</td>\n",
       "    </tr>\n",
       "    <tr>\n",
       "      <th>99%</th>\n",
       "      <td>47.00</td>\n",
       "      <td>46.00</td>\n",
       "      <td>7.00</td>\n",
       "      <td>21658.50</td>\n",
       "      <td>4.00</td>\n",
       "      <td>26.00</td>\n",
       "      <td>6.00</td>\n",
       "      <td>22.00</td>\n",
       "      <td>0.00</td>\n",
       "      <td>1258.93</td>\n",
       "      <td>...</td>\n",
       "      <td>23.00</td>\n",
       "      <td>7.00</td>\n",
       "      <td>365.38</td>\n",
       "      <td>365.38</td>\n",
       "      <td>11.91</td>\n",
       "      <td>1.00</td>\n",
       "      <td>18.00</td>\n",
       "      <td>1.00</td>\n",
       "      <td>23.00</td>\n",
       "      <td>19.00</td>\n",
       "    </tr>\n",
       "    <tr>\n",
       "      <th>max</th>\n",
       "      <td>221.00</td>\n",
       "      <td>221.00</td>\n",
       "      <td>44.00</td>\n",
       "      <td>21974.00</td>\n",
       "      <td>17.00</td>\n",
       "      <td>110.00</td>\n",
       "      <td>26.00</td>\n",
       "      <td>104.00</td>\n",
       "      <td>0.00</td>\n",
       "      <td>7979.62</td>\n",
       "      <td>...</td>\n",
       "      <td>23.00</td>\n",
       "      <td>7.00</td>\n",
       "      <td>421.00</td>\n",
       "      <td>421.00</td>\n",
       "      <td>12.00</td>\n",
       "      <td>1.00</td>\n",
       "      <td>110.00</td>\n",
       "      <td>1.00</td>\n",
       "      <td>110.00</td>\n",
       "      <td>72.00</td>\n",
       "    </tr>\n",
       "  </tbody>\n",
       "</table>\n",
       "<p>10 rows × 27 columns</p>\n",
       "</div>"
      ],
      "text/plain": [
       "       PURCHASE_COUNT  PURCHASE_COUNT_DELIVERY  PURCHASE_COUNT_TAKEAWAY  \\\n",
       "count         5451.00                  5451.00                  5451.00   \n",
       "mean             6.35                     5.97                     0.38   \n",
       "std             10.68                    10.39                     1.64   \n",
       "min              1.00                     0.00                     0.00   \n",
       "1%               1.00                     0.00                     0.00   \n",
       "25%              1.00                     1.00                     0.00   \n",
       "50%              3.00                     2.00                     0.00   \n",
       "75%              7.00                     6.00                     0.00   \n",
       "99%             47.00                    46.00                     7.00   \n",
       "max            221.00                   221.00                    44.00   \n",
       "\n",
       "       USER_ID  BREAKFAST_PURCHASES  LUNCH_PURCHASES  EVENING_PURCHASES  \\\n",
       "count  5451.00              5451.00          5451.00            5451.00   \n",
       "mean  11052.57                 0.23             2.92               0.48   \n",
       "std    6352.20                 0.88             6.08               1.37   \n",
       "min       2.00                 0.00             0.00               0.00   \n",
       "1%      185.00                 0.00             0.00               0.00   \n",
       "25%    5239.50                 0.00             0.00               0.00   \n",
       "50%   11792.00                 0.00             1.00               0.00   \n",
       "75%   16211.50                 0.00             3.00               0.00   \n",
       "99%   21658.50                 4.00            26.00               6.00   \n",
       "max   21974.00                17.00           110.00              26.00   \n",
       "\n",
       "       DINNER_PURCHASES  LATE_NIGHT_PURCHASES  TOTAL_PURCHASES_EUR  ...  \\\n",
       "count           5451.00               5451.00              5451.00  ...   \n",
       "mean               2.68                  0.00               171.27  ...   \n",
       "std                4.69                  0.00               296.13  ...   \n",
       "min                0.00                  0.00                 1.01  ...   \n",
       "1%                 0.00                  0.00                 6.07  ...   \n",
       "25%                0.00                  0.00                31.37  ...   \n",
       "50%                1.00                  0.00                74.89  ...   \n",
       "75%                3.00                  0.00               193.80  ...   \n",
       "99%               22.00                  0.00              1258.93  ...   \n",
       "max              104.00                  0.00              7979.62  ...   \n",
       "\n",
       "       MOST_COMMON_HOUR_OF_THE_DAY_TO_PURCHASE  \\\n",
       "count                                  5451.00   \n",
       "mean                                     11.48   \n",
       "std                                       6.97   \n",
       "min                                       0.00   \n",
       "1%                                        0.00   \n",
       "25%                                       5.00   \n",
       "50%                                      11.00   \n",
       "75%                                      18.00   \n",
       "99%                                      23.00   \n",
       "max                                      23.00   \n",
       "\n",
       "       MOST_COMMON_WEEKDAY_TO_PURCHASE  AVG_DAYS_BETWEEN_PURCHASES  \\\n",
       "count                          5451.00                     3582.00   \n",
       "mean                              3.98                       63.79   \n",
       "std                               2.01                       71.93   \n",
       "min                               1.00                        0.00   \n",
       "1%                                1.00                        1.00   \n",
       "25%                               2.00                       19.00   \n",
       "50%                               4.00                       39.00   \n",
       "75%                               6.00                       80.00   \n",
       "99%                               7.00                      365.38   \n",
       "max                               7.00                      421.00   \n",
       "\n",
       "       MEDIAN_DAYS_BETWEEN_PURCHASES  AVERAGE_DELIVERY_DISTANCE_KMS  \\\n",
       "count                        3582.00                        5451.00   \n",
       "mean                           54.74                           5.99   \n",
       "std                            74.29                           3.46   \n",
       "min                             0.00                           0.00   \n",
       "1%                              1.00                           0.12   \n",
       "25%                            10.00                           3.00   \n",
       "50%                            24.00                           5.95   \n",
       "75%                            65.00                           9.00   \n",
       "99%                           365.38                          11.91   \n",
       "max                           421.00                          12.00   \n",
       "\n",
       "       General merchandise  Grocery  Pet supplies  Restaurant  Retail store  \n",
       "count              5451.00  5451.00       5451.00     5451.00       5451.00  \n",
       "mean                  0.13     1.13          0.02        3.81          1.26  \n",
       "std                   0.33     4.12          0.12        5.09          4.08  \n",
       "min                   0.00     0.00          0.00        1.00          0.00  \n",
       "1%                    0.00     0.00          0.00        1.00          0.00  \n",
       "25%                   0.00     0.00          0.00        1.00          0.00  \n",
       "50%                   0.00     0.00          0.00        3.00          0.00  \n",
       "75%                   0.00     0.00          0.00        4.00          0.00  \n",
       "99%                   1.00    18.00          1.00       23.00         19.00  \n",
       "max                   1.00   110.00          1.00      110.00         72.00  \n",
       "\n",
       "[10 rows x 27 columns]"
      ]
     },
     "execution_count": 24,
     "metadata": {},
     "output_type": "execute_result"
    }
   ],
   "source": [
    "# stats\n",
    "df_sc_active.describe([0.01,0.25,0.50,0.75,0.99])"
   ]
  },
  {
   "cell_type": "markdown",
   "id": "911fff6c",
   "metadata": {},
   "source": [
    "#### Checking for outliers"
   ]
  },
  {
   "cell_type": "code",
   "execution_count": 25,
   "id": "dd3f867e",
   "metadata": {
    "scrolled": false
   },
   "outputs": [
    {
     "data": {
      "image/png": "[encoded data removed]",
      "text/plain": [
       "<Figure size 720x720 with 1 Axes>"
      ]
     },
     "metadata": {
      "needs_background": "light"
     },
     "output_type": "display_data"
    }
   ],
   "source": [
    "# plot\n",
    "df_sc.TOTAL_PURCHASES_EUR.plot(kind='box', figsize=((10,10)))\n",
    "\n",
    "# style\n",
    "ax=plt.gca()\n",
    "ax.set_yscale('log') #switch y-axis to log-scale to remove skew towards large values\n",
    "ax.set_yticklabels([0,0,100,1000,10000])\n",
    "plt.title(\"Total EUR spent by user\", y=1.02, fontsize=20)\n",
    "plt.xlabel(\"\")\n",
    "plt.show()"
   ]
  },
  {
   "cell_type": "markdown",
   "id": "3b6c6a54",
   "metadata": {},
   "source": [
    "**Empirical rule** states that in a normal distribution, almost all observed data will fall within three standard deviations of the mean.\n",
    "\n",
    "From here we can deduce that values outside of the said range might be outliers."
   ]
  },
  {
   "cell_type": "code",
   "execution_count": 26,
   "id": "2363ff06",
   "metadata": {
    "scrolled": true
   },
   "outputs": [
    {
     "name": "stdout",
     "output_type": "stream",
     "text": [
      "Value for mean + 3 * std: 786.79\n"
     ]
    }
   ],
   "source": [
    "tpe = df_sc.TOTAL_PURCHASES_EUR\n",
    "print(f'Value for mean + 3 * std: {tpe.mean() + 3 * tpe.std():.2f}')"
   ]
  },
  {
   "cell_type": "markdown",
   "id": "2bb24dba",
   "metadata": {},
   "source": [
    "- If we look at the box plot above we can see a number of users that are above that range\n",
    "- There are two data points near 8000 EUR mark that might be outliers\n",
    "- There are also three data points near 3000 EUR mark that stand out a bit from the rest \n",
    "- In my opinion all of the values present seem believable and may not be outliers"
   ]
  },
  {
   "cell_type": "code",
   "execution_count": 27,
   "id": "0a455a2d",
   "metadata": {},
   "outputs": [],
   "source": [
    "# CODE TO REMOVE OUTLIERS IF NEEDED\n",
    "\n",
    "#outliers = list(df_sc[df_sc.TOTAL_PURCHASES_EUR > 2600].index)\n",
    "#print(len(outliers))\n",
    "\n",
    "# drop the 5 (2+3) outliers from dataset since they're too few to form a relevant sized group\n",
    "#df_sc = df_sc.drop(index = outliers)"
   ]
  },
  {
   "cell_type": "markdown",
   "id": "48f5fe58",
   "metadata": {},
   "source": [
    "## Finding segments from active users group"
   ]
  },
  {
   "cell_type": "markdown",
   "id": "d3565078",
   "metadata": {},
   "source": [
    "### The RFM model\n",
    "\n",
    "The letters in RFM come from *Recency*, *Frequency*, *Monetary*. The RFM model tries to sort out the best customers according to the three following attributes:\n",
    "1. most recent purchase date \n",
    "2. number of transactions within the period (often a year) \n",
    "3. total or average sales attributed to the customer (total or average margin works even better)\n",
    "\n",
    "The higher the RFM score, the more valuable the customer."
   ]
  },
  {
   "cell_type": "code",
   "execution_count": 28,
   "id": "57599e98",
   "metadata": {},
   "outputs": [],
   "source": [
    "# RFM dataframe\n",
    "rfm_df = df_sc_active[['LAST_PURCHASE_DAY', 'PURCHASE_COUNT', \n",
    "                       'TOTAL_PURCHASES_EUR', 'USER_ID']].copy()\n",
    "rfm_df.set_index('USER_ID', inplace = True)"
   ]
  },
  {
   "cell_type": "code",
   "execution_count": 29,
   "id": "ee7e1d9d",
   "metadata": {
    "scrolled": true
   },
   "outputs": [
    {
     "data": {
      "text/plain": [
       "LAST_PURCHASE_DAY      1\n",
       "PURCHASE_COUNT         0\n",
       "TOTAL_PURCHASES_EUR    0\n",
       "dtype: int64"
      ]
     },
     "execution_count": 29,
     "metadata": {},
     "output_type": "execute_result"
    }
   ],
   "source": [
    "# showing rows (users) with missing values\n",
    "rfm_df.isna().sum()"
   ]
  },
  {
   "cell_type": "code",
   "execution_count": 30,
   "id": "b78eee14",
   "metadata": {},
   "outputs": [],
   "source": [
    "# removing this one row since it doesn't have enough data and the sample is big enough without it\n",
    "drop = list(rfm_df[pd.isnull(rfm_df.LAST_PURCHASE_DAY)].index)\n",
    "rfm_df.drop(index = drop, inplace = True)"
   ]
  },
  {
   "cell_type": "code",
   "execution_count": 31,
   "id": "7e56d32a",
   "metadata": {},
   "outputs": [],
   "source": [
    "# calculate RFM scores \n",
    "rfm_df['R'] = pd.qcut(rfm_df['LAST_PURCHASE_DAY'].rank(method='first'), 5 , labels = [1,2,3,4,5])\n",
    "rfm_df['F'] = pd.qcut(rfm_df['PURCHASE_COUNT'].rank(method='first'), 5, labels = [1,2,3,4,5])\n",
    "rfm_df['M'] = pd.qcut(rfm_df['TOTAL_PURCHASES_EUR'].rank(method='first'), 5, labels = [1,2,3,4,5])\n",
    "\n",
    "rfm_df['RFM_Score'] = rfm_df['R'].astype(str) + rfm_df['F'].astype(str) + rfm_df['M'].astype(str)"
   ]
  },
  {
   "cell_type": "markdown",
   "id": "1b9b2c8f",
   "metadata": {},
   "source": [
    "The qcut-function tries to make all quartiles in the data equal sized. I decided to divide the data into 5 categories. The data didnt divide properly to 5 categories because of duplicate values so I had to use the rank-method to give ranks to the duplicates. The result is that some of the duplicates will belong to a different (adjacent) category."
   ]
  },
  {
   "cell_type": "markdown",
   "id": "06aba6b7",
   "metadata": {},
   "source": [
    "### Segments\n",
    "\n",
    "The different segments are assigned according to R- and F-scores of each user's data. R-score is given according to how recently active the user has been and F-score is given according to how many purchases the user has made.\n",
    "\n",
    "#### Labels\n",
    "\n",
    "*Hibernating* customers haven't been active for a longer period and made only a few purchases\n",
    "\n",
    "*At Risk* group hasn't been active for a longer period but made considerable purchases before\n",
    "\n",
    "*Can't Loose* group hasn't been active for a longer period but made **vast purchases** before\n",
    "\n",
    "*About to Sleep* group has been active some time ago but hasn't bought much \n",
    "\n",
    "*Need Attention* group has been active some time ago and also made notable purchases\n",
    "\n",
    "*Loyal Customers* have been active quite recently or some time ago and made considerable purchases before\n",
    "\n",
    "*Promising* customers have been active some time ago and made a few purchases\n",
    "\n",
    "*New Customers* have been active recently and made a few purchases\n",
    "\n",
    "*Potential Loyalists* have been active recently and made notable purchases\n",
    "\n",
    "*Premier Customers* have been active recently and made considerable or vast purchases before"
   ]
  },
  {
   "cell_type": "code",
   "execution_count": 32,
   "id": "9507e025",
   "metadata": {},
   "outputs": [],
   "source": [
    "segments = {\n",
    "    r'[1-2][1-2]': 'Hibernating',\n",
    "    r'[1-2][3-4]': 'At Risk',\n",
    "    r'[1-2]5': 'Can\\'t Loose',\n",
    "    r'3[1-2]': 'About to Sleep',\n",
    "    r'33': 'Need Attention',\n",
    "    r'[3-4][4-5]': 'Loyal Customers',\n",
    "    r'41': 'Promising',\n",
    "    r'51': 'New Customers',\n",
    "    r'[4-5][2-3]': 'Potential Loyalists',\n",
    "    r'5[4-5]': 'Premier Customers'\n",
    "}\n",
    "\n",
    "rfm_df['Segment'] = rfm_df['R'].astype(str) + rfm_df['F'].astype(str)\n",
    "rfm_df['Segment'] = rfm_df['Segment'].replace(segments, regex=True)"
   ]
  },
  {
   "cell_type": "code",
   "execution_count": 33,
   "id": "573e8f81",
   "metadata": {
    "scrolled": true
   },
   "outputs": [
    {
     "data": {
      "image/png": "[encoded data removed]",
      "text/plain": [
       "<Figure size 432x288 with 1 Axes>"
      ]
     },
     "metadata": {
      "needs_background": "light"
     },
     "output_type": "display_data"
    }
   ],
   "source": [
    "# plot\n",
    "\n",
    "def plot_rfm(df):\n",
    "    total_size = len(df)\n",
    "    segment_list = list(df.Segment.unique())\n",
    "\n",
    "    # sort biggest groups first\n",
    "    x = [len(df[df.Segment == name]) for name in segment_list]\n",
    "    sortedIndex = list(np.argsort(x))[::-1]\n",
    "    x = [x[i] for i in sortedIndex]\n",
    "\n",
    "    y = [f'{name} ({len(df[df.Segment == name]) / total_size * 100:.2f} %)' for name in segment_list]\n",
    "    y = [y[i] for i in sortedIndex]\n",
    "\n",
    "    sns.barplot(x=x, y=y, orient='h')\n",
    "\n",
    "    # style\n",
    "    plt.title(f\"User segments according to RFM ({country_name})\", y=1.02, fontsize=22)\n",
    "    plt.xlabel(\"Users\", fontsize = 14)\n",
    "    plt.yticks(fontsize = 14)\n",
    "    plt.xticks(fontsize = 14)\n",
    "    plt.tight_layout()\n",
    "    plt.show()\n",
    "    \n",
    "    return sortedIndex\n",
    "    \n",
    "# get sorted index for segments    \n",
    "seg_sorted_i = plot_rfm(rfm_df)"
   ]
  },
  {
   "cell_type": "markdown",
   "id": "512ae6ea",
   "metadata": {},
   "source": [
    "---"
   ]
  },
  {
   "cell_type": "markdown",
   "id": "ca0ed403",
   "metadata": {},
   "source": [
    "## Getting into details\n",
    "\n",
    "It's possible to get further details about each segment with this dataset. Next are presented some examples. The content of the functions I made could be changed quickly to match other attributes we might be more interested in."
   ]
  },
  {
   "cell_type": "markdown",
   "id": "c0b0bc8f",
   "metadata": {},
   "source": [
    "### Plotting"
   ]
  },
  {
   "cell_type": "code",
   "execution_count": 34,
   "id": "5754c10e",
   "metadata": {
    "scrolled": true
   },
   "outputs": [],
   "source": [
    "def get_segments():  \n",
    "    \n",
    "    # get segment names and sort the list    \n",
    "    seg_list = [name for name in rfm_df.Segment.unique()]\n",
    "    seg_list = [seg_list[i] for i in seg_sorted_i]\n",
    "    \n",
    "    return seg_list\n",
    "    \n",
    "def get_views(seg_list: list):\n",
    "    \n",
    "    # get views for each segment\n",
    "    views = {}\n",
    "    \n",
    "    for name in seg_list:\n",
    "        id_list = rfm_df[rfm_df.Segment == name].index.tolist()\n",
    "        views[name] = df.loc[df.USER_ID.isin(id_list)]\n",
    "    \n",
    "    return views\n",
    "\n",
    "def plot_segments_restaurant(views: dict, seg_list: list, palette: list):\n",
    " \n",
    "    # subplots\n",
    "    fig = plt.figure(figsize=(16, 13))\n",
    "    plt.subplots_adjust(hspace=0.5, wspace=0.7)\n",
    "    plt.suptitle(f\"Preferred restaurant types / segment\\n({country_name})\", fontsize=24, y=0.99)\n",
    "    fig.patch.set_facecolor('white')\n",
    "    \n",
    "    # get color map\n",
    "    color_labels = df.PREFERRED_RESTAURANT_TYPES.explode().dropna().unique()\n",
    "    palette = dict(zip(color_labels, palette))           \n",
    "\n",
    "    # loop through segments and get index\n",
    "    for i, name in enumerate(seg_list):\n",
    "\n",
    "        # add a new subplot iteratively\n",
    "        ax = plt.subplot(4, 3, i + 1) # we need + 1 because subplots start at 1\n",
    "        \n",
    "        # get data\n",
    "        data = views[name]['PREFERRED_RESTAURANT_TYPES'].explode().value_counts().sort_values(ascending = False)\n",
    "        \n",
    "        #plot segment on the axis            \n",
    "        sns.barplot(x=data, y=data.index, orient='h', ax=ax, palette=palette)\n",
    "\n",
    "        # style\n",
    "        ax.set_title(name)\n",
    "        plt.xlabel(\"\")\n",
    "\n",
    "def plot_segments_store_types(views: dict, seg_list:list, palette: list):\n",
    "    target = ['General merchandise', 'Grocery', 'Pet supplies', 'Restaurant', 'Retail store']\n",
    "    \n",
    "    # subplots\n",
    "    fig = plt.figure(figsize=(16, 13))\n",
    "    plt.subplots_adjust(hspace=0.5, wspace=0.7)\n",
    "    plt.suptitle(f\"Purchase count by store type / segment\\n({country_name})\", fontsize=24, y=0.99)\n",
    "    fig.patch.set_facecolor('white')\n",
    "    \n",
    "    # get color map\n",
    "    color_labels = target\n",
    "    palette = dict(zip(color_labels, palette))           \n",
    "\n",
    "    # loop through segments and get index\n",
    "    for i, name in enumerate(seg_list):\n",
    "\n",
    "        # add a new subplot iteratively\n",
    "        ax = plt.subplot(4, 3, i + 1) # we need + 1 because subplots start at 1\n",
    "        \n",
    "        # get data\n",
    "        data = views[name][target].sum(axis=0)\n",
    "        \n",
    "        # get sorted index\n",
    "        sorted_target = list(np.argsort(data))[::-1]\n",
    "        \n",
    "        # sort data & labels\n",
    "        sorted_data = [data[i] for i in sorted_target]\n",
    "        sorted_labels = [target[i] for i in sorted_target]\n",
    "\n",
    "        #plot segment on the axis            \n",
    "        sns.barplot(x=sorted_data, y=sorted_labels, ax=ax, orient='h', palette=palette)\n",
    "\n",
    "        # style\n",
    "        ax.set_title(name, fontsize=12)\n",
    "        plt.xlabel(\"\") \n",
    "\n",
    "def plot_segments_delivery(views: dict, seg_list:list, palette: list):\n",
    "    target = ['PURCHASE_COUNT_DELIVERY', 'PURCHASE_COUNT_TAKEAWAY']\n",
    "    \n",
    "    # subplots\n",
    "    fig = plt.figure(figsize=(16, 13))\n",
    "    plt.subplots_adjust(hspace=0.5, wspace=0.7)\n",
    "    plt.suptitle(f\"Order type / segment\\n({country_name})\", fontsize=26, y=0.99)\n",
    "    fig.patch.set_facecolor('white')\n",
    "    \n",
    "    # get color map\n",
    "    color_labels = target\n",
    "    palette = dict(zip(color_labels, palette))           \n",
    "\n",
    "    # loop through segments and get index\n",
    "    for i, name in enumerate(seg_list):\n",
    "\n",
    "        # add a new subplot iteratively\n",
    "        ax = plt.subplot(4, 3, i + 1) # we need + 1 because subplots start at 1\n",
    "        \n",
    "        # get data\n",
    "        data = views[name][target].sum(axis=0)\n",
    "        \n",
    "        # get sorted index\n",
    "        sorted_target = list(np.argsort(data))[::-1]\n",
    "        \n",
    "        # sort data & labels\n",
    "        sorted_data = [data[i] for i in sorted_target]\n",
    "        sorted_labels = [target[i] for i in sorted_target]\n",
    "\n",
    "        #plot segment on the axis            \n",
    "        sns.barplot(x=sorted_data, y=sorted_labels, ax=ax, orient='h', palette=palette)\n",
    "\n",
    "        # style\n",
    "        ax.set_title(name, fontsize=16)\n",
    "        ax.set_yticks(range(2), labels=['Delivery', 'Takeaway'], fontsize=12)\n",
    "        plt.xlabel(\"\") "
   ]
  },
  {
   "cell_type": "code",
   "execution_count": 35,
   "id": "81f08f7a",
   "metadata": {},
   "outputs": [],
   "source": [
    "# palettes - courtesy of https://medialab.github.io/iwanthue/\n",
    "palette_restaurant = [\"#f34c5e\", \"#56ae38\", \"#6a47ba\", \"#d7db5a\", \"#d2247b\", \n",
    "                      \"#009962\", \"#8b0027\", \"#b2e19c\", \"#ca4523\", \"#00520d\",\n",
    "                      \"#ffa452\", \"#823629\", \"#d6d985\", \"#ffa782\"]\n",
    "\n",
    "palette_store_types = [\"#bd0087\", \"#75aaff\", \"#ff7e62\", \"#7f64ff\", \"#0035a3\"]\n",
    "\n",
    "palette_delivery = [\"#4d9fff\", \"#901a00\"]"
   ]
  },
  {
   "cell_type": "code",
   "execution_count": 36,
   "id": "442e20dd",
   "metadata": {},
   "outputs": [
    {
     "data": {
      "image/png": "[encoded data removed]",
      "text/plain": [
       "<Figure size 1152x936 with 10 Axes>"
      ]
     },
     "metadata": {},
     "output_type": "display_data"
    },
    {
     "data": {
      "image/png": "[encoded data removed]",
      "text/plain": [
       "<Figure size 1152x936 with 10 Axes>"
      ]
     },
     "metadata": {},
     "output_type": "display_data"
    },
    {
     "data": {
      "image/png": "[encoded data removed]",
      "text/plain": [
       "<Figure size 1152x936 with 10 Axes>"
      ]
     },
     "metadata": {},
     "output_type": "display_data"
    }
   ],
   "source": [
    "# plot\n",
    "seg_list = get_segments()\n",
    "views = get_views(seg_list)\n",
    "plot_segments_restaurant(views, seg_list, palette_restaurant)\n",
    "plot_segments_store_types(views, seg_list, palette_store_types)\n",
    "plot_segments_delivery(views, seg_list, palette_delivery)"
   ]
  },
  {
   "cell_type": "markdown",
   "id": "2c3cbaba",
   "metadata": {},
   "source": [
    "---"
   ]
  },
  {
   "cell_type": "markdown",
   "id": "ddc0938a",
   "metadata": {},
   "source": [
    "# K-means clustering\n",
    "\n",
    "K-means clustering is an unsupervised machine learning algorithm. That means that when we fit the model to the data the algorithm independently searches for clusters of data points – in this case it tries to make clusters of users. The end result would be a certain amount of clusters that could be interpreted as segments found in the data. The method used in classifying the data points (=users) to each cluster is by similar values in each user's data."
   ]
  },
  {
   "cell_type": "markdown",
   "id": "e0989aa6",
   "metadata": {},
   "source": [
    "## by country\n",
    "We will continue clustering with one country's data to see if the results are similar to what we got with RFM model. "
   ]
  },
  {
   "cell_type": "code",
   "execution_count": 37,
   "id": "cf5c964f",
   "metadata": {},
   "outputs": [],
   "source": [
    "# imports\n",
    "from sklearn.cluster import KMeans\n",
    "from sklearn.preprocessing import MinMaxScaler\n",
    "from sklearn.metrics import silhouette_score"
   ]
  },
  {
   "cell_type": "markdown",
   "id": "8805e4eb",
   "metadata": {},
   "source": [
    "### Prepare the data"
   ]
  },
  {
   "cell_type": "code",
   "execution_count": 38,
   "id": "8b135013",
   "metadata": {
    "scrolled": true
   },
   "outputs": [],
   "source": [
    "# make new DataFrame with same columns as RFM model had\n",
    "new_df = df_sc_active[['LAST_PURCHASE_DAY', 'PURCHASE_COUNT', 'TOTAL_PURCHASES_EUR']].copy()"
   ]
  },
  {
   "cell_type": "code",
   "execution_count": 39,
   "id": "c49c0751",
   "metadata": {
    "scrolled": true
   },
   "outputs": [
    {
     "data": {
      "text/plain": [
       "LAST_PURCHASE_DAY      1\n",
       "PURCHASE_COUNT         0\n",
       "TOTAL_PURCHASES_EUR    0\n",
       "dtype: int64"
      ]
     },
     "execution_count": 39,
     "metadata": {},
     "output_type": "execute_result"
    }
   ],
   "source": [
    "new_df.isna().sum()"
   ]
  },
  {
   "cell_type": "code",
   "execution_count": 40,
   "id": "dda0eebf",
   "metadata": {},
   "outputs": [],
   "source": [
    "# removing this one row since it doesn't have enough data and the sample is big enough without it\n",
    "drop = list(new_df[pd.isnull(new_df.LAST_PURCHASE_DAY)].index)\n",
    "new_df.drop(index = drop, inplace = True)"
   ]
  },
  {
   "cell_type": "code",
   "execution_count": 41,
   "id": "0477aabf",
   "metadata": {},
   "outputs": [],
   "source": [
    "# new column for recency in purchases\n",
    "most_recent = new_df.LAST_PURCHASE_DAY.max()\n",
    "new_df['days_from_purchases'] = (most_recent - new_df.LAST_PURCHASE_DAY).dt.days\n",
    "\n",
    "# remove datetime columns\n",
    "new_df.drop(columns = ['LAST_PURCHASE_DAY'], inplace = True)"
   ]
  },
  {
   "cell_type": "markdown",
   "id": "4e67b44f",
   "metadata": {},
   "source": [
    "### Outliers"
   ]
  },
  {
   "cell_type": "code",
   "execution_count": 42,
   "id": "b9446e9a",
   "metadata": {
    "scrolled": false
   },
   "outputs": [
    {
     "data": {
      "text/html": [
       "<div>\n",
       "<style scoped>\n",
       "    .dataframe tbody tr th:only-of-type {\n",
       "        vertical-align: middle;\n",
       "    }\n",
       "\n",
       "    .dataframe tbody tr th {\n",
       "        vertical-align: top;\n",
       "    }\n",
       "\n",
       "    .dataframe thead th {\n",
       "        text-align: right;\n",
       "    }\n",
       "</style>\n",
       "<table border=\"1\" class=\"dataframe\">\n",
       "  <thead>\n",
       "    <tr style=\"text-align: right;\">\n",
       "      <th></th>\n",
       "      <th>PURCHASE_COUNT</th>\n",
       "      <th>TOTAL_PURCHASES_EUR</th>\n",
       "      <th>days_from_purchases</th>\n",
       "    </tr>\n",
       "  </thead>\n",
       "  <tbody>\n",
       "    <tr>\n",
       "      <th>count</th>\n",
       "      <td>5450.00</td>\n",
       "      <td>5450.00</td>\n",
       "      <td>5450.00</td>\n",
       "    </tr>\n",
       "    <tr>\n",
       "      <th>mean</th>\n",
       "      <td>6.35</td>\n",
       "      <td>171.29</td>\n",
       "      <td>193.70</td>\n",
       "    </tr>\n",
       "    <tr>\n",
       "      <th>std</th>\n",
       "      <td>10.68</td>\n",
       "      <td>296.15</td>\n",
       "      <td>162.24</td>\n",
       "    </tr>\n",
       "    <tr>\n",
       "      <th>min</th>\n",
       "      <td>1.00</td>\n",
       "      <td>1.01</td>\n",
       "      <td>0.00</td>\n",
       "    </tr>\n",
       "    <tr>\n",
       "      <th>1%</th>\n",
       "      <td>1.00</td>\n",
       "      <td>6.07</td>\n",
       "      <td>0.00</td>\n",
       "    </tr>\n",
       "    <tr>\n",
       "      <th>25%</th>\n",
       "      <td>1.00</td>\n",
       "      <td>31.37</td>\n",
       "      <td>30.00</td>\n",
       "    </tr>\n",
       "    <tr>\n",
       "      <th>50%</th>\n",
       "      <td>3.00</td>\n",
       "      <td>74.89</td>\n",
       "      <td>159.00</td>\n",
       "    </tr>\n",
       "    <tr>\n",
       "      <th>75%</th>\n",
       "      <td>7.00</td>\n",
       "      <td>194.05</td>\n",
       "      <td>386.00</td>\n",
       "    </tr>\n",
       "    <tr>\n",
       "      <th>99%</th>\n",
       "      <td>47.00</td>\n",
       "      <td>1259.01</td>\n",
       "      <td>425.00</td>\n",
       "    </tr>\n",
       "    <tr>\n",
       "      <th>max</th>\n",
       "      <td>221.00</td>\n",
       "      <td>7979.62</td>\n",
       "      <td>426.00</td>\n",
       "    </tr>\n",
       "  </tbody>\n",
       "</table>\n",
       "</div>"
      ],
      "text/plain": [
       "       PURCHASE_COUNT  TOTAL_PURCHASES_EUR  days_from_purchases\n",
       "count         5450.00              5450.00              5450.00\n",
       "mean             6.35               171.29               193.70\n",
       "std             10.68               296.15               162.24\n",
       "min              1.00                 1.01                 0.00\n",
       "1%               1.00                 6.07                 0.00\n",
       "25%              1.00                31.37                30.00\n",
       "50%              3.00                74.89               159.00\n",
       "75%              7.00               194.05               386.00\n",
       "99%             47.00              1259.01               425.00\n",
       "max            221.00              7979.62               426.00"
      ]
     },
     "execution_count": 42,
     "metadata": {},
     "output_type": "execute_result"
    }
   ],
   "source": [
    "# for modeling we should remove our outliers in TOTAL_PURCHASES_EUR\n",
    "new_df.describe([0.01,0.25,0.50,0.75,0.99])"
   ]
  },
  {
   "cell_type": "code",
   "execution_count": 43,
   "id": "5d21f30c",
   "metadata": {},
   "outputs": [
    {
     "data": {
      "image/png": "[encoded data removed]",
      "text/plain": [
       "<Figure size 432x288 with 1 Axes>"
      ]
     },
     "metadata": {
      "needs_background": "light"
     },
     "output_type": "display_data"
    }
   ],
   "source": [
    "new_df.plot(kind='box')\n",
    "ax=plt.gca()\n",
    "ax.set_yscale('log')"
   ]
  },
  {
   "cell_type": "code",
   "execution_count": 44,
   "id": "0ccbb191",
   "metadata": {},
   "outputs": [
    {
     "data": {
      "text/html": [
       "<div>\n",
       "<style scoped>\n",
       "    .dataframe tbody tr th:only-of-type {\n",
       "        vertical-align: middle;\n",
       "    }\n",
       "\n",
       "    .dataframe tbody tr th {\n",
       "        vertical-align: top;\n",
       "    }\n",
       "\n",
       "    .dataframe thead th {\n",
       "        text-align: right;\n",
       "    }\n",
       "</style>\n",
       "<table border=\"1\" class=\"dataframe\">\n",
       "  <thead>\n",
       "    <tr style=\"text-align: right;\">\n",
       "      <th></th>\n",
       "      <th>PURCHASE_COUNT</th>\n",
       "      <th>TOTAL_PURCHASES_EUR</th>\n",
       "      <th>days_from_purchases</th>\n",
       "    </tr>\n",
       "  </thead>\n",
       "  <tbody>\n",
       "    <tr>\n",
       "      <th>3360</th>\n",
       "      <td>125</td>\n",
       "      <td>2459.16</td>\n",
       "      <td>0</td>\n",
       "    </tr>\n",
       "    <tr>\n",
       "      <th>1838</th>\n",
       "      <td>130</td>\n",
       "      <td>2568.46</td>\n",
       "      <td>1</td>\n",
       "    </tr>\n",
       "    <tr>\n",
       "      <th>1578</th>\n",
       "      <td>133</td>\n",
       "      <td>3208.04</td>\n",
       "      <td>127</td>\n",
       "    </tr>\n",
       "    <tr>\n",
       "      <th>18771</th>\n",
       "      <td>144</td>\n",
       "      <td>3584.50</td>\n",
       "      <td>10</td>\n",
       "    </tr>\n",
       "    <tr>\n",
       "      <th>18672</th>\n",
       "      <td>221</td>\n",
       "      <td>7080.96</td>\n",
       "      <td>53</td>\n",
       "    </tr>\n",
       "  </tbody>\n",
       "</table>\n",
       "</div>"
      ],
      "text/plain": [
       "       PURCHASE_COUNT  TOTAL_PURCHASES_EUR  days_from_purchases\n",
       "3360              125              2459.16                    0\n",
       "1838              130              2568.46                    1\n",
       "1578              133              3208.04                  127\n",
       "18771             144              3584.50                   10\n",
       "18672             221              7080.96                   53"
      ]
     },
     "execution_count": 44,
     "metadata": {},
     "output_type": "execute_result"
    }
   ],
   "source": [
    "new_df[new_df.PURCHASE_COUNT >  new_df.PURCHASE_COUNT.quantile(.99)].sort_values(by='PURCHASE_COUNT').tail()"
   ]
  },
  {
   "cell_type": "code",
   "execution_count": 45,
   "id": "a1c0b35c",
   "metadata": {},
   "outputs": [],
   "source": [
    "# remove outliers\n",
    "\n",
    "outliers = list(new_df[new_df.TOTAL_PURCHASES_EUR > 2600].index) # this is the 5 outliers identified at RFM-model before\n",
    "new_df = new_df.drop(index = outliers) # this also removes the one above from PURCHASE_COUNT "
   ]
  },
  {
   "cell_type": "markdown",
   "id": "1b4e62a2",
   "metadata": {},
   "source": [
    "#### Correlation"
   ]
  },
  {
   "cell_type": "code",
   "execution_count": 46,
   "id": "d4268377",
   "metadata": {
    "scrolled": false
   },
   "outputs": [
    {
     "data": {
      "text/plain": [
       "<AxesSubplot:>"
      ]
     },
     "execution_count": 46,
     "metadata": {},
     "output_type": "execute_result"
    },
    {
     "data": {
      "image/png": "[encoded data removed]",
      "text/plain": [
       "<Figure size 720x576 with 2 Axes>"
      ]
     },
     "metadata": {
      "needs_background": "light"
     },
     "output_type": "display_data"
    }
   ],
   "source": [
    "# correlation\n",
    "plt.figure(figsize=(10,8))\n",
    "ax=plt.subplot(111)\n",
    "sns.heatmap(new_df.corr(),ax=ax,annot=True,cmap='RdBu')"
   ]
  },
  {
   "cell_type": "markdown",
   "id": "6081dbe0",
   "metadata": {},
   "source": [
    "There is high correlation present: Number of purchases & Sum of purchases"
   ]
  },
  {
   "cell_type": "markdown",
   "id": "b243bdf5",
   "metadata": {},
   "source": [
    "### Scaling the data (normalization)"
   ]
  },
  {
   "cell_type": "code",
   "execution_count": 47,
   "id": "899de30b",
   "metadata": {},
   "outputs": [],
   "source": [
    "# using MinMaxScaler because it retains the original shape of the data (data is skewed)\n",
    "scaler = MinMaxScaler()\n",
    "\n",
    "df_scaled = scaler.fit_transform(new_df)"
   ]
  },
  {
   "cell_type": "markdown",
   "id": "02266913",
   "metadata": {},
   "source": [
    "### Determine optimal number of cluster"
   ]
  },
  {
   "cell_type": "code",
   "execution_count": 48,
   "id": "e575c453",
   "metadata": {
    "scrolled": false
   },
   "outputs": [
    {
     "data": {
      "image/png": "[encoded data removed]",
      "text/plain": [
       "<Figure size 432x288 with 1 Axes>"
      ]
     },
     "metadata": {
      "needs_background": "light"
     },
     "output_type": "display_data"
    }
   ],
   "source": [
    "# elbow method\n",
    "Sum_of_squared_distances = []\n",
    "K = range(1,10)\n",
    "for num_clusters in K:\n",
    "    kmeans = KMeans(n_clusters=num_clusters, random_state=42).fit(df_scaled)\n",
    "    Sum_of_squared_distances.append(kmeans.inertia_)\n",
    "    \n",
    "# plot\n",
    "plt.plot(K, Sum_of_squared_distances, 'bx-')\n",
    "plt.xlabel('Values of K') \n",
    "plt.ylabel('Sum of squared distances/Inertia') \n",
    "plt.title('Elbow Method For Optimal k', fontsize=16)\n",
    "plt.show()"
   ]
  },
  {
   "cell_type": "code",
   "execution_count": 49,
   "id": "5299fbe6",
   "metadata": {
    "scrolled": true
   },
   "outputs": [
    {
     "data": {
      "image/png": "[encoded data removed]",
      "text/plain": [
       "<Figure size 432x288 with 1 Axes>"
      ]
     },
     "metadata": {
      "needs_background": "light"
     },
     "output_type": "display_data"
    }
   ],
   "source": [
    "# silhouette score\n",
    "range_n_clusters = [2, 3, 4, 5, 6, 7, 8]\n",
    "silhouette_avg = []\n",
    "for num_clusters in range_n_clusters:\n",
    "    kmeans = KMeans(n_clusters=num_clusters, random_state=42).fit(df_scaled)\n",
    "    cluster_labels = kmeans.labels_\n",
    "    silhouette_avg.append(silhouette_score(df_scaled, cluster_labels))\n",
    "\n",
    "# plot\n",
    "plt.plot(range_n_clusters,silhouette_avg,'bx-')\n",
    "plt.xlabel('Values of K', fontsize = 12) \n",
    "plt.ylabel('Silhouette score', fontsize = 12) \n",
    "plt.title('Silhouette analysis For Optimal k', fontsize = 16)\n",
    "plt.show()"
   ]
  },
  {
   "cell_type": "markdown",
   "id": "8226237d",
   "metadata": {},
   "source": [
    "#### Conclusion\n",
    "The elbow starts at 2 suggesting 2 clusters (might be 3)\n",
    "\n",
    "For silhouette score the highest value is the best and this would suggest the number of clusters as 2 (4 might also be a possibility as 2nd option)"
   ]
  },
  {
   "cell_type": "markdown",
   "id": "73603aec",
   "metadata": {},
   "source": [
    "### K-means modeling (clusters = 2)"
   ]
  },
  {
   "cell_type": "code",
   "execution_count": 50,
   "id": "3793f309",
   "metadata": {
    "scrolled": true
   },
   "outputs": [
    {
     "data": {
      "text/plain": [
       "Text(0.5, 0, 'X')"
      ]
     },
     "execution_count": 50,
     "metadata": {},
     "output_type": "execute_result"
    },
    {
     "data": {
      "image/png": "[encoded data removed]",
      "text/plain": [
       "<Figure size 432x288 with 1 Axes>"
      ]
     },
     "metadata": {
      "needs_background": "light"
     },
     "output_type": "display_data"
    }
   ],
   "source": [
    "# model\n",
    "kmean = KMeans(n_clusters = 2).fit(df_scaled)\n",
    "\n",
    "# get centroids\n",
    "centroids = kmean.cluster_centers_\n",
    "\n",
    "# plot the clusters\n",
    "labels = KMeans(2, random_state=0).fit_predict(df_scaled)\n",
    "\n",
    "plt.scatter(df_scaled[:, 0], df_scaled[:, 1], s=60, c=labels, cmap='viridis')\n",
    "\n",
    "\n",
    "plt.scatter(centroids[0][0], centroids[0][1], s=200, cmap='viridis', marker='s')\n",
    "plt.scatter(centroids[1][0], centroids[1][1], s=200, cmap='viridis', marker='s')\n",
    "\n",
    "\n",
    "plt.rcParams[\"figure.figsize\"] = [10, 8]\n",
    "plt.title(\"Clusters and their centroids\", fontsize = 20)\n",
    "plt.ylabel(\"Y\", rotation = 0, fontsize = 14)\n",
    "plt.xlabel(\"X\", fontsize = 14)"
   ]
  },
  {
   "cell_type": "code",
   "execution_count": 51,
   "id": "a8e50341",
   "metadata": {
    "scrolled": true
   },
   "outputs": [],
   "source": [
    "new_df['Segment K-means'] = kmean.labels_"
   ]
  },
  {
   "cell_type": "code",
   "execution_count": 54,
   "id": "4e5f8337",
   "metadata": {
    "scrolled": true
   },
   "outputs": [
    {
     "data": {
      "text/html": [
       "<div>\n",
       "<style scoped>\n",
       "    .dataframe tbody tr th:only-of-type {\n",
       "        vertical-align: middle;\n",
       "    }\n",
       "\n",
       "    .dataframe tbody tr th {\n",
       "        vertical-align: top;\n",
       "    }\n",
       "\n",
       "    .dataframe thead th {\n",
       "        text-align: right;\n",
       "    }\n",
       "</style>\n",
       "<table border=\"1\" class=\"dataframe\">\n",
       "  <thead>\n",
       "    <tr style=\"text-align: right;\">\n",
       "      <th></th>\n",
       "      <th>PURCHASE_COUNT</th>\n",
       "      <th>TOTAL_PURCHASES_EUR</th>\n",
       "      <th>days_from_purchases</th>\n",
       "    </tr>\n",
       "    <tr>\n",
       "      <th>Segment K-means</th>\n",
       "      <th></th>\n",
       "      <th></th>\n",
       "      <th></th>\n",
       "    </tr>\n",
       "  </thead>\n",
       "  <tbody>\n",
       "    <tr>\n",
       "      <th>0</th>\n",
       "      <td>2.04</td>\n",
       "      <td>55.76</td>\n",
       "      <td>366.44</td>\n",
       "    </tr>\n",
       "    <tr>\n",
       "      <th>1</th>\n",
       "      <td>9.42</td>\n",
       "      <td>250.80</td>\n",
       "      <td>63.55</td>\n",
       "    </tr>\n",
       "  </tbody>\n",
       "</table>\n",
       "</div>"
      ],
      "text/plain": [
       "                 PURCHASE_COUNT  TOTAL_PURCHASES_EUR  days_from_purchases\n",
       "Segment K-means                                                          \n",
       "0                          2.04                55.76               366.44\n",
       "1                          9.42               250.80                63.55"
      ]
     },
     "execution_count": 54,
     "metadata": {},
     "output_type": "execute_result"
    }
   ],
   "source": [
    "df_segm_analysis = new_df.groupby(['Segment K-means']).mean()\n",
    "df_segm_analysis"
   ]
  },
  {
   "cell_type": "markdown",
   "id": "d9e67385",
   "metadata": {},
   "source": [
    "## Analysis of K-means clustering\n",
    "\n",
    "#### With the columns from the earlier RFM-model: K-means clustering got us 2 segments.\n",
    "\n",
    "- segment 0 is a high buyer and has bought more recently\n",
    "- segment 1 buys less and the average days from last purchase is a lot more \n",
    "\n",
    "This would agree with the RFM model but it's just that the segments are a lot bigger here"
   ]
  }
 ],
 "metadata": {
  "kernelspec": {
   "display_name": "Python 3 (ipykernel)",
   "language": "python",
   "name": "python3"
  },
  "language_info": {
   "codemirror_mode": {
    "name": "ipython",
    "version": 3
   },
   "file_extension": ".py",
   "mimetype": "text/x-python",
   "name": "python",
   "nbconvert_exporter": "python",
   "pygments_lexer": "ipython3",
   "version": "3.9.12"
  }
 },
 "nbformat": 4,
 "nbformat_minor": 5
}
