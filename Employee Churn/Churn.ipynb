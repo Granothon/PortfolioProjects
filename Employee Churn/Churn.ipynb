{
 "cells": [
  {
   "cell_type": "markdown",
   "id": "78c56ae2",
   "metadata": {},
   "source": [
    "# Employee churn analysis\n",
    "## Dataset\n",
    "I'll be using a dataset from https://www.kaggle.com/datasets/pavansubhasht/ibm-hr-analytics-attrition-dataset –\n",
    "This is a fictional data set created by IBM data scientists."
   ]
  },
  {
   "cell_type": "markdown",
   "id": "61dfa974",
   "metadata": {},
   "source": [
    "### Description (to be removed)\n",
    "Uncover the factors that lead to employee attrition and explore important questions such as ‘show me a breakdown of distance from home by job role and attrition’ or ‘compare average monthly income by education and attrition’. This is a fictional data set created by IBM data scientists."
   ]
  },
  {
   "cell_type": "markdown",
   "id": "5610569f",
   "metadata": {},
   "source": [
    "### What are the goals for the analysis?\n",
    "\n",
    "We want to know what variables affected the churning of the employees"
   ]
  },
  {
   "cell_type": "markdown",
   "id": "17b363c3",
   "metadata": {},
   "source": [
    "### Imports"
   ]
  },
  {
   "cell_type": "code",
   "execution_count": 1,
   "id": "313b39ef",
   "metadata": {},
   "outputs": [],
   "source": [
    "# general\n",
    "import pandas as pd\n",
    "import numpy as np\n",
    "import seaborn as sns\n",
    "from matplotlib import pyplot as plt\n",
    "\n",
    "# data processing \n",
    "from sklearn.preprocessing import LabelEncoder, OneHotEncoder\n",
    "from imblearn.over_sampling import ADASYN\n",
    "from sklearn.model_selection import train_test_split\n",
    "from sklearn.preprocessing import StandardScaler\n",
    "from sklearn.metrics import precision_score, accuracy_score, confusion_matrix\n",
    "\n",
    "# model\n",
    "from sklearn.ensemble import RandomForestClassifier"
   ]
  },
  {
   "cell_type": "markdown",
   "id": "f08516e9",
   "metadata": {},
   "source": [
    "### Load the data"
   ]
  },
  {
   "cell_type": "code",
   "execution_count": 2,
   "id": "19e3b24c",
   "metadata": {
    "scrolled": true
   },
   "outputs": [
    {
     "data": {
      "text/html": [
       "<div>\n",
       "<style scoped>\n",
       "    .dataframe tbody tr th:only-of-type {\n",
       "        vertical-align: middle;\n",
       "    }\n",
       "\n",
       "    .dataframe tbody tr th {\n",
       "        vertical-align: top;\n",
       "    }\n",
       "\n",
       "    .dataframe thead th {\n",
       "        text-align: right;\n",
       "    }\n",
       "</style>\n",
       "<table border=\"1\" class=\"dataframe\">\n",
       "  <thead>\n",
       "    <tr style=\"text-align: right;\">\n",
       "      <th></th>\n",
       "      <th>Age</th>\n",
       "      <th>Attrition</th>\n",
       "      <th>BusinessTravel</th>\n",
       "      <th>DailyRate</th>\n",
       "      <th>Department</th>\n",
       "      <th>DistanceFromHome</th>\n",
       "      <th>Education</th>\n",
       "      <th>EducationField</th>\n",
       "      <th>EmployeeCount</th>\n",
       "      <th>EmployeeNumber</th>\n",
       "      <th>...</th>\n",
       "      <th>RelationshipSatisfaction</th>\n",
       "      <th>StandardHours</th>\n",
       "      <th>StockOptionLevel</th>\n",
       "      <th>TotalWorkingYears</th>\n",
       "      <th>TrainingTimesLastYear</th>\n",
       "      <th>WorkLifeBalance</th>\n",
       "      <th>YearsAtCompany</th>\n",
       "      <th>YearsInCurrentRole</th>\n",
       "      <th>YearsSinceLastPromotion</th>\n",
       "      <th>YearsWithCurrManager</th>\n",
       "    </tr>\n",
       "  </thead>\n",
       "  <tbody>\n",
       "    <tr>\n",
       "      <th>0</th>\n",
       "      <td>41</td>\n",
       "      <td>Yes</td>\n",
       "      <td>Travel_Rarely</td>\n",
       "      <td>1102</td>\n",
       "      <td>Sales</td>\n",
       "      <td>1</td>\n",
       "      <td>2</td>\n",
       "      <td>Life Sciences</td>\n",
       "      <td>1</td>\n",
       "      <td>1</td>\n",
       "      <td>...</td>\n",
       "      <td>1</td>\n",
       "      <td>80</td>\n",
       "      <td>0</td>\n",
       "      <td>8</td>\n",
       "      <td>0</td>\n",
       "      <td>1</td>\n",
       "      <td>6</td>\n",
       "      <td>4</td>\n",
       "      <td>0</td>\n",
       "      <td>5</td>\n",
       "    </tr>\n",
       "    <tr>\n",
       "      <th>1</th>\n",
       "      <td>49</td>\n",
       "      <td>No</td>\n",
       "      <td>Travel_Frequently</td>\n",
       "      <td>279</td>\n",
       "      <td>Research &amp; Development</td>\n",
       "      <td>8</td>\n",
       "      <td>1</td>\n",
       "      <td>Life Sciences</td>\n",
       "      <td>1</td>\n",
       "      <td>2</td>\n",
       "      <td>...</td>\n",
       "      <td>4</td>\n",
       "      <td>80</td>\n",
       "      <td>1</td>\n",
       "      <td>10</td>\n",
       "      <td>3</td>\n",
       "      <td>3</td>\n",
       "      <td>10</td>\n",
       "      <td>7</td>\n",
       "      <td>1</td>\n",
       "      <td>7</td>\n",
       "    </tr>\n",
       "    <tr>\n",
       "      <th>2</th>\n",
       "      <td>37</td>\n",
       "      <td>Yes</td>\n",
       "      <td>Travel_Rarely</td>\n",
       "      <td>1373</td>\n",
       "      <td>Research &amp; Development</td>\n",
       "      <td>2</td>\n",
       "      <td>2</td>\n",
       "      <td>Other</td>\n",
       "      <td>1</td>\n",
       "      <td>4</td>\n",
       "      <td>...</td>\n",
       "      <td>2</td>\n",
       "      <td>80</td>\n",
       "      <td>0</td>\n",
       "      <td>7</td>\n",
       "      <td>3</td>\n",
       "      <td>3</td>\n",
       "      <td>0</td>\n",
       "      <td>0</td>\n",
       "      <td>0</td>\n",
       "      <td>0</td>\n",
       "    </tr>\n",
       "    <tr>\n",
       "      <th>3</th>\n",
       "      <td>33</td>\n",
       "      <td>No</td>\n",
       "      <td>Travel_Frequently</td>\n",
       "      <td>1392</td>\n",
       "      <td>Research &amp; Development</td>\n",
       "      <td>3</td>\n",
       "      <td>4</td>\n",
       "      <td>Life Sciences</td>\n",
       "      <td>1</td>\n",
       "      <td>5</td>\n",
       "      <td>...</td>\n",
       "      <td>3</td>\n",
       "      <td>80</td>\n",
       "      <td>0</td>\n",
       "      <td>8</td>\n",
       "      <td>3</td>\n",
       "      <td>3</td>\n",
       "      <td>8</td>\n",
       "      <td>7</td>\n",
       "      <td>3</td>\n",
       "      <td>0</td>\n",
       "    </tr>\n",
       "    <tr>\n",
       "      <th>4</th>\n",
       "      <td>27</td>\n",
       "      <td>No</td>\n",
       "      <td>Travel_Rarely</td>\n",
       "      <td>591</td>\n",
       "      <td>Research &amp; Development</td>\n",
       "      <td>2</td>\n",
       "      <td>1</td>\n",
       "      <td>Medical</td>\n",
       "      <td>1</td>\n",
       "      <td>7</td>\n",
       "      <td>...</td>\n",
       "      <td>4</td>\n",
       "      <td>80</td>\n",
       "      <td>1</td>\n",
       "      <td>6</td>\n",
       "      <td>3</td>\n",
       "      <td>3</td>\n",
       "      <td>2</td>\n",
       "      <td>2</td>\n",
       "      <td>2</td>\n",
       "      <td>2</td>\n",
       "    </tr>\n",
       "  </tbody>\n",
       "</table>\n",
       "<p>5 rows × 35 columns</p>\n",
       "</div>"
      ],
      "text/plain": [
       "   Age Attrition     BusinessTravel  DailyRate              Department  \\\n",
       "0   41       Yes      Travel_Rarely       1102                   Sales   \n",
       "1   49        No  Travel_Frequently        279  Research & Development   \n",
       "2   37       Yes      Travel_Rarely       1373  Research & Development   \n",
       "3   33        No  Travel_Frequently       1392  Research & Development   \n",
       "4   27        No      Travel_Rarely        591  Research & Development   \n",
       "\n",
       "   DistanceFromHome  Education EducationField  EmployeeCount  EmployeeNumber  \\\n",
       "0                 1          2  Life Sciences              1               1   \n",
       "1                 8          1  Life Sciences              1               2   \n",
       "2                 2          2          Other              1               4   \n",
       "3                 3          4  Life Sciences              1               5   \n",
       "4                 2          1        Medical              1               7   \n",
       "\n",
       "   ...  RelationshipSatisfaction StandardHours  StockOptionLevel  \\\n",
       "0  ...                         1            80                 0   \n",
       "1  ...                         4            80                 1   \n",
       "2  ...                         2            80                 0   \n",
       "3  ...                         3            80                 0   \n",
       "4  ...                         4            80                 1   \n",
       "\n",
       "   TotalWorkingYears  TrainingTimesLastYear WorkLifeBalance  YearsAtCompany  \\\n",
       "0                  8                      0               1               6   \n",
       "1                 10                      3               3              10   \n",
       "2                  7                      3               3               0   \n",
       "3                  8                      3               3               8   \n",
       "4                  6                      3               3               2   \n",
       "\n",
       "  YearsInCurrentRole  YearsSinceLastPromotion  YearsWithCurrManager  \n",
       "0                  4                        0                     5  \n",
       "1                  7                        1                     7  \n",
       "2                  0                        0                     0  \n",
       "3                  7                        3                     0  \n",
       "4                  2                        2                     2  \n",
       "\n",
       "[5 rows x 35 columns]"
      ]
     },
     "execution_count": 2,
     "metadata": {},
     "output_type": "execute_result"
    }
   ],
   "source": [
    "df = pd.read_csv(\"WA_Fn-UseC_-HR-Employee-Attrition.csv\")\n",
    "df.head()"
   ]
  },
  {
   "cell_type": "markdown",
   "id": "b5330871",
   "metadata": {},
   "source": [
    "### View the data"
   ]
  },
  {
   "cell_type": "code",
   "execution_count": 3,
   "id": "b8ae8488",
   "metadata": {
    "scrolled": true
   },
   "outputs": [
    {
     "name": "stdout",
     "output_type": "stream",
     "text": [
      "<class 'pandas.core.frame.DataFrame'>\n",
      "RangeIndex: 1470 entries, 0 to 1469\n",
      "Data columns (total 35 columns):\n",
      " #   Column                    Non-Null Count  Dtype \n",
      "---  ------                    --------------  ----- \n",
      " 0   Age                       1470 non-null   int64 \n",
      " 1   Attrition                 1470 non-null   object\n",
      " 2   BusinessTravel            1470 non-null   object\n",
      " 3   DailyRate                 1470 non-null   int64 \n",
      " 4   Department                1470 non-null   object\n",
      " 5   DistanceFromHome          1470 non-null   int64 \n",
      " 6   Education                 1470 non-null   int64 \n",
      " 7   EducationField            1470 non-null   object\n",
      " 8   EmployeeCount             1470 non-null   int64 \n",
      " 9   EmployeeNumber            1470 non-null   int64 \n",
      " 10  EnvironmentSatisfaction   1470 non-null   int64 \n",
      " 11  Gender                    1470 non-null   object\n",
      " 12  HourlyRate                1470 non-null   int64 \n",
      " 13  JobInvolvement            1470 non-null   int64 \n",
      " 14  JobLevel                  1470 non-null   int64 \n",
      " 15  JobRole                   1470 non-null   object\n",
      " 16  JobSatisfaction           1470 non-null   int64 \n",
      " 17  MaritalStatus             1470 non-null   object\n",
      " 18  MonthlyIncome             1470 non-null   int64 \n",
      " 19  MonthlyRate               1470 non-null   int64 \n",
      " 20  NumCompaniesWorked        1470 non-null   int64 \n",
      " 21  Over18                    1470 non-null   object\n",
      " 22  OverTime                  1470 non-null   object\n",
      " 23  PercentSalaryHike         1470 non-null   int64 \n",
      " 24  PerformanceRating         1470 non-null   int64 \n",
      " 25  RelationshipSatisfaction  1470 non-null   int64 \n",
      " 26  StandardHours             1470 non-null   int64 \n",
      " 27  StockOptionLevel          1470 non-null   int64 \n",
      " 28  TotalWorkingYears         1470 non-null   int64 \n",
      " 29  TrainingTimesLastYear     1470 non-null   int64 \n",
      " 30  WorkLifeBalance           1470 non-null   int64 \n",
      " 31  YearsAtCompany            1470 non-null   int64 \n",
      " 32  YearsInCurrentRole        1470 non-null   int64 \n",
      " 33  YearsSinceLastPromotion   1470 non-null   int64 \n",
      " 34  YearsWithCurrManager      1470 non-null   int64 \n",
      "dtypes: int64(26), object(9)\n",
      "memory usage: 402.1+ KB\n"
     ]
    },
    {
     "data": {
      "text/html": [
       "<div>\n",
       "<style scoped>\n",
       "    .dataframe tbody tr th:only-of-type {\n",
       "        vertical-align: middle;\n",
       "    }\n",
       "\n",
       "    .dataframe tbody tr th {\n",
       "        vertical-align: top;\n",
       "    }\n",
       "\n",
       "    .dataframe thead th {\n",
       "        text-align: right;\n",
       "    }\n",
       "</style>\n",
       "<table border=\"1\" class=\"dataframe\">\n",
       "  <thead>\n",
       "    <tr style=\"text-align: right;\">\n",
       "      <th></th>\n",
       "      <th>Age</th>\n",
       "      <th>DailyRate</th>\n",
       "      <th>DistanceFromHome</th>\n",
       "      <th>Education</th>\n",
       "      <th>EmployeeCount</th>\n",
       "      <th>EmployeeNumber</th>\n",
       "      <th>EnvironmentSatisfaction</th>\n",
       "      <th>HourlyRate</th>\n",
       "      <th>JobInvolvement</th>\n",
       "      <th>JobLevel</th>\n",
       "      <th>...</th>\n",
       "      <th>RelationshipSatisfaction</th>\n",
       "      <th>StandardHours</th>\n",
       "      <th>StockOptionLevel</th>\n",
       "      <th>TotalWorkingYears</th>\n",
       "      <th>TrainingTimesLastYear</th>\n",
       "      <th>WorkLifeBalance</th>\n",
       "      <th>YearsAtCompany</th>\n",
       "      <th>YearsInCurrentRole</th>\n",
       "      <th>YearsSinceLastPromotion</th>\n",
       "      <th>YearsWithCurrManager</th>\n",
       "    </tr>\n",
       "  </thead>\n",
       "  <tbody>\n",
       "    <tr>\n",
       "      <th>count</th>\n",
       "      <td>1470.00</td>\n",
       "      <td>1470.00</td>\n",
       "      <td>1470.00</td>\n",
       "      <td>1470.00</td>\n",
       "      <td>1470.0</td>\n",
       "      <td>1470.00</td>\n",
       "      <td>1470.00</td>\n",
       "      <td>1470.00</td>\n",
       "      <td>1470.00</td>\n",
       "      <td>1470.00</td>\n",
       "      <td>...</td>\n",
       "      <td>1470.00</td>\n",
       "      <td>1470.0</td>\n",
       "      <td>1470.00</td>\n",
       "      <td>1470.00</td>\n",
       "      <td>1470.00</td>\n",
       "      <td>1470.00</td>\n",
       "      <td>1470.00</td>\n",
       "      <td>1470.00</td>\n",
       "      <td>1470.00</td>\n",
       "      <td>1470.00</td>\n",
       "    </tr>\n",
       "    <tr>\n",
       "      <th>mean</th>\n",
       "      <td>36.92</td>\n",
       "      <td>802.49</td>\n",
       "      <td>9.19</td>\n",
       "      <td>2.91</td>\n",
       "      <td>1.0</td>\n",
       "      <td>1024.87</td>\n",
       "      <td>2.72</td>\n",
       "      <td>65.89</td>\n",
       "      <td>2.73</td>\n",
       "      <td>2.06</td>\n",
       "      <td>...</td>\n",
       "      <td>2.71</td>\n",
       "      <td>80.0</td>\n",
       "      <td>0.79</td>\n",
       "      <td>11.28</td>\n",
       "      <td>2.80</td>\n",
       "      <td>2.76</td>\n",
       "      <td>7.01</td>\n",
       "      <td>4.23</td>\n",
       "      <td>2.19</td>\n",
       "      <td>4.12</td>\n",
       "    </tr>\n",
       "    <tr>\n",
       "      <th>std</th>\n",
       "      <td>9.14</td>\n",
       "      <td>403.51</td>\n",
       "      <td>8.11</td>\n",
       "      <td>1.02</td>\n",
       "      <td>0.0</td>\n",
       "      <td>602.02</td>\n",
       "      <td>1.09</td>\n",
       "      <td>20.33</td>\n",
       "      <td>0.71</td>\n",
       "      <td>1.11</td>\n",
       "      <td>...</td>\n",
       "      <td>1.08</td>\n",
       "      <td>0.0</td>\n",
       "      <td>0.85</td>\n",
       "      <td>7.78</td>\n",
       "      <td>1.29</td>\n",
       "      <td>0.71</td>\n",
       "      <td>6.13</td>\n",
       "      <td>3.62</td>\n",
       "      <td>3.22</td>\n",
       "      <td>3.57</td>\n",
       "    </tr>\n",
       "    <tr>\n",
       "      <th>min</th>\n",
       "      <td>18.00</td>\n",
       "      <td>102.00</td>\n",
       "      <td>1.00</td>\n",
       "      <td>1.00</td>\n",
       "      <td>1.0</td>\n",
       "      <td>1.00</td>\n",
       "      <td>1.00</td>\n",
       "      <td>30.00</td>\n",
       "      <td>1.00</td>\n",
       "      <td>1.00</td>\n",
       "      <td>...</td>\n",
       "      <td>1.00</td>\n",
       "      <td>80.0</td>\n",
       "      <td>0.00</td>\n",
       "      <td>0.00</td>\n",
       "      <td>0.00</td>\n",
       "      <td>1.00</td>\n",
       "      <td>0.00</td>\n",
       "      <td>0.00</td>\n",
       "      <td>0.00</td>\n",
       "      <td>0.00</td>\n",
       "    </tr>\n",
       "    <tr>\n",
       "      <th>1%</th>\n",
       "      <td>19.00</td>\n",
       "      <td>117.00</td>\n",
       "      <td>1.00</td>\n",
       "      <td>1.00</td>\n",
       "      <td>1.0</td>\n",
       "      <td>19.69</td>\n",
       "      <td>1.00</td>\n",
       "      <td>30.00</td>\n",
       "      <td>1.00</td>\n",
       "      <td>1.00</td>\n",
       "      <td>...</td>\n",
       "      <td>1.00</td>\n",
       "      <td>80.0</td>\n",
       "      <td>0.00</td>\n",
       "      <td>1.00</td>\n",
       "      <td>0.00</td>\n",
       "      <td>1.00</td>\n",
       "      <td>0.00</td>\n",
       "      <td>0.00</td>\n",
       "      <td>0.00</td>\n",
       "      <td>0.00</td>\n",
       "    </tr>\n",
       "    <tr>\n",
       "      <th>25%</th>\n",
       "      <td>30.00</td>\n",
       "      <td>465.00</td>\n",
       "      <td>2.00</td>\n",
       "      <td>2.00</td>\n",
       "      <td>1.0</td>\n",
       "      <td>491.25</td>\n",
       "      <td>2.00</td>\n",
       "      <td>48.00</td>\n",
       "      <td>2.00</td>\n",
       "      <td>1.00</td>\n",
       "      <td>...</td>\n",
       "      <td>2.00</td>\n",
       "      <td>80.0</td>\n",
       "      <td>0.00</td>\n",
       "      <td>6.00</td>\n",
       "      <td>2.00</td>\n",
       "      <td>2.00</td>\n",
       "      <td>3.00</td>\n",
       "      <td>2.00</td>\n",
       "      <td>0.00</td>\n",
       "      <td>2.00</td>\n",
       "    </tr>\n",
       "    <tr>\n",
       "      <th>50%</th>\n",
       "      <td>36.00</td>\n",
       "      <td>802.00</td>\n",
       "      <td>7.00</td>\n",
       "      <td>3.00</td>\n",
       "      <td>1.0</td>\n",
       "      <td>1020.50</td>\n",
       "      <td>3.00</td>\n",
       "      <td>66.00</td>\n",
       "      <td>3.00</td>\n",
       "      <td>2.00</td>\n",
       "      <td>...</td>\n",
       "      <td>3.00</td>\n",
       "      <td>80.0</td>\n",
       "      <td>1.00</td>\n",
       "      <td>10.00</td>\n",
       "      <td>3.00</td>\n",
       "      <td>3.00</td>\n",
       "      <td>5.00</td>\n",
       "      <td>3.00</td>\n",
       "      <td>1.00</td>\n",
       "      <td>3.00</td>\n",
       "    </tr>\n",
       "    <tr>\n",
       "      <th>75%</th>\n",
       "      <td>43.00</td>\n",
       "      <td>1157.00</td>\n",
       "      <td>14.00</td>\n",
       "      <td>4.00</td>\n",
       "      <td>1.0</td>\n",
       "      <td>1555.75</td>\n",
       "      <td>4.00</td>\n",
       "      <td>83.75</td>\n",
       "      <td>3.00</td>\n",
       "      <td>3.00</td>\n",
       "      <td>...</td>\n",
       "      <td>4.00</td>\n",
       "      <td>80.0</td>\n",
       "      <td>1.00</td>\n",
       "      <td>15.00</td>\n",
       "      <td>3.00</td>\n",
       "      <td>3.00</td>\n",
       "      <td>9.00</td>\n",
       "      <td>7.00</td>\n",
       "      <td>3.00</td>\n",
       "      <td>7.00</td>\n",
       "    </tr>\n",
       "    <tr>\n",
       "      <th>99%</th>\n",
       "      <td>58.31</td>\n",
       "      <td>1485.00</td>\n",
       "      <td>29.00</td>\n",
       "      <td>5.00</td>\n",
       "      <td>1.0</td>\n",
       "      <td>2046.62</td>\n",
       "      <td>4.00</td>\n",
       "      <td>100.00</td>\n",
       "      <td>4.00</td>\n",
       "      <td>5.00</td>\n",
       "      <td>...</td>\n",
       "      <td>4.00</td>\n",
       "      <td>80.0</td>\n",
       "      <td>3.00</td>\n",
       "      <td>35.00</td>\n",
       "      <td>6.00</td>\n",
       "      <td>4.00</td>\n",
       "      <td>31.00</td>\n",
       "      <td>15.00</td>\n",
       "      <td>14.00</td>\n",
       "      <td>14.00</td>\n",
       "    </tr>\n",
       "    <tr>\n",
       "      <th>max</th>\n",
       "      <td>60.00</td>\n",
       "      <td>1499.00</td>\n",
       "      <td>29.00</td>\n",
       "      <td>5.00</td>\n",
       "      <td>1.0</td>\n",
       "      <td>2068.00</td>\n",
       "      <td>4.00</td>\n",
       "      <td>100.00</td>\n",
       "      <td>4.00</td>\n",
       "      <td>5.00</td>\n",
       "      <td>...</td>\n",
       "      <td>4.00</td>\n",
       "      <td>80.0</td>\n",
       "      <td>3.00</td>\n",
       "      <td>40.00</td>\n",
       "      <td>6.00</td>\n",
       "      <td>4.00</td>\n",
       "      <td>40.00</td>\n",
       "      <td>18.00</td>\n",
       "      <td>15.00</td>\n",
       "      <td>17.00</td>\n",
       "    </tr>\n",
       "  </tbody>\n",
       "</table>\n",
       "<p>10 rows × 26 columns</p>\n",
       "</div>"
      ],
      "text/plain": [
       "           Age  DailyRate  DistanceFromHome  Education  EmployeeCount  \\\n",
       "count  1470.00    1470.00           1470.00    1470.00         1470.0   \n",
       "mean     36.92     802.49              9.19       2.91            1.0   \n",
       "std       9.14     403.51              8.11       1.02            0.0   \n",
       "min      18.00     102.00              1.00       1.00            1.0   \n",
       "1%       19.00     117.00              1.00       1.00            1.0   \n",
       "25%      30.00     465.00              2.00       2.00            1.0   \n",
       "50%      36.00     802.00              7.00       3.00            1.0   \n",
       "75%      43.00    1157.00             14.00       4.00            1.0   \n",
       "99%      58.31    1485.00             29.00       5.00            1.0   \n",
       "max      60.00    1499.00             29.00       5.00            1.0   \n",
       "\n",
       "       EmployeeNumber  EnvironmentSatisfaction  HourlyRate  JobInvolvement  \\\n",
       "count         1470.00                  1470.00     1470.00         1470.00   \n",
       "mean          1024.87                     2.72       65.89            2.73   \n",
       "std            602.02                     1.09       20.33            0.71   \n",
       "min              1.00                     1.00       30.00            1.00   \n",
       "1%              19.69                     1.00       30.00            1.00   \n",
       "25%            491.25                     2.00       48.00            2.00   \n",
       "50%           1020.50                     3.00       66.00            3.00   \n",
       "75%           1555.75                     4.00       83.75            3.00   \n",
       "99%           2046.62                     4.00      100.00            4.00   \n",
       "max           2068.00                     4.00      100.00            4.00   \n",
       "\n",
       "       JobLevel  ...  RelationshipSatisfaction  StandardHours  \\\n",
       "count   1470.00  ...                   1470.00         1470.0   \n",
       "mean       2.06  ...                      2.71           80.0   \n",
       "std        1.11  ...                      1.08            0.0   \n",
       "min        1.00  ...                      1.00           80.0   \n",
       "1%         1.00  ...                      1.00           80.0   \n",
       "25%        1.00  ...                      2.00           80.0   \n",
       "50%        2.00  ...                      3.00           80.0   \n",
       "75%        3.00  ...                      4.00           80.0   \n",
       "99%        5.00  ...                      4.00           80.0   \n",
       "max        5.00  ...                      4.00           80.0   \n",
       "\n",
       "       StockOptionLevel  TotalWorkingYears  TrainingTimesLastYear  \\\n",
       "count           1470.00            1470.00                1470.00   \n",
       "mean               0.79              11.28                   2.80   \n",
       "std                0.85               7.78                   1.29   \n",
       "min                0.00               0.00                   0.00   \n",
       "1%                 0.00               1.00                   0.00   \n",
       "25%                0.00               6.00                   2.00   \n",
       "50%                1.00              10.00                   3.00   \n",
       "75%                1.00              15.00                   3.00   \n",
       "99%                3.00              35.00                   6.00   \n",
       "max                3.00              40.00                   6.00   \n",
       "\n",
       "       WorkLifeBalance  YearsAtCompany  YearsInCurrentRole  \\\n",
       "count          1470.00         1470.00             1470.00   \n",
       "mean              2.76            7.01                4.23   \n",
       "std               0.71            6.13                3.62   \n",
       "min               1.00            0.00                0.00   \n",
       "1%                1.00            0.00                0.00   \n",
       "25%               2.00            3.00                2.00   \n",
       "50%               3.00            5.00                3.00   \n",
       "75%               3.00            9.00                7.00   \n",
       "99%               4.00           31.00               15.00   \n",
       "max               4.00           40.00               18.00   \n",
       "\n",
       "       YearsSinceLastPromotion  YearsWithCurrManager  \n",
       "count                  1470.00               1470.00  \n",
       "mean                      2.19                  4.12  \n",
       "std                       3.22                  3.57  \n",
       "min                       0.00                  0.00  \n",
       "1%                        0.00                  0.00  \n",
       "25%                       0.00                  2.00  \n",
       "50%                       1.00                  3.00  \n",
       "75%                       3.00                  7.00  \n",
       "99%                      14.00                 14.00  \n",
       "max                      15.00                 17.00  \n",
       "\n",
       "[10 rows x 26 columns]"
      ]
     },
     "execution_count": 3,
     "metadata": {},
     "output_type": "execute_result"
    }
   ],
   "source": [
    "df.info()\n",
    "round(df.describe([0.01,0.25,0.50,0.75,0.99]),2)"
   ]
  },
  {
   "cell_type": "code",
   "execution_count": 4,
   "id": "a233ee88",
   "metadata": {
    "scrolled": false
   },
   "outputs": [
    {
     "data": {
      "text/plain": [
       "0"
      ]
     },
     "execution_count": 4,
     "metadata": {},
     "output_type": "execute_result"
    }
   ],
   "source": [
    "# check column\n",
    "len(df[df.Over18 == \"N\"])"
   ]
  },
  {
   "cell_type": "code",
   "execution_count": 5,
   "id": "76a73327",
   "metadata": {},
   "outputs": [],
   "source": [
    "# we can remove this column since all the employees are Over 18\n",
    "df.drop(columns = 'Over18', inplace = True)"
   ]
  },
  {
   "cell_type": "markdown",
   "id": "7f549965",
   "metadata": {},
   "source": [
    "### Checking for outliers"
   ]
  },
  {
   "cell_type": "code",
   "execution_count": 6,
   "id": "47e74267",
   "metadata": {
    "scrolled": true
   },
   "outputs": [
    {
     "data": {
      "image/png": "[encoded data removed]",
      "text/plain": [
       "<Figure size 1440x720 with 1 Axes>"
      ]
     },
     "metadata": {
      "needs_background": "light"
     },
     "output_type": "display_data"
    }
   ],
   "source": [
    "df.plot(kind='box', figsize=(20,10), logy=True)\n",
    "plt.xticks(rotation=90);"
   ]
  },
  {
   "cell_type": "code",
   "execution_count": 7,
   "id": "fe2ab13f",
   "metadata": {},
   "outputs": [
    {
     "data": {
      "text/html": [
       "<div>\n",
       "<style scoped>\n",
       "    .dataframe tbody tr th:only-of-type {\n",
       "        vertical-align: middle;\n",
       "    }\n",
       "\n",
       "    .dataframe tbody tr th {\n",
       "        vertical-align: top;\n",
       "    }\n",
       "\n",
       "    .dataframe thead th {\n",
       "        text-align: right;\n",
       "    }\n",
       "</style>\n",
       "<table border=\"1\" class=\"dataframe\">\n",
       "  <thead>\n",
       "    <tr style=\"text-align: right;\">\n",
       "      <th></th>\n",
       "      <th>NumCompaniesWorked</th>\n",
       "      <th>PerformanceRating</th>\n",
       "      <th>StockOptionLevel</th>\n",
       "      <th>TrainingTimesLastYear</th>\n",
       "    </tr>\n",
       "  </thead>\n",
       "  <tbody>\n",
       "    <tr>\n",
       "      <th>count</th>\n",
       "      <td>1470.00</td>\n",
       "      <td>1470.00</td>\n",
       "      <td>1470.00</td>\n",
       "      <td>1470.00</td>\n",
       "    </tr>\n",
       "    <tr>\n",
       "      <th>mean</th>\n",
       "      <td>2.69</td>\n",
       "      <td>3.15</td>\n",
       "      <td>0.79</td>\n",
       "      <td>2.80</td>\n",
       "    </tr>\n",
       "    <tr>\n",
       "      <th>std</th>\n",
       "      <td>2.50</td>\n",
       "      <td>0.36</td>\n",
       "      <td>0.85</td>\n",
       "      <td>1.29</td>\n",
       "    </tr>\n",
       "    <tr>\n",
       "      <th>min</th>\n",
       "      <td>0.00</td>\n",
       "      <td>3.00</td>\n",
       "      <td>0.00</td>\n",
       "      <td>0.00</td>\n",
       "    </tr>\n",
       "    <tr>\n",
       "      <th>10%</th>\n",
       "      <td>0.00</td>\n",
       "      <td>3.00</td>\n",
       "      <td>0.00</td>\n",
       "      <td>2.00</td>\n",
       "    </tr>\n",
       "    <tr>\n",
       "      <th>25%</th>\n",
       "      <td>1.00</td>\n",
       "      <td>3.00</td>\n",
       "      <td>0.00</td>\n",
       "      <td>2.00</td>\n",
       "    </tr>\n",
       "    <tr>\n",
       "      <th>50%</th>\n",
       "      <td>2.00</td>\n",
       "      <td>3.00</td>\n",
       "      <td>1.00</td>\n",
       "      <td>3.00</td>\n",
       "    </tr>\n",
       "    <tr>\n",
       "      <th>75%</th>\n",
       "      <td>4.00</td>\n",
       "      <td>3.00</td>\n",
       "      <td>1.00</td>\n",
       "      <td>3.00</td>\n",
       "    </tr>\n",
       "    <tr>\n",
       "      <th>99%</th>\n",
       "      <td>9.00</td>\n",
       "      <td>4.00</td>\n",
       "      <td>3.00</td>\n",
       "      <td>6.00</td>\n",
       "    </tr>\n",
       "    <tr>\n",
       "      <th>max</th>\n",
       "      <td>9.00</td>\n",
       "      <td>4.00</td>\n",
       "      <td>3.00</td>\n",
       "      <td>6.00</td>\n",
       "    </tr>\n",
       "  </tbody>\n",
       "</table>\n",
       "</div>"
      ],
      "text/plain": [
       "       NumCompaniesWorked  PerformanceRating  StockOptionLevel  \\\n",
       "count             1470.00            1470.00           1470.00   \n",
       "mean                 2.69               3.15              0.79   \n",
       "std                  2.50               0.36              0.85   \n",
       "min                  0.00               3.00              0.00   \n",
       "10%                  0.00               3.00              0.00   \n",
       "25%                  1.00               3.00              0.00   \n",
       "50%                  2.00               3.00              1.00   \n",
       "75%                  4.00               3.00              1.00   \n",
       "99%                  9.00               4.00              3.00   \n",
       "max                  9.00               4.00              3.00   \n",
       "\n",
       "       TrainingTimesLastYear  \n",
       "count                1470.00  \n",
       "mean                    2.80  \n",
       "std                     1.29  \n",
       "min                     0.00  \n",
       "10%                     2.00  \n",
       "25%                     2.00  \n",
       "50%                     3.00  \n",
       "75%                     3.00  \n",
       "99%                     6.00  \n",
       "max                     6.00  "
      ]
     },
     "execution_count": 7,
     "metadata": {},
     "output_type": "execute_result"
    }
   ],
   "source": [
    "round(df[['NumCompaniesWorked', 'PerformanceRating', 'StockOptionLevel', 'TrainingTimesLastYear']].describe([0.1,0.25,0.5,0.75,0.99]),2)"
   ]
  },
  {
   "cell_type": "markdown",
   "id": "48b95583",
   "metadata": {},
   "source": [
    "## Contents of the dataset\n",
    "\n",
    "The dataset has no missing values and I don't notice anything unusual that needs fixing\n",
    "\n",
    "- **Attrition** (yes/no) tells us if the employee has churned\n",
    "\n",
    "### Demographic\n",
    "- Age\n",
    "- Education\n",
    "- EducationField\n",
    "- Gender\n",
    "- JobLevel\n",
    "- MaritalStatus\n",
    "- MonthlyIncome\n",
    "- NumCompaniesWorked\n",
    "- RelationshipSatisfaction\n",
    "- WorkLifeBalance\n",
    "\n",
    "### Job related\n",
    "- BusinessTravel\n",
    "- DailyRate\n",
    "- Department\n",
    "- DistanceFromHome\n",
    "- EmployeeCount\n",
    "- EnvironmentSatisfaction\n",
    "- HourlyRate \n",
    "- JobInvolvement\n",
    "- JobRole\n",
    "- JobSatisfaction\n",
    "- MonthlyRate \n",
    "- OverTime\n",
    "- PercentSalaryHike\n",
    "- PerformanceRating\n",
    "- StandardHours\n",
    "- StockOptionLevel\n",
    "- TotalWorkingYears\n",
    "- TrainingTimesLastYear\n",
    "- YearsAtCompany\n",
    "- YearsInCurrentRole\n",
    "- YearsSinceLastPromotion\n",
    "- YearsWithCurrManager"
   ]
  },
  {
   "cell_type": "markdown",
   "id": "5735f5ee",
   "metadata": {},
   "source": [
    "#### Check target variable distribution"
   ]
  },
  {
   "cell_type": "code",
   "execution_count": 8,
   "id": "0972cfc0",
   "metadata": {},
   "outputs": [
    {
     "data": {
      "text/plain": [
       "No     1233\n",
       "Yes     237\n",
       "Name: Attrition, dtype: int64"
      ]
     },
     "execution_count": 8,
     "metadata": {},
     "output_type": "execute_result"
    }
   ],
   "source": [
    "df[\"Attrition\"].value_counts()"
   ]
  },
  {
   "cell_type": "code",
   "execution_count": 9,
   "id": "4004efe9",
   "metadata": {
    "scrolled": true
   },
   "outputs": [],
   "source": [
    "percentage = []\n",
    "for value in df[\"Attrition\"].value_counts():\n",
    "    percentage.append(round(value/len(df['Attrition']) * 100, 2))"
   ]
  },
  {
   "cell_type": "code",
   "execution_count": 10,
   "id": "f8927678",
   "metadata": {
    "scrolled": true
   },
   "outputs": [
    {
     "data": {
      "text/plain": [
       "Text(0.5, 1.0, 'Attrition ratio in the dataset')"
      ]
     },
     "execution_count": 10,
     "metadata": {},
     "output_type": "execute_result"
    },
    {
     "data": {
      "image/png": "[encoded data removed]",
      "text/plain": [
       "<Figure size 432x288 with 1 Axes>"
      ]
     },
     "metadata": {
      "needs_background": "light"
     },
     "output_type": "display_data"
    }
   ],
   "source": [
    "# plot\n",
    "ax = sns.countplot(x = \"Attrition\", data = df[::-1])\n",
    "offset_y = 0.9\n",
    "\n",
    "for i, p in enumerate(ax.patches):\n",
    "       \n",
    "    plt.text(p.get_x() + p.get_width() * 0.5, p.get_y() + p.get_height() * offset_y,\n",
    "                 f'{percentage[i]} %',\n",
    "                 ha='center', va='center', color='white', fontsize=12)       \n",
    "    offset_y = 0.6\n",
    "\n",
    "plt.title(\"Attrition ratio in the dataset\")"
   ]
  },
  {
   "cell_type": "markdown",
   "id": "439a63d2",
   "metadata": {},
   "source": [
    "This dataset seems to have a high proportion of active employees compared to their churned counterparts. This needs to be taken into account when evaluating the model. \n",
    "- Accuracy is: correct predictions / all predictions\n",
    "- Accuracy metric won't work well here since we have so many true negatives in the data\n",
    "- That means if the model predicts all to \"0\" (no churn) it's still 83.88 % accurate which can seem to be quite good?\n",
    "- The data imbalance might cause the model to learn to predict 0 (no churn)\n",
    "- In truth this is not accurate at all and we need to either balance the dataset (for better learning & predictions) or use another metric"
   ]
  },
  {
   "cell_type": "markdown",
   "id": "fbb09448",
   "metadata": {},
   "source": [
    "Precision metric might work better\n",
    "- Precision is: out of all employees who were labeled as churned, how many did we correctly label as such? \n",
    "- Precision is the ratio of true positives / (true positives + false positives)"
   ]
  },
  {
   "cell_type": "markdown",
   "id": "3af60ecd",
   "metadata": {},
   "source": [
    "## Preparing the data\n",
    "\n",
    "### set up data for modeling: \n",
    "\n",
    "- use label encoder for binary data / ordered data\n",
    "- use one-hot encoder for columns with more than 2 variables / unordered data\n",
    "- in this dataset the categorial variables are generally unordered data"
   ]
  },
  {
   "cell_type": "code",
   "execution_count": 11,
   "id": "edccb7a3",
   "metadata": {
    "scrolled": true
   },
   "outputs": [
    {
     "name": "stdout",
     "output_type": "stream",
     "text": [
      "3 columns were label encoded.\n"
     ]
    }
   ],
   "source": [
    "le = LabelEncoder()\n",
    "enc = OneHotEncoder()\n",
    "le_count = 0\n",
    "for col in df.columns:\n",
    "    if df[col].dtype == 'object' and len(df[col].unique()) <= 2:\n",
    "            df[col] = le.fit_transform(df[col])\n",
    "            le_count += 1\n",
    "print('{} columns were label encoded.'.format(le_count))"
   ]
  },
  {
   "cell_type": "code",
   "execution_count": 12,
   "id": "eb32862d",
   "metadata": {},
   "outputs": [
    {
     "name": "stdout",
     "output_type": "stream",
     "text": [
      "5 columns were one-hot encoded.\n"
     ]
    }
   ],
   "source": [
    "categorical_cols = []\n",
    "enc_count = 0\n",
    "for col in df.columns:\n",
    "    if df[col].dtype == 'object' and len(df[col].unique()) > 2:\n",
    "        categorical_cols.append(col)\n",
    "        enc_count += 1\n",
    "\n",
    "transformed_data = enc.fit_transform(df[categorical_cols])\n",
    "\n",
    "# convert transformed_data (array) to dataframe\n",
    "encoded_data = pd.DataFrame(transformed_data.toarray(), columns=enc.get_feature_names_out(categorical_cols))\n",
    "\n",
    "# print\n",
    "print('{} columns were one-hot encoded.'.format(enc_count))"
   ]
  },
  {
   "cell_type": "code",
   "execution_count": 13,
   "id": "2276ca0b",
   "metadata": {
    "scrolled": true
   },
   "outputs": [
    {
     "data": {
      "text/html": [
       "<div>\n",
       "<style scoped>\n",
       "    .dataframe tbody tr th:only-of-type {\n",
       "        vertical-align: middle;\n",
       "    }\n",
       "\n",
       "    .dataframe tbody tr th {\n",
       "        vertical-align: top;\n",
       "    }\n",
       "\n",
       "    .dataframe thead th {\n",
       "        text-align: right;\n",
       "    }\n",
       "</style>\n",
       "<table border=\"1\" class=\"dataframe\">\n",
       "  <thead>\n",
       "    <tr style=\"text-align: right;\">\n",
       "      <th></th>\n",
       "      <th>BusinessTravel_Non-Travel</th>\n",
       "      <th>BusinessTravel_Travel_Frequently</th>\n",
       "      <th>BusinessTravel_Travel_Rarely</th>\n",
       "      <th>Department_Human Resources</th>\n",
       "      <th>Department_Research &amp; Development</th>\n",
       "      <th>Department_Sales</th>\n",
       "      <th>EducationField_Human Resources</th>\n",
       "      <th>EducationField_Life Sciences</th>\n",
       "      <th>EducationField_Marketing</th>\n",
       "      <th>EducationField_Medical</th>\n",
       "      <th>...</th>\n",
       "      <th>JobRole_Laboratory Technician</th>\n",
       "      <th>JobRole_Manager</th>\n",
       "      <th>JobRole_Manufacturing Director</th>\n",
       "      <th>JobRole_Research Director</th>\n",
       "      <th>JobRole_Research Scientist</th>\n",
       "      <th>JobRole_Sales Executive</th>\n",
       "      <th>JobRole_Sales Representative</th>\n",
       "      <th>MaritalStatus_Divorced</th>\n",
       "      <th>MaritalStatus_Married</th>\n",
       "      <th>MaritalStatus_Single</th>\n",
       "    </tr>\n",
       "  </thead>\n",
       "  <tbody>\n",
       "    <tr>\n",
       "      <th>0</th>\n",
       "      <td>0.0</td>\n",
       "      <td>0.0</td>\n",
       "      <td>1.0</td>\n",
       "      <td>0.0</td>\n",
       "      <td>0.0</td>\n",
       "      <td>1.0</td>\n",
       "      <td>0.0</td>\n",
       "      <td>1.0</td>\n",
       "      <td>0.0</td>\n",
       "      <td>0.0</td>\n",
       "      <td>...</td>\n",
       "      <td>0.0</td>\n",
       "      <td>0.0</td>\n",
       "      <td>0.0</td>\n",
       "      <td>0.0</td>\n",
       "      <td>0.0</td>\n",
       "      <td>1.0</td>\n",
       "      <td>0.0</td>\n",
       "      <td>0.0</td>\n",
       "      <td>0.0</td>\n",
       "      <td>1.0</td>\n",
       "    </tr>\n",
       "    <tr>\n",
       "      <th>1</th>\n",
       "      <td>0.0</td>\n",
       "      <td>1.0</td>\n",
       "      <td>0.0</td>\n",
       "      <td>0.0</td>\n",
       "      <td>1.0</td>\n",
       "      <td>0.0</td>\n",
       "      <td>0.0</td>\n",
       "      <td>1.0</td>\n",
       "      <td>0.0</td>\n",
       "      <td>0.0</td>\n",
       "      <td>...</td>\n",
       "      <td>0.0</td>\n",
       "      <td>0.0</td>\n",
       "      <td>0.0</td>\n",
       "      <td>0.0</td>\n",
       "      <td>1.0</td>\n",
       "      <td>0.0</td>\n",
       "      <td>0.0</td>\n",
       "      <td>0.0</td>\n",
       "      <td>1.0</td>\n",
       "      <td>0.0</td>\n",
       "    </tr>\n",
       "    <tr>\n",
       "      <th>2</th>\n",
       "      <td>0.0</td>\n",
       "      <td>0.0</td>\n",
       "      <td>1.0</td>\n",
       "      <td>0.0</td>\n",
       "      <td>1.0</td>\n",
       "      <td>0.0</td>\n",
       "      <td>0.0</td>\n",
       "      <td>0.0</td>\n",
       "      <td>0.0</td>\n",
       "      <td>0.0</td>\n",
       "      <td>...</td>\n",
       "      <td>1.0</td>\n",
       "      <td>0.0</td>\n",
       "      <td>0.0</td>\n",
       "      <td>0.0</td>\n",
       "      <td>0.0</td>\n",
       "      <td>0.0</td>\n",
       "      <td>0.0</td>\n",
       "      <td>0.0</td>\n",
       "      <td>0.0</td>\n",
       "      <td>1.0</td>\n",
       "    </tr>\n",
       "    <tr>\n",
       "      <th>3</th>\n",
       "      <td>0.0</td>\n",
       "      <td>1.0</td>\n",
       "      <td>0.0</td>\n",
       "      <td>0.0</td>\n",
       "      <td>1.0</td>\n",
       "      <td>0.0</td>\n",
       "      <td>0.0</td>\n",
       "      <td>1.0</td>\n",
       "      <td>0.0</td>\n",
       "      <td>0.0</td>\n",
       "      <td>...</td>\n",
       "      <td>0.0</td>\n",
       "      <td>0.0</td>\n",
       "      <td>0.0</td>\n",
       "      <td>0.0</td>\n",
       "      <td>1.0</td>\n",
       "      <td>0.0</td>\n",
       "      <td>0.0</td>\n",
       "      <td>0.0</td>\n",
       "      <td>1.0</td>\n",
       "      <td>0.0</td>\n",
       "    </tr>\n",
       "    <tr>\n",
       "      <th>4</th>\n",
       "      <td>0.0</td>\n",
       "      <td>0.0</td>\n",
       "      <td>1.0</td>\n",
       "      <td>0.0</td>\n",
       "      <td>1.0</td>\n",
       "      <td>0.0</td>\n",
       "      <td>0.0</td>\n",
       "      <td>0.0</td>\n",
       "      <td>0.0</td>\n",
       "      <td>1.0</td>\n",
       "      <td>...</td>\n",
       "      <td>1.0</td>\n",
       "      <td>0.0</td>\n",
       "      <td>0.0</td>\n",
       "      <td>0.0</td>\n",
       "      <td>0.0</td>\n",
       "      <td>0.0</td>\n",
       "      <td>0.0</td>\n",
       "      <td>0.0</td>\n",
       "      <td>1.0</td>\n",
       "      <td>0.0</td>\n",
       "    </tr>\n",
       "  </tbody>\n",
       "</table>\n",
       "<p>5 rows × 24 columns</p>\n",
       "</div>"
      ],
      "text/plain": [
       "   BusinessTravel_Non-Travel  BusinessTravel_Travel_Frequently  \\\n",
       "0                        0.0                               0.0   \n",
       "1                        0.0                               1.0   \n",
       "2                        0.0                               0.0   \n",
       "3                        0.0                               1.0   \n",
       "4                        0.0                               0.0   \n",
       "\n",
       "   BusinessTravel_Travel_Rarely  Department_Human Resources  \\\n",
       "0                           1.0                         0.0   \n",
       "1                           0.0                         0.0   \n",
       "2                           1.0                         0.0   \n",
       "3                           0.0                         0.0   \n",
       "4                           1.0                         0.0   \n",
       "\n",
       "   Department_Research & Development  Department_Sales  \\\n",
       "0                                0.0               1.0   \n",
       "1                                1.0               0.0   \n",
       "2                                1.0               0.0   \n",
       "3                                1.0               0.0   \n",
       "4                                1.0               0.0   \n",
       "\n",
       "   EducationField_Human Resources  EducationField_Life Sciences  \\\n",
       "0                             0.0                           1.0   \n",
       "1                             0.0                           1.0   \n",
       "2                             0.0                           0.0   \n",
       "3                             0.0                           1.0   \n",
       "4                             0.0                           0.0   \n",
       "\n",
       "   EducationField_Marketing  EducationField_Medical  ...  \\\n",
       "0                       0.0                     0.0  ...   \n",
       "1                       0.0                     0.0  ...   \n",
       "2                       0.0                     0.0  ...   \n",
       "3                       0.0                     0.0  ...   \n",
       "4                       0.0                     1.0  ...   \n",
       "\n",
       "   JobRole_Laboratory Technician  JobRole_Manager  \\\n",
       "0                            0.0              0.0   \n",
       "1                            0.0              0.0   \n",
       "2                            1.0              0.0   \n",
       "3                            0.0              0.0   \n",
       "4                            1.0              0.0   \n",
       "\n",
       "   JobRole_Manufacturing Director  JobRole_Research Director  \\\n",
       "0                             0.0                        0.0   \n",
       "1                             0.0                        0.0   \n",
       "2                             0.0                        0.0   \n",
       "3                             0.0                        0.0   \n",
       "4                             0.0                        0.0   \n",
       "\n",
       "   JobRole_Research Scientist  JobRole_Sales Executive  \\\n",
       "0                         0.0                      1.0   \n",
       "1                         1.0                      0.0   \n",
       "2                         0.0                      0.0   \n",
       "3                         1.0                      0.0   \n",
       "4                         0.0                      0.0   \n",
       "\n",
       "   JobRole_Sales Representative  MaritalStatus_Divorced  \\\n",
       "0                           0.0                     0.0   \n",
       "1                           0.0                     0.0   \n",
       "2                           0.0                     0.0   \n",
       "3                           0.0                     0.0   \n",
       "4                           0.0                     0.0   \n",
       "\n",
       "   MaritalStatus_Married  MaritalStatus_Single  \n",
       "0                    0.0                   1.0  \n",
       "1                    1.0                   0.0  \n",
       "2                    0.0                   1.0  \n",
       "3                    1.0                   0.0  \n",
       "4                    1.0                   0.0  \n",
       "\n",
       "[5 rows x 24 columns]"
      ]
     },
     "execution_count": 13,
     "metadata": {},
     "output_type": "execute_result"
    }
   ],
   "source": [
    "# how the encoded data looks like\n",
    "encoded_data.head()"
   ]
  },
  {
   "cell_type": "code",
   "execution_count": 14,
   "id": "93466f2f",
   "metadata": {},
   "outputs": [
    {
     "data": {
      "text/html": [
       "<div>\n",
       "<style scoped>\n",
       "    .dataframe tbody tr th:only-of-type {\n",
       "        vertical-align: middle;\n",
       "    }\n",
       "\n",
       "    .dataframe tbody tr th {\n",
       "        vertical-align: top;\n",
       "    }\n",
       "\n",
       "    .dataframe thead th {\n",
       "        text-align: right;\n",
       "    }\n",
       "</style>\n",
       "<table border=\"1\" class=\"dataframe\">\n",
       "  <thead>\n",
       "    <tr style=\"text-align: right;\">\n",
       "      <th></th>\n",
       "      <th>BusinessTravel</th>\n",
       "      <th>Department</th>\n",
       "      <th>EducationField</th>\n",
       "      <th>JobRole</th>\n",
       "      <th>MaritalStatus</th>\n",
       "    </tr>\n",
       "  </thead>\n",
       "  <tbody>\n",
       "    <tr>\n",
       "      <th>0</th>\n",
       "      <td>Travel_Rarely</td>\n",
       "      <td>Sales</td>\n",
       "      <td>Life Sciences</td>\n",
       "      <td>Sales Executive</td>\n",
       "      <td>Single</td>\n",
       "    </tr>\n",
       "    <tr>\n",
       "      <th>1</th>\n",
       "      <td>Travel_Frequently</td>\n",
       "      <td>Research &amp; Development</td>\n",
       "      <td>Life Sciences</td>\n",
       "      <td>Research Scientist</td>\n",
       "      <td>Married</td>\n",
       "    </tr>\n",
       "    <tr>\n",
       "      <th>2</th>\n",
       "      <td>Travel_Rarely</td>\n",
       "      <td>Research &amp; Development</td>\n",
       "      <td>Other</td>\n",
       "      <td>Laboratory Technician</td>\n",
       "      <td>Single</td>\n",
       "    </tr>\n",
       "    <tr>\n",
       "      <th>3</th>\n",
       "      <td>Travel_Frequently</td>\n",
       "      <td>Research &amp; Development</td>\n",
       "      <td>Life Sciences</td>\n",
       "      <td>Research Scientist</td>\n",
       "      <td>Married</td>\n",
       "    </tr>\n",
       "    <tr>\n",
       "      <th>4</th>\n",
       "      <td>Travel_Rarely</td>\n",
       "      <td>Research &amp; Development</td>\n",
       "      <td>Medical</td>\n",
       "      <td>Laboratory Technician</td>\n",
       "      <td>Married</td>\n",
       "    </tr>\n",
       "  </tbody>\n",
       "</table>\n",
       "</div>"
      ],
      "text/plain": [
       "      BusinessTravel              Department EducationField  \\\n",
       "0      Travel_Rarely                   Sales  Life Sciences   \n",
       "1  Travel_Frequently  Research & Development  Life Sciences   \n",
       "2      Travel_Rarely  Research & Development          Other   \n",
       "3  Travel_Frequently  Research & Development  Life Sciences   \n",
       "4      Travel_Rarely  Research & Development        Medical   \n",
       "\n",
       "                 JobRole MaritalStatus  \n",
       "0        Sales Executive        Single  \n",
       "1     Research Scientist       Married  \n",
       "2  Laboratory Technician        Single  \n",
       "3     Research Scientist       Married  \n",
       "4  Laboratory Technician       Married  "
      ]
     },
     "execution_count": 14,
     "metadata": {},
     "output_type": "execute_result"
    }
   ],
   "source": [
    "# compare to original data\n",
    "df.select_dtypes(include=[\"object\"]).head()"
   ]
  },
  {
   "cell_type": "code",
   "execution_count": 15,
   "id": "72424f98",
   "metadata": {},
   "outputs": [],
   "source": [
    "# join the original data and the encoded data to a new dataframe\n",
    "new_df = pd.concat((df.drop(columns=categorical_cols).copy(), encoded_data), axis = 'columns')"
   ]
  },
  {
   "cell_type": "markdown",
   "id": "444441d4",
   "metadata": {},
   "source": [
    "## Modeling"
   ]
  },
  {
   "cell_type": "code",
   "execution_count": 16,
   "id": "adeb190f",
   "metadata": {},
   "outputs": [],
   "source": [
    "# separate target variable\n",
    "X = new_df.drop('Attrition', axis = 1)\n",
    "y = new_df['Attrition']"
   ]
  },
  {
   "cell_type": "markdown",
   "id": "6527a895",
   "metadata": {},
   "source": [
    "### Original (imbalanced data)\n",
    "#### train_test_split"
   ]
  },
  {
   "cell_type": "code",
   "execution_count": 17,
   "id": "b3d87a46",
   "metadata": {},
   "outputs": [],
   "source": [
    "# use stratify to keep the class ratio\n",
    "X_train, X_test, y_train, y_test = train_test_split(X, y, random_state = 42 , stratify = y, test_size = 0.2)"
   ]
  },
  {
   "cell_type": "markdown",
   "id": "e4be030f",
   "metadata": {},
   "source": [
    "#### remove identifiers"
   ]
  },
  {
   "cell_type": "code",
   "execution_count": 18,
   "id": "475fbe95",
   "metadata": {},
   "outputs": [],
   "source": [
    "train_identity = X_train['EmployeeNumber']\n",
    "X_train = X_train.drop(columns = ['EmployeeNumber'])\n",
    "\n",
    "test_identity = X_test['EmployeeNumber']\n",
    "X_test = X_test.drop(columns = ['EmployeeNumber'])"
   ]
  },
  {
   "cell_type": "markdown",
   "id": "1287ecd6",
   "metadata": {},
   "source": [
    "#### normalization"
   ]
  },
  {
   "cell_type": "code",
   "execution_count": 19,
   "id": "e9a6b801",
   "metadata": {},
   "outputs": [],
   "source": [
    "scaler = StandardScaler()\n",
    "\n",
    "X_train = pd.DataFrame(\n",
    "    scaler.fit_transform(X_train),\n",
    "    columns = X_train.columns,\n",
    "    index = X_train.index\n",
    ")\n",
    "\n",
    "X_test = pd.DataFrame(\n",
    "    scaler.transform(X_test),\n",
    "    columns = X_test.columns,\n",
    "    index = X_test.index\n",
    ")"
   ]
  },
  {
   "cell_type": "markdown",
   "id": "ace92652",
   "metadata": {},
   "source": [
    "#### evaluate model perfomance"
   ]
  },
  {
   "cell_type": "code",
   "execution_count": 20,
   "id": "1f20a923",
   "metadata": {},
   "outputs": [
    {
     "data": {
      "text/plain": [
       "RandomForestClassifier(random_state=42)"
      ]
     },
     "execution_count": 20,
     "metadata": {},
     "output_type": "execute_result"
    }
   ],
   "source": [
    "classifier = RandomForestClassifier(random_state=42)\n",
    "classifier.fit(X_train, y_train)"
   ]
  },
  {
   "cell_type": "code",
   "execution_count": 21,
   "id": "8d4e826f",
   "metadata": {},
   "outputs": [
    {
     "name": "stdout",
     "output_type": "stream",
     "text": [
      "Model accuracy: 84.0 %\n",
      "Model precision: 10.6 %\n"
     ]
    }
   ],
   "source": [
    "y_pred = classifier.predict(X_test)\n",
    "print(f'Model accuracy: {accuracy_score(y_pred, y_test) * 100:.1f} %')\n",
    "print(f'Model precision: {precision_score(y_pred, y_test) * 100:.1f} %')"
   ]
  },
  {
   "cell_type": "markdown",
   "id": "ac2d9a2e",
   "metadata": {},
   "source": [
    "- As can be seen the accuracy was as predicted while precision is terrible"
   ]
  },
  {
   "cell_type": "code",
   "execution_count": 22,
   "id": "ffc492e5",
   "metadata": {
    "scrolled": true
   },
   "outputs": [
    {
     "data": {
      "text/plain": [
       "<Figure size 2016x1440 with 0 Axes>"
      ]
     },
     "metadata": {},
     "output_type": "display_data"
    },
    {
     "data": {
      "image/png": "[encoded data removed]",
      "text/plain": [
       "<Figure size 432x288 with 2 Axes>"
      ]
     },
     "metadata": {
      "needs_background": "light"
     },
     "output_type": "display_data"
    }
   ],
   "source": [
    "# confusion matrix\n",
    "cm = confusion_matrix(y_test, y_pred)\n",
    "df_cm = pd.DataFrame(cm, index = (0, 1), columns = (0, 1))\n",
    "plt.figure(figsize = (28,20))\n",
    "fig, ax = plt.subplots()\n",
    "sns.set(font_scale=1.4)\n",
    "sns.heatmap(df_cm, annot=True, fmt='g', cmap=\"OrRd\")\n",
    "class_names=[0,1]\n",
    "tick_marks = np.arange(len(class_names))\n",
    "plt.tight_layout()\n",
    "\n",
    "plt.title('Confusion matrix\\n', y=1.1)\n",
    "plt.xticks(tick_marks, class_names)\n",
    "plt.yticks(tick_marks, class_names)\n",
    "ax.xaxis.set_label_position(\"top\")\n",
    "plt.ylabel('Actual label\\n')\n",
    "plt.xlabel('Predicted label\\n');"
   ]
  },
  {
   "cell_type": "markdown",
   "id": "e67190fe",
   "metadata": {},
   "source": [
    "### Handling the inbalance\n",
    "We are going to use ADASYN (Adaptive Synthetic Sampling) algorithm to create us more minority samples thus balancing the dataset. It uses a density distribution as a criterion to automatically decide the number of synthetic samples that must be generated for each minority sample. This will help the models learning process and give more precice results."
   ]
  },
  {
   "cell_type": "code",
   "execution_count": 23,
   "id": "edec2ad7",
   "metadata": {},
   "outputs": [],
   "source": [
    "# balancing the dataset (minority oversampling)\n",
    "ada = ADASYN()\n",
    "X, y = ada.fit_resample(X, y)"
   ]
  },
  {
   "cell_type": "code",
   "execution_count": 24,
   "id": "853edc9e",
   "metadata": {},
   "outputs": [],
   "source": [
    "# use stratify to keep the class ratio\n",
    "X_train, X_test, y_train, y_test = train_test_split(X, y, random_state = 42 , stratify = y, test_size = 0.2)"
   ]
  },
  {
   "cell_type": "markdown",
   "id": "912fed46",
   "metadata": {},
   "source": [
    "#### remove identifiers"
   ]
  },
  {
   "cell_type": "code",
   "execution_count": 25,
   "id": "73824a99",
   "metadata": {},
   "outputs": [],
   "source": [
    "train_identity = X_train['EmployeeNumber']\n",
    "X_train = X_train.drop(columns = ['EmployeeNumber'])\n",
    "\n",
    "test_identity = X_test['EmployeeNumber']\n",
    "X_test = X_test.drop(columns = ['EmployeeNumber'])"
   ]
  },
  {
   "cell_type": "markdown",
   "id": "8a701828",
   "metadata": {},
   "source": [
    "#### normalization"
   ]
  },
  {
   "cell_type": "code",
   "execution_count": 26,
   "id": "fdee39ce",
   "metadata": {},
   "outputs": [],
   "source": [
    "scaler = StandardScaler()\n",
    "\n",
    "X_train = pd.DataFrame(\n",
    "    scaler.fit_transform(X_train),\n",
    "    columns = X_train.columns,\n",
    "    index = X_train.index\n",
    ")\n",
    "\n",
    "X_test = pd.DataFrame(\n",
    "    scaler.transform(X_test),\n",
    "    columns = X_test.columns,\n",
    "    index = X_test.index\n",
    ")"
   ]
  },
  {
   "cell_type": "markdown",
   "id": "e84649c2",
   "metadata": {},
   "source": [
    "#### evaluate model performance"
   ]
  },
  {
   "cell_type": "code",
   "execution_count": 27,
   "id": "aa9c8c47",
   "metadata": {},
   "outputs": [],
   "source": [
    "classifier = RandomForestClassifier(random_state=42)\n",
    "classifier.fit(X_train, y_train)\n",
    "\n",
    "classifier.feature_names = list(X_train.columns.values)"
   ]
  },
  {
   "cell_type": "code",
   "execution_count": 28,
   "id": "9a2b800f",
   "metadata": {
    "scrolled": true
   },
   "outputs": [
    {
     "name": "stdout",
     "output_type": "stream",
     "text": [
      "Model accuracy: 91.3 %\n",
      "Model precision: 86.4 %\n"
     ]
    }
   ],
   "source": [
    "y_pred = classifier.predict(X_test)\n",
    "print(f'Model accuracy: {accuracy_score(y_pred, y_test) * 100:.1f} %')\n",
    "print(f'Model precision: {precision_score(y_pred, y_test) * 100:.1f} %')"
   ]
  },
  {
   "cell_type": "markdown",
   "id": "973e5251",
   "metadata": {},
   "source": [
    "- This synthetically balanced data yields very good results!"
   ]
  },
  {
   "cell_type": "markdown",
   "id": "5b1553db",
   "metadata": {},
   "source": [
    "## tuningia tähä viel ja vertailut\n",
    "- ja sit myös vertailuu vaik 3 eri menetelmää\n",
    "- ja hyperparametertuning opengridcv"
   ]
  },
  {
   "cell_type": "code",
   "execution_count": 29,
   "id": "552275ad",
   "metadata": {
    "scrolled": true
   },
   "outputs": [
    {
     "data": {
      "text/plain": [
       "<Figure size 2016x1440 with 0 Axes>"
      ]
     },
     "metadata": {},
     "output_type": "display_data"
    },
    {
     "data": {
      "image/png": "[encoded data removed]",
      "text/plain": [
       "<Figure size 432x288 with 2 Axes>"
      ]
     },
     "metadata": {},
     "output_type": "display_data"
    }
   ],
   "source": [
    "# confusion matrix\n",
    "cm = confusion_matrix(y_test, y_pred)\n",
    "df_cm = pd.DataFrame(cm, index = (0, 1), columns = (0, 1))\n",
    "plt.figure(figsize = (28,20))\n",
    "fig, ax = plt.subplots()\n",
    "sns.set(font_scale=1.4)\n",
    "sns.heatmap(df_cm, annot=True, fmt='g', cmap=\"OrRd\")\n",
    "class_names=[0,1]\n",
    "tick_marks = np.arange(len(class_names))\n",
    "plt.tight_layout()\n",
    "\n",
    "plt.title('Confusion matrix\\n', y=1.1)\n",
    "plt.xticks(tick_marks, class_names)\n",
    "plt.yticks(tick_marks, class_names)\n",
    "ax.xaxis.set_label_position(\"top\")\n",
    "plt.ylabel('Actual label\\n')\n",
    "plt.xlabel('Predicted label\\n');"
   ]
  },
  {
   "cell_type": "markdown",
   "id": "daac1f49",
   "metadata": {},
   "source": [
    "## I will continue the analysis with the ASDYN balanced data since it gave more accurate results"
   ]
  },
  {
   "cell_type": "code",
   "execution_count": 30,
   "id": "cde2b088",
   "metadata": {},
   "outputs": [],
   "source": [
    "# get feature importances\n",
    "f_names = classifier.feature_names\n",
    "f_imp = classifier.feature_importances_\n",
    "\n",
    "# sort\n",
    "sortedIndex = list(np.argsort(f_imp))[::-1]\n",
    "\n",
    "# top 10 sorted\n",
    "f_imp = [f_imp[i] for i in sortedIndex][:10]\n",
    "f_names = [f_names[i] for i in sortedIndex][:10]"
   ]
  },
  {
   "cell_type": "code",
   "execution_count": 31,
   "id": "c8638a83",
   "metadata": {
    "scrolled": true
   },
   "outputs": [
    {
     "data": {
      "text/plain": [
       "Text(0.5, 1.03, 'Most important features')"
      ]
     },
     "execution_count": 31,
     "metadata": {},
     "output_type": "execute_result"
    },
    {
     "data": {
      "image/png": "[encoded data removed]",
      "text/plain": [
       "<Figure size 720x576 with 1 Axes>"
      ]
     },
     "metadata": {},
     "output_type": "display_data"
    }
   ],
   "source": [
    "# plot\n",
    "plt.figure(figsize=(10,8))\n",
    "plt.barh(f_names[::-1], f_imp[::-1])\n",
    "plt.title(\"Most important features\", y=1.03, fontsize=22)"
   ]
  },
  {
   "cell_type": "markdown",
   "id": "b1fa5bea",
   "metadata": {},
   "source": [
    "## Grouped data (churned / not churned) \n",
    "### filtered by most important features from the model"
   ]
  },
  {
   "cell_type": "code",
   "execution_count": 32,
   "id": "f843298d",
   "metadata": {},
   "outputs": [],
   "source": [
    "cols = ['MaritalStatus', 'MonthlyIncome', 'StockOptionLevel', 'JobInvolvement',\n",
    "        'Department', 'JobSatisfaction', 'TotalWorkingYears', 'Age', 'Attrition']"
   ]
  },
  {
   "cell_type": "code",
   "execution_count": 33,
   "id": "8d3c0030",
   "metadata": {
    "scrolled": false
   },
   "outputs": [
    {
     "data": {
      "text/html": [
       "<div>\n",
       "<style scoped>\n",
       "    .dataframe tbody tr th:only-of-type {\n",
       "        vertical-align: middle;\n",
       "    }\n",
       "\n",
       "    .dataframe tbody tr th {\n",
       "        vertical-align: top;\n",
       "    }\n",
       "\n",
       "    .dataframe thead th {\n",
       "        text-align: right;\n",
       "    }\n",
       "</style>\n",
       "<table border=\"1\" class=\"dataframe\">\n",
       "  <thead>\n",
       "    <tr style=\"text-align: right;\">\n",
       "      <th></th>\n",
       "      <th>MonthlyIncome</th>\n",
       "      <th>StockOptionLevel</th>\n",
       "      <th>JobInvolvement</th>\n",
       "      <th>JobSatisfaction</th>\n",
       "      <th>TotalWorkingYears</th>\n",
       "      <th>Age</th>\n",
       "    </tr>\n",
       "    <tr>\n",
       "      <th>Churned</th>\n",
       "      <th></th>\n",
       "      <th></th>\n",
       "      <th></th>\n",
       "      <th></th>\n",
       "      <th></th>\n",
       "      <th></th>\n",
       "    </tr>\n",
       "  </thead>\n",
       "  <tbody>\n",
       "    <tr>\n",
       "      <th>No</th>\n",
       "      <td>6832.74</td>\n",
       "      <td>0.85</td>\n",
       "      <td>2.77</td>\n",
       "      <td>2.78</td>\n",
       "      <td>11.86</td>\n",
       "      <td>37.56</td>\n",
       "    </tr>\n",
       "    <tr>\n",
       "      <th>Yes</th>\n",
       "      <td>4787.09</td>\n",
       "      <td>0.53</td>\n",
       "      <td>2.52</td>\n",
       "      <td>2.47</td>\n",
       "      <td>8.24</td>\n",
       "      <td>33.61</td>\n",
       "    </tr>\n",
       "  </tbody>\n",
       "</table>\n",
       "</div>"
      ],
      "text/plain": [
       "         MonthlyIncome  StockOptionLevel  JobInvolvement  JobSatisfaction  \\\n",
       "Churned                                                                     \n",
       "No             6832.74              0.85            2.77             2.78   \n",
       "Yes            4787.09              0.53            2.52             2.47   \n",
       "\n",
       "         TotalWorkingYears    Age  \n",
       "Churned                            \n",
       "No                   11.86  37.56  \n",
       "Yes                   8.24  33.61  "
      ]
     },
     "execution_count": 33,
     "metadata": {},
     "output_type": "execute_result"
    }
   ],
   "source": [
    "view = df[cols].copy()\n",
    "view['Attrition'] = view['Attrition'].map({0: 'No', 1: 'Yes'})\n",
    "view.rename(columns={'Attrition': 'Churned'}, inplace = True)\n",
    "round(view.groupby('Churned').mean(), 2)"
   ]
  },
  {
   "cell_type": "markdown",
   "id": "b5839d3c",
   "metadata": {},
   "source": [
    "### Categorical variables"
   ]
  },
  {
   "cell_type": "code",
   "execution_count": 34,
   "id": "232bcb19",
   "metadata": {
    "scrolled": false
   },
   "outputs": [],
   "source": [
    "cat_view_churned = view[view['Churned'] == \"Yes\"]\n",
    "cat_view_not_churned = view[view['Churned'] == \"No\"]"
   ]
  },
  {
   "cell_type": "code",
   "execution_count": 35,
   "id": "23a6f892",
   "metadata": {
    "scrolled": true
   },
   "outputs": [
    {
     "data": {
      "text/plain": [
       "Single      120\n",
       "Married      84\n",
       "Divorced     33\n",
       "Name: MaritalStatus, dtype: int64"
      ]
     },
     "execution_count": 35,
     "metadata": {},
     "output_type": "execute_result"
    }
   ],
   "source": [
    "cat_view_churned['MaritalStatus'].value_counts()"
   ]
  },
  {
   "cell_type": "code",
   "execution_count": 36,
   "id": "b9454dec",
   "metadata": {
    "scrolled": true
   },
   "outputs": [
    {
     "data": {
      "text/plain": [
       "Married     589\n",
       "Single      350\n",
       "Divorced    294\n",
       "Name: MaritalStatus, dtype: int64"
      ]
     },
     "execution_count": 36,
     "metadata": {},
     "output_type": "execute_result"
    }
   ],
   "source": [
    "cat_view_not_churned['MaritalStatus'].value_counts()"
   ]
  },
  {
   "cell_type": "markdown",
   "id": "3aaf3216",
   "metadata": {},
   "source": [
    "- The order of Single / Married is reversed depending on if the employee has churned or not"
   ]
  },
  {
   "cell_type": "code",
   "execution_count": 100,
   "id": "72911bb3",
   "metadata": {
    "scrolled": true
   },
   "outputs": [
    {
     "data": {
      "text/plain": [
       "Research & Development    133\n",
       "Sales                      92\n",
       "Human Resources            12\n",
       "Name: Department, dtype: int64"
      ]
     },
     "execution_count": 100,
     "metadata": {},
     "output_type": "execute_result"
    }
   ],
   "source": [
    "cat_view_churned['Department'].value_counts()"
   ]
  },
  {
   "cell_type": "code",
   "execution_count": 101,
   "id": "e587c448",
   "metadata": {},
   "outputs": [
    {
     "data": {
      "text/plain": [
       "Research & Development    828\n",
       "Sales                     354\n",
       "Human Resources            51\n",
       "Name: Department, dtype: int64"
      ]
     },
     "execution_count": 101,
     "metadata": {},
     "output_type": "execute_result"
    }
   ],
   "source": [
    "cat_view_not_churned['Department'].value_counts()"
   ]
  },
  {
   "cell_type": "markdown",
   "id": "e460ead1",
   "metadata": {},
   "source": [
    "### According to observations from this dataset, the following factors raise the chance of employee churn:\n",
    "- Not being in a relationship\n",
    "- Low monthly income compared to peers\n",
    "- Low stock option level compared to peers\n",
    "- Lower job involvement score\n",
    "- Lower job satisfaction score\n",
    "- Lower total working years and age"
   ]
  },
  {
   "cell_type": "markdown",
   "id": "0533418b",
   "metadata": {},
   "source": [
    "### What makes employee not to churn?\n",
    "- Being in a relationship seems to make churning less likely\n",
    "- Higher income\n",
    "- Higher stock option level\n",
    "- Higher scores in job involvement and job satisfaction\n",
    "- Higher total working years and age"
   ]
  },
  {
   "cell_type": "markdown",
   "id": "86dba5f1",
   "metadata": {},
   "source": [
    "### Deeper insights (plot comparison)"
   ]
  },
  {
   "cell_type": "code",
   "execution_count": 110,
   "id": "e020ba0a",
   "metadata": {
    "scrolled": false
   },
   "outputs": [
    {
     "data": {
      "image/png": "[encoded data removed]",
      "text/plain": [
       "<Figure size 1440x360 with 2 Axes>"
      ]
     },
     "metadata": {},
     "output_type": "display_data"
    }
   ],
   "source": [
    "features = ['MaritalStatus', 'Department'] # from most important features the model found earlier\n",
    "\n",
    "fig=plt.subplots(figsize=(20,5))\n",
    "\n",
    "for i, f in enumerate(features):\n",
    "    plt.subplot(1, 2, i+1)\n",
    "    plt.subplots_adjust(wspace = 2)\n",
    "    sns.countplot(x = f, data = df, hue = 'Attrition')\n",
    "    plt.xlabel(\"\")\n",
    "    plt.title(f, fontsize=22, y = 1.03)\n",
    "    plt.tight_layout() "
   ]
  },
  {
   "cell_type": "code",
   "execution_count": 155,
   "id": "4b13f413",
   "metadata": {
    "scrolled": true
   },
   "outputs": [
    {
     "data": {
      "image/png": "[encoded data removed]",
      "text/plain": [
       "<Figure size 1440x720 with 6 Axes>"
      ]
     },
     "metadata": {},
     "output_type": "display_data"
    }
   ],
   "source": [
    "dist_features = [x for x in cols if x not in features] \n",
    "\n",
    "fig=plt.subplots(figsize=(20,10))\n",
    "sns.set_style('whitegrid')\n",
    "\n",
    "for i, f in enumerate(dist_features[:-1]): # leaving out Attrition\n",
    "    plt.subplot(3, 2, i + 1)\n",
    "    plt.subplots_adjust(wspace = 2, hspace = 1)   \n",
    "    sns.histplot(x = f, data=df, hue = 'Attrition') \n",
    "    plt.xlabel(\"\")\n",
    "    plt.title(f, fontsize=22, y = 1.03)\n",
    "    plt.tight_layout()   \n",
    "    \n"
   ]
  },
  {
   "cell_type": "markdown",
   "id": "4cc7bac6",
   "metadata": {},
   "source": [
    "#### Insights from the graphs (churn)\n",
    "- low pay\n",
    "- low stock option level\n",
    "- low involvement\n",
    "- low satisfaction\n",
    "- new employees tend to churn more easily: the highest churn happens in the first year\n",
    "- young employees (under 40) churn more easily"
   ]
  }
 ],
 "metadata": {
  "kernelspec": {
   "display_name": "Python 3 (ipykernel)",
   "language": "python",
   "name": "python3"
  },
  "language_info": {
   "codemirror_mode": {
    "name": "ipython",
    "version": 3
   },
   "file_extension": ".py",
   "mimetype": "text/x-python",
   "name": "python",
   "nbconvert_exporter": "python",
   "pygments_lexer": "ipython3",
   "version": "3.9.12"
  }
 },
 "nbformat": 4,
 "nbformat_minor": 5
}
