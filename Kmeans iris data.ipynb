{
 "cells": [
  {
   "cell_type": "markdown",
   "id": "8d319d44",
   "metadata": {},
   "source": [
    "# K-Means clustering with Iris-dataset\n",
    "\n",
    "## Link to original dataset\n",
    "https://archive.ics.uci.edu/ml/datasets/iris"
   ]
  },
  {
   "cell_type": "markdown",
   "id": "0bcf0982",
   "metadata": {},
   "source": [
    "### Load the data"
   ]
  },
  {
   "cell_type": "code",
   "execution_count": 1,
   "id": "518eae83",
   "metadata": {},
   "outputs": [],
   "source": [
    "# imports\n",
    "import pandas as pd\n",
    "from matplotlib import pyplot as plt\n",
    "from sklearn.datasets import load_iris\n",
    "from sklearn.cluster import KMeans\n",
    "from sklearn.preprocessing import StandardScaler"
   ]
  },
  {
   "cell_type": "code",
   "execution_count": 2,
   "id": "96b16b4e",
   "metadata": {},
   "outputs": [],
   "source": [
    "# load dataset\n",
    "iris = load_iris()"
   ]
  },
  {
   "cell_type": "code",
   "execution_count": 3,
   "id": "250d716b",
   "metadata": {},
   "outputs": [],
   "source": [
    "# create DataFrame\n",
    "df = pd.DataFrame(iris.data, columns=['P Length', 'P Width', 'S Length', 'S Width'])"
   ]
  },
  {
   "cell_type": "code",
   "execution_count": 4,
   "id": "c6793ddf",
   "metadata": {},
   "outputs": [
    {
     "data": {
      "text/html": [
       "<div>\n",
       "<style scoped>\n",
       "    .dataframe tbody tr th:only-of-type {\n",
       "        vertical-align: middle;\n",
       "    }\n",
       "\n",
       "    .dataframe tbody tr th {\n",
       "        vertical-align: top;\n",
       "    }\n",
       "\n",
       "    .dataframe thead th {\n",
       "        text-align: right;\n",
       "    }\n",
       "</style>\n",
       "<table border=\"1\" class=\"dataframe\">\n",
       "  <thead>\n",
       "    <tr style=\"text-align: right;\">\n",
       "      <th></th>\n",
       "      <th>P Length</th>\n",
       "      <th>P Width</th>\n",
       "      <th>S Length</th>\n",
       "      <th>S Width</th>\n",
       "    </tr>\n",
       "  </thead>\n",
       "  <tbody>\n",
       "    <tr>\n",
       "      <th>0</th>\n",
       "      <td>5.1</td>\n",
       "      <td>3.5</td>\n",
       "      <td>1.4</td>\n",
       "      <td>0.2</td>\n",
       "    </tr>\n",
       "    <tr>\n",
       "      <th>1</th>\n",
       "      <td>4.9</td>\n",
       "      <td>3.0</td>\n",
       "      <td>1.4</td>\n",
       "      <td>0.2</td>\n",
       "    </tr>\n",
       "    <tr>\n",
       "      <th>2</th>\n",
       "      <td>4.7</td>\n",
       "      <td>3.2</td>\n",
       "      <td>1.3</td>\n",
       "      <td>0.2</td>\n",
       "    </tr>\n",
       "    <tr>\n",
       "      <th>3</th>\n",
       "      <td>4.6</td>\n",
       "      <td>3.1</td>\n",
       "      <td>1.5</td>\n",
       "      <td>0.2</td>\n",
       "    </tr>\n",
       "    <tr>\n",
       "      <th>4</th>\n",
       "      <td>5.0</td>\n",
       "      <td>3.6</td>\n",
       "      <td>1.4</td>\n",
       "      <td>0.2</td>\n",
       "    </tr>\n",
       "  </tbody>\n",
       "</table>\n",
       "</div>"
      ],
      "text/plain": [
       "   P Length  P Width  S Length  S Width\n",
       "0       5.1      3.5       1.4      0.2\n",
       "1       4.9      3.0       1.4      0.2\n",
       "2       4.7      3.2       1.3      0.2\n",
       "3       4.6      3.1       1.5      0.2\n",
       "4       5.0      3.6       1.4      0.2"
      ]
     },
     "execution_count": 4,
     "metadata": {},
     "output_type": "execute_result"
    }
   ],
   "source": [
    "# preview the df\n",
    "df.head()"
   ]
  },
  {
   "cell_type": "markdown",
   "id": "14b1cc52",
   "metadata": {},
   "source": [
    "### Scaling the data for better results\n",
    "- Usually always recommended with machine learning models"
   ]
  },
  {
   "cell_type": "code",
   "execution_count": 5,
   "id": "8d53dd01",
   "metadata": {},
   "outputs": [],
   "source": [
    "ss = StandardScaler() # common scaler.. other option might be MinMaxScaler\n",
    "df_scaled = pd.DataFrame(ss.fit_transform(df),\n",
    "                         columns = df.columns,\n",
    "                         index = df.index) # give columns and index separately because they are lost in the scaling process"
   ]
  },
  {
   "cell_type": "markdown",
   "id": "4e35907d",
   "metadata": {},
   "source": [
    "### create and fit model\n",
    "\n",
    "- Number of clusters is known to be 3 with this dataset so I'll just use that. \n",
    "- If the number of clusters is not known google for: elbow method, silhouette score"
   ]
  },
  {
   "cell_type": "code",
   "execution_count": 6,
   "id": "c7c6c695",
   "metadata": {},
   "outputs": [],
   "source": [
    "# create model\n",
    "km = KMeans(n_clusters = 3, random_state = 42) # random_state is used as a seed to make result reproducible\n",
    "\n",
    "# fit the model to your data\n",
    "km.fit(df_scaled) \n",
    "\n",
    "# get predicted labels (same as later km.labels_)\n",
    "y_km = km.fit_predict(df_scaled) "
   ]
  },
  {
   "cell_type": "code",
   "execution_count": 7,
   "id": "86903b0d",
   "metadata": {},
   "outputs": [],
   "source": [
    "# make a copy of original dataframe – I don't want my changes to affect the original dataframe since I'll use it later\n",
    "df2 = df_scaled.copy()\n",
    "\n",
    "# give labels to specimen\n",
    "df2['K-Means label'] = km.labels_ #get the model generated labels out from labels_ -attribute"
   ]
  },
  {
   "cell_type": "markdown",
   "id": "d047ee2a",
   "metadata": {},
   "source": [
    "### view the data"
   ]
  },
  {
   "cell_type": "code",
   "execution_count": 8,
   "id": "78b23d3b",
   "metadata": {
    "scrolled": true
   },
   "outputs": [
    {
     "data": {
      "text/html": [
       "<div>\n",
       "<style scoped>\n",
       "    .dataframe tbody tr th:only-of-type {\n",
       "        vertical-align: middle;\n",
       "    }\n",
       "\n",
       "    .dataframe tbody tr th {\n",
       "        vertical-align: top;\n",
       "    }\n",
       "\n",
       "    .dataframe thead th {\n",
       "        text-align: right;\n",
       "    }\n",
       "</style>\n",
       "<table border=\"1\" class=\"dataframe\">\n",
       "  <thead>\n",
       "    <tr style=\"text-align: right;\">\n",
       "      <th></th>\n",
       "      <th>P Length</th>\n",
       "      <th>P Width</th>\n",
       "      <th>S Length</th>\n",
       "      <th>S Width</th>\n",
       "    </tr>\n",
       "    <tr>\n",
       "      <th>K-Means label</th>\n",
       "      <th></th>\n",
       "      <th></th>\n",
       "      <th></th>\n",
       "      <th></th>\n",
       "    </tr>\n",
       "  </thead>\n",
       "  <tbody>\n",
       "    <tr>\n",
       "      <th>0</th>\n",
       "      <td>1.14</td>\n",
       "      <td>0.09</td>\n",
       "      <td>1.00</td>\n",
       "      <td>1.02</td>\n",
       "    </tr>\n",
       "    <tr>\n",
       "      <th>1</th>\n",
       "      <td>-1.01</td>\n",
       "      <td>0.85</td>\n",
       "      <td>-1.30</td>\n",
       "      <td>-1.25</td>\n",
       "    </tr>\n",
       "    <tr>\n",
       "      <th>2</th>\n",
       "      <td>-0.05</td>\n",
       "      <td>-0.88</td>\n",
       "      <td>0.35</td>\n",
       "      <td>0.28</td>\n",
       "    </tr>\n",
       "  </tbody>\n",
       "</table>\n",
       "</div>"
      ],
      "text/plain": [
       "               P Length  P Width  S Length  S Width\n",
       "K-Means label                                      \n",
       "0                  1.14     0.09      1.00     1.02\n",
       "1                 -1.01     0.85     -1.30    -1.25\n",
       "2                 -0.05    -0.88      0.35     0.28"
      ]
     },
     "execution_count": 8,
     "metadata": {},
     "output_type": "execute_result"
    }
   ],
   "source": [
    "# groupby requires aggregate function (here I use mean) to be used with it\n",
    "round(df2.groupby('K-Means label').mean(), 2) #round makes the numbers more readable"
   ]
  },
  {
   "cell_type": "code",
   "execution_count": 22,
   "id": "ac9500c8",
   "metadata": {
    "scrolled": false
   },
   "outputs": [
    {
     "data": {
      "image/png": "[encoded data removed]",
      "text/plain": [
       "<Figure size 432x288 with 1 Axes>"
      ]
     },
     "metadata": {
      "needs_background": "light"
     },
     "output_type": "display_data"
    }
   ],
   "source": [
    "# plot scaled data with clustering\n",
    "# here I \"slice\" the data with a mask/filter\n",
    "# first scatter plot is made by using the cluster-label == 0\n",
    "# second with cluster-label == 1 \n",
    "# etc\n",
    "\n",
    "# petals\n",
    "plt.scatter(df_scaled[y_km == 0].iloc[:,0], df_scaled[y_km == 0].iloc[:,1], c = 'red', label = 'Iris-setosa')\n",
    "plt.scatter(df_scaled[y_km == 1].iloc[:,0], df_scaled[y_km == 1].iloc[:,1], c = 'green', label = 'Iris-versicolour')\n",
    "plt.scatter(df_scaled[y_km == 2].iloc[:,0], df_scaled[y_km == 2].iloc[:,1], c = 'blue', label = 'Iris-virginica')\n",
    "\n",
    "# sepals\n",
    "plt.scatter(df_scaled[y_km == 0].iloc[:,2], df_scaled[y_km == 0].iloc[:,3], c = 'red')\n",
    "plt.scatter(df_scaled[y_km == 1].iloc[:,2], df_scaled[y_km == 1].iloc[:,3], c = 'green')\n",
    "plt.scatter(df_scaled[y_km == 2].iloc[:,2], df_scaled[y_km == 2].iloc[:,3], c = 'blue')\n",
    "\n",
    "plt.legend() #makes the labels visible in the plot\n",
    "plt.show()"
   ]
  },
  {
   "cell_type": "markdown",
   "id": "f59dcc17",
   "metadata": {},
   "source": [
    "### Comparing"
   ]
  },
  {
   "cell_type": "code",
   "execution_count": 11,
   "id": "549fcbd6",
   "metadata": {
    "scrolled": true
   },
   "outputs": [
    {
     "data": {
      "image/png": "[encoded data removed]",
      "text/plain": [
       "<Figure size 432x288 with 1 Axes>"
      ]
     },
     "metadata": {
      "needs_background": "light"
     },
     "output_type": "display_data"
    }
   ],
   "source": [
    "# plot original data\n",
    "plt.scatter(df.iloc[:,0], df.iloc[:,1], c=\"blue\") # P length, P Width\n",
    "plt.scatter(df.iloc[:,2], df.iloc[:,3], c=\"blue\") # S Length, S Width\n",
    "plt.show()"
   ]
  },
  {
   "cell_type": "code",
   "execution_count": 12,
   "id": "537fb1fa",
   "metadata": {},
   "outputs": [
    {
     "data": {
      "image/png": "[encoded data removed]",
      "text/plain": [
       "<Figure size 432x288 with 1 Axes>"
      ]
     },
     "metadata": {
      "needs_background": "light"
     },
     "output_type": "display_data"
    }
   ],
   "source": [
    "# plot scaled data without clustering\n",
    "plt.scatter(df_scaled.iloc[:,0], df_scaled.iloc[:,1], c=\"green\") # P length, P Width\n",
    "plt.scatter(df_scaled.iloc[:,2], df_scaled.iloc[:,3], c=\"green\") # S Length, S Width\n",
    "plt.show()"
   ]
  }
 ],
 "metadata": {
  "kernelspec": {
   "display_name": "Python 3 (ipykernel)",
   "language": "python",
   "name": "python3"
  },
  "language_info": {
   "codemirror_mode": {
    "name": "ipython",
    "version": 3
   },
   "file_extension": ".py",
   "mimetype": "text/x-python",
   "name": "python",
   "nbconvert_exporter": "python",
   "pygments_lexer": "ipython3",
   "version": "3.9.12"
  }
 },
 "nbformat": 4,
 "nbformat_minor": 5
}
